{
  "cells": [
    {
      "attachments": {},
      "cell_type": "markdown",
      "metadata": {
        "id": "TNNeZ7zrrsUp"
      },
      "source": [
        "# TextBlob Coding Help!\n",
        "\n",
        "## Import the required data bases"
      ]
    },
    {
      "cell_type": "code",
      "execution_count": 32,
      "metadata": {
        "id": "qss9MVzlCzHX"
      },
      "outputs": [],
      "source": [
        "import pandas as pd\n",
        "import sqlalchemy as db"
      ]
    },
    {
      "attachments": {},
      "cell_type": "markdown",
      "metadata": {
        "id": "fCtY4TCxltTz"
      },
      "source": [
        "## Getting the files"
      ]
    },
    {
      "cell_type": "code",
      "execution_count": 33,
      "metadata": {
        "id": "1wqM-BjGiV9O"
      },
      "outputs": [],
      "source": [
        "pmfeedback = pd.read_csv(\"https://raw.githubusercontent.com/casbdai/notebooks2023/main/Module2/HypeCase/pmfeedback.csv\")"
      ]
    },
    {
      "cell_type": "code",
      "execution_count": 34,
      "metadata": {
        "colab": {
          "base_uri": "https://localhost:8080/"
        },
        "id": "2JdM2J9-Cx0-",
        "outputId": "5219d536-827b-4ae3-a314-4d2d103d7a8f"
      },
      "outputs": [
        {
          "name": "stdout",
          "output_type": "stream",
          "text": [
            "--2023-06-29 01:36:37--  https://github.com/casbdai/notebooks2023/raw/main/Module2/HypeCase/hypedb\n",
            "Resolving github.com (github.com)... 140.82.121.3\n",
            "Connecting to github.com (github.com)|140.82.121.3|:443... "
          ]
        },
        {
          "name": "stdout",
          "output_type": "stream",
          "text": [
            "connected.\n",
            "HTTP request sent, awaiting response... 302 Found\n",
            "Location: https://raw.githubusercontent.com/casbdai/notebooks2023/main/Module2/HypeCase/hypedb [following]\n",
            "--2023-06-29 01:36:37--  https://raw.githubusercontent.com/casbdai/notebooks2023/main/Module2/HypeCase/hypedb\n",
            "Resolving raw.githubusercontent.com (raw.githubusercontent.com)... 185.199.109.133, 185.199.110.133, 185.199.111.133, ...\n",
            "Connecting to raw.githubusercontent.com (raw.githubusercontent.com)|185.199.109.133|:443... connected.\n",
            "HTTP request sent, awaiting response... 200 OK\n",
            "Length: 286720 (280K) [application/octet-stream]\n",
            "Saving to: ‘hypedb.4’\n",
            "\n",
            "hypedb.4            100%[===================>] 280.00K  --.-KB/s    in 0.1s    \n",
            "\n",
            "2023-06-29 01:36:37 (2.25 MB/s) - ‘hypedb.4’ saved [286720/286720]\n",
            "\n"
          ]
        }
      ],
      "source": [
        "!wget https://github.com/casbdai/notebooks2023/raw/main/Module2/HypeCase/hypedb\n",
        "engine = db.create_engine(\"sqlite:///hypedb\")"
      ]
    },
    {
      "cell_type": "code",
      "execution_count": 35,
      "metadata": {
        "colab": {
          "base_uri": "https://localhost:8080/"
        },
        "id": "iFU6R5ZLjs9V",
        "outputId": "ccbcacac-9631-4880-d07d-9c706c60dd43"
      },
      "outputs": [
        {
          "data": {
            "text/plain": [
              "['comments', 'ideas']"
            ]
          },
          "execution_count": 35,
          "metadata": {},
          "output_type": "execute_result"
        }
      ],
      "source": [
        "inspector = db.inspect(engine)\n",
        "inspector.get_table_names()"
      ]
    },
    {
      "attachments": {},
      "cell_type": "markdown",
      "metadata": {
        "id": "qN5o9Uunl3P3"
      },
      "source": [
        "## Applying Textblob\n",
        "\n",
        "Run the following code to initialize TextBlob:"
      ]
    },
    {
      "cell_type": "code",
      "execution_count": 36,
      "metadata": {
        "colab": {
          "base_uri": "https://localhost:8080/"
        },
        "id": "X_OMR--8Cchw",
        "outputId": "e3120599-ba88-4ce6-af85-f7d75656f7b1"
      },
      "outputs": [
        {
          "name": "stdout",
          "output_type": "stream",
          "text": [
            "Requirement already satisfied: textblob in ./venv_lm2/lib/python3.10/site-packages (0.17.1)\n",
            "Requirement already satisfied: nltk>=3.1 in ./venv_lm2/lib/python3.10/site-packages (from textblob) (3.8.1)\n",
            "Requirement already satisfied: regex>=2021.8.3 in ./venv_lm2/lib/python3.10/site-packages (from nltk>=3.1->textblob) (2023.6.3)\n",
            "Requirement already satisfied: tqdm in ./venv_lm2/lib/python3.10/site-packages (from nltk>=3.1->textblob) (4.65.0)\n",
            "Requirement already satisfied: joblib in ./venv_lm2/lib/python3.10/site-packages (from nltk>=3.1->textblob) (1.3.0)\n",
            "Requirement already satisfied: click in ./venv_lm2/lib/python3.10/site-packages (from nltk>=3.1->textblob) (8.1.3)\n"
          ]
        }
      ],
      "source": [
        "!pip install textblob\n",
        "\n",
        "from textblob import TextBlob\n",
        "\n",
        "# function that only returns the polarity score of TextBlob\n",
        "def polarity(text):\n",
        "    try:\n",
        "        return TextBlob(text).sentiment.polarity\n",
        "    except:\n",
        "        return None\n",
        "\n",
        "# function that only returns the subjectivity score of TextBlob\n",
        "def subjectivity(text):\n",
        "    try:\n",
        "        return TextBlob(text).sentiment.subjectivity\n",
        "    except:\n",
        "        return None"
      ]
    },
    {
      "attachments": {},
      "cell_type": "markdown",
      "metadata": {
        "id": "2jYr2lwImVHl"
      },
      "source": [
        "To apply the code follow the following syntax:\n",
        "\n",
        "**dataframe[\"new_column_with_sentiment\"] = dataframe[\"column_to_analyze\"].apply(sentiment)**"
      ]
    },
    {
      "cell_type": "code",
      "execution_count": 37,
      "metadata": {
        "colab": {
          "base_uri": "https://localhost:8080/"
        },
        "id": "mjPHg25-Viiw",
        "outputId": "18d6f569-9474-439d-b9b8-1449556a4462"
      },
      "outputs": [
        {
          "name": "stdout",
          "output_type": "stream",
          "text": [
            "<class 'pandas.core.frame.DataFrame'>\n",
            "RangeIndex: 87 entries, 0 to 86\n",
            "Data columns (total 2 columns):\n",
            " #   Column          Non-Null Count  Dtype \n",
            "---  ------          --------------  ----- \n",
            " 0   IdeaID          87 non-null     object\n",
            " 1   SampleComments  87 non-null     object\n",
            "dtypes: object(2)\n",
            "memory usage: 1.5+ KB\n"
          ]
        }
      ],
      "source": [
        "comments=pd.read_sql(db.text(\"SELECT * FROM comments;\"), engine.connect())\n",
        "comments.info()"
      ]
    },
    {
      "cell_type": "code",
      "execution_count": 38,
      "metadata": {
        "colab": {
          "base_uri": "https://localhost:8080/"
        },
        "id": "vMaPK28hV45j",
        "outputId": "e15ad52d-7957-494a-d2bd-1c2fab89f34e"
      },
      "outputs": [
        {
          "name": "stdout",
          "output_type": "stream",
          "text": [
            "<class 'pandas.core.frame.DataFrame'>\n",
            "RangeIndex: 100 entries, 0 to 99\n",
            "Data columns (total 6 columns):\n",
            " #   Column          Non-Null Count  Dtype  \n",
            "---  ------          --------------  -----  \n",
            " 0   IdeaID          100 non-null    object \n",
            " 1   Date            100 non-null    object \n",
            " 2   Title           100 non-null    object \n",
            " 3   Description     100 non-null    object \n",
            " 4   NumberVotings   100 non-null    float64\n",
            " 5   NumberComments  100 non-null    int64  \n",
            "dtypes: float64(1), int64(1), object(4)\n",
            "memory usage: 4.8+ KB\n"
          ]
        }
      ],
      "source": [
        "ideas=pd.read_sql(db.text(\"SELECT * FROM ideas;\"), engine.connect())\n",
        "ideas.info()"
      ]
    },
    {
      "cell_type": "code",
      "execution_count": 39,
      "metadata": {},
      "outputs": [
        {
          "data": {
            "text/html": [
              "<div>\n",
              "<style scoped>\n",
              "    .dataframe tbody tr th:only-of-type {\n",
              "        vertical-align: middle;\n",
              "    }\n",
              "\n",
              "    .dataframe tbody tr th {\n",
              "        vertical-align: top;\n",
              "    }\n",
              "\n",
              "    .dataframe thead th {\n",
              "        text-align: right;\n",
              "    }\n",
              "</style>\n",
              "<table border=\"1\" class=\"dataframe\">\n",
              "  <thead>\n",
              "    <tr style=\"text-align: right;\">\n",
              "      <th></th>\n",
              "      <th>IdeaID</th>\n",
              "      <th>Date</th>\n",
              "      <th>Title</th>\n",
              "      <th>Description</th>\n",
              "      <th>NumberVotings</th>\n",
              "      <th>NumberComments</th>\n",
              "      <th>Age</th>\n",
              "      <th>NumVotings_PerDay</th>\n",
              "    </tr>\n",
              "  </thead>\n",
              "  <tbody>\n",
              "    <tr>\n",
              "      <th>95</th>\n",
              "      <td>4AA8E2252C42615B</td>\n",
              "      <td>2019-12-27</td>\n",
              "      <td>エクスポート</td>\n",
              "      <td>PowerSlidesにエクスポートした時、\\n画像でなくグラフでエクスポートして欲しい。\\...</td>\n",
              "      <td>1.0</td>\n",
              "      <td>0</td>\n",
              "      <td>7</td>\n",
              "      <td>0.142857</td>\n",
              "    </tr>\n",
              "    <tr>\n",
              "      <th>96</th>\n",
              "      <td>FADD84AD04F5E77E</td>\n",
              "      <td>2016-04-14</td>\n",
              "      <td>scheduled export of a report to pdf</td>\n",
              "      <td>It would be nice if there is an option to have...</td>\n",
              "      <td>5779.0</td>\n",
              "      <td>554</td>\n",
              "      <td>1359</td>\n",
              "      <td>4.252391</td>\n",
              "    </tr>\n",
              "    <tr>\n",
              "      <th>97</th>\n",
              "      <td>4B90250700F8FB9D</td>\n",
              "      <td>2020-01-03</td>\n",
              "      <td>dates as legends not formatted correctly</td>\n",
              "      <td>I am trying to do a simple clustered column ch...</td>\n",
              "      <td>1.0</td>\n",
              "      <td>0</td>\n",
              "      <td>0</td>\n",
              "      <td>NaN</td>\n",
              "    </tr>\n",
              "    <tr>\n",
              "      <th>98</th>\n",
              "      <td>D81BA1BF75A5D348</td>\n",
              "      <td>2019-03-05</td>\n",
              "      <td>Add an interface in Analytics BI Reports for b...</td>\n",
              "      <td>A current capability we use in Analytics BI Re...</td>\n",
              "      <td>98.0</td>\n",
              "      <td>1</td>\n",
              "      <td>304</td>\n",
              "      <td>0.322368</td>\n",
              "    </tr>\n",
              "    <tr>\n",
              "      <th>99</th>\n",
              "      <td>4C2A6BC685232A86</td>\n",
              "      <td>2019-11-28</td>\n",
              "      <td>Export to PDF with Custom Font</td>\n",
              "      <td>Custom fonts can be embedded to reports in the...</td>\n",
              "      <td>12.0</td>\n",
              "      <td>1</td>\n",
              "      <td>36</td>\n",
              "      <td>0.333333</td>\n",
              "    </tr>\n",
              "  </tbody>\n",
              "</table>\n",
              "</div>"
            ],
            "text/plain": [
              "              IdeaID       Date  \\\n",
              "95  4AA8E2252C42615B 2019-12-27   \n",
              "96  FADD84AD04F5E77E 2016-04-14   \n",
              "97  4B90250700F8FB9D 2020-01-03   \n",
              "98  D81BA1BF75A5D348 2019-03-05   \n",
              "99  4C2A6BC685232A86 2019-11-28   \n",
              "\n",
              "                                                Title  \\\n",
              "95                                             エクスポート   \n",
              "96                scheduled export of a report to pdf   \n",
              "97           dates as legends not formatted correctly   \n",
              "98  Add an interface in Analytics BI Reports for b...   \n",
              "99                     Export to PDF with Custom Font   \n",
              "\n",
              "                                          Description  NumberVotings  \\\n",
              "95  PowerSlidesにエクスポートした時、\\n画像でなくグラフでエクスポートして欲しい。\\...            1.0   \n",
              "96  It would be nice if there is an option to have...         5779.0   \n",
              "97  I am trying to do a simple clustered column ch...            1.0   \n",
              "98  A current capability we use in Analytics BI Re...           98.0   \n",
              "99  Custom fonts can be embedded to reports in the...           12.0   \n",
              "\n",
              "    NumberComments   Age  NumVotings_PerDay  \n",
              "95               0     7           0.142857  \n",
              "96             554  1359           4.252391  \n",
              "97               0     0                NaN  \n",
              "98               1   304           0.322368  \n",
              "99               1    36           0.333333  "
            ]
          },
          "execution_count": 39,
          "metadata": {},
          "output_type": "execute_result"
        }
      ],
      "source": [
        "\n",
        "# existing Date column: trim to display date, not time\n",
        "ideas[\"Date\"]=pd.to_datetime(ideas[\"Date\"])\n",
        "\n",
        "# new measure Age: days between today and the day the idea was submitted\n",
        "ideas[\"Age\"]= (pd.Timestamp.today() - ideas[\"Date\"]).dt.days\n",
        "# new Measure NumVotings_PerDay: no. of votes divided by Age in days, 0 denominators result in NaN. This can be another way of ranking ideas\n",
        "ideas.loc[ideas[\"Age\"] > 0, \"NumVotings_PerDay\"] = ideas[\"NumberVotings\"] / ideas[\"Age\"]\n",
        "ideas.tail()\n",
        "#ideas.info()"
      ]
    },
    {
      "cell_type": "code",
      "execution_count": 40,
      "metadata": {
        "colab": {
          "base_uri": "https://localhost:8080/"
        },
        "id": "m4mC_hMrWFbv",
        "outputId": "202021b7-bebe-403a-db6b-4e8d906cf7b4"
      },
      "outputs": [
        {
          "name": "stdout",
          "output_type": "stream",
          "text": [
            "<class 'pandas.core.frame.DataFrame'>\n",
            "RangeIndex: 10 entries, 0 to 9\n",
            "Data columns (total 2 columns):\n",
            " #   Column    Non-Null Count  Dtype \n",
            "---  ------    --------------  ----- \n",
            " 0   Title     10 non-null     object\n",
            " 1   Selected  10 non-null     object\n",
            "dtypes: object(2)\n",
            "memory usage: 288.0+ bytes\n"
          ]
        }
      ],
      "source": [
        "pmfeedback.info()"
      ]
    },
    {
      "cell_type": "code",
      "execution_count": 41,
      "metadata": {
        "colab": {
          "base_uri": "https://localhost:8080/",
          "height": 206
        },
        "id": "gq1LuhM-XNCs",
        "outputId": "b345a918-aeac-42c4-9298-a21f6fa341a8"
      },
      "outputs": [
        {
          "data": {
            "text/html": [
              "<div>\n",
              "<style scoped>\n",
              "    .dataframe tbody tr th:only-of-type {\n",
              "        vertical-align: middle;\n",
              "    }\n",
              "\n",
              "    .dataframe tbody tr th {\n",
              "        vertical-align: top;\n",
              "    }\n",
              "\n",
              "    .dataframe thead th {\n",
              "        text-align: right;\n",
              "    }\n",
              "</style>\n",
              "<table border=\"1\" class=\"dataframe\">\n",
              "  <thead>\n",
              "    <tr style=\"text-align: right;\">\n",
              "      <th></th>\n",
              "      <th>IdeaID</th>\n",
              "      <th>SampleComments</th>\n",
              "      <th>comment_subjectivity</th>\n",
              "      <th>comment_subjectivity_rank</th>\n",
              "      <th>comment_polarity</th>\n",
              "      <th>comment_polarity_rank</th>\n",
              "    </tr>\n",
              "  </thead>\n",
              "  <tbody>\n",
              "    <tr>\n",
              "      <th>82</th>\n",
              "      <td>B31FC439E10E7040</td>\n",
              "      <td>Tuesday, 23. Juli 2019, 15:46 Uhr  ·  report s...</td>\n",
              "      <td>0.457693</td>\n",
              "      <td>38.0</td>\n",
              "      <td>0.136201</td>\n",
              "      <td>39.0</td>\n",
              "    </tr>\n",
              "    <tr>\n",
              "      <th>83</th>\n",
              "      <td>B5ADDD323460D256</td>\n",
              "      <td>Wednesday, 19. September 2018, 17:55 Uhr  ·  r...</td>\n",
              "      <td>0.350699</td>\n",
              "      <td>13.0</td>\n",
              "      <td>0.062238</td>\n",
              "      <td>22.0</td>\n",
              "    </tr>\n",
              "    <tr>\n",
              "      <th>84</th>\n",
              "      <td>FADD84AD04F5E77E</td>\n",
              "      <td>Thursday, 26. Dezember 2019, 21:05 Uhr  ·  rep...</td>\n",
              "      <td>0.536746</td>\n",
              "      <td>62.0</td>\n",
              "      <td>0.192485</td>\n",
              "      <td>53.0</td>\n",
              "    </tr>\n",
              "    <tr>\n",
              "      <th>85</th>\n",
              "      <td>D81BA1BF75A5D348</td>\n",
              "      <td>Thursday, 07. März 2019, 14:05 Uhr  ·  report ...</td>\n",
              "      <td>0.750000</td>\n",
              "      <td>83.0</td>\n",
              "      <td>0.800000</td>\n",
              "      <td>86.5</td>\n",
              "    </tr>\n",
              "    <tr>\n",
              "      <th>86</th>\n",
              "      <td>4C2A6BC685232A86</td>\n",
              "      <td>Wednesday, 04. Dezember 2019, 15:07 Uhr  ·  re...</td>\n",
              "      <td>0.000000</td>\n",
              "      <td>2.5</td>\n",
              "      <td>0.000000</td>\n",
              "      <td>10.5</td>\n",
              "    </tr>\n",
              "  </tbody>\n",
              "</table>\n",
              "</div>"
            ],
            "text/plain": [
              "              IdeaID                                     SampleComments  \\\n",
              "82  B31FC439E10E7040  Tuesday, 23. Juli 2019, 15:46 Uhr  ·  report s...   \n",
              "83  B5ADDD323460D256  Wednesday, 19. September 2018, 17:55 Uhr  ·  r...   \n",
              "84  FADD84AD04F5E77E  Thursday, 26. Dezember 2019, 21:05 Uhr  ·  rep...   \n",
              "85  D81BA1BF75A5D348  Thursday, 07. März 2019, 14:05 Uhr  ·  report ...   \n",
              "86  4C2A6BC685232A86  Wednesday, 04. Dezember 2019, 15:07 Uhr  ·  re...   \n",
              "\n",
              "    comment_subjectivity  comment_subjectivity_rank  comment_polarity  \\\n",
              "82              0.457693                       38.0          0.136201   \n",
              "83              0.350699                       13.0          0.062238   \n",
              "84              0.536746                       62.0          0.192485   \n",
              "85              0.750000                       83.0          0.800000   \n",
              "86              0.000000                        2.5          0.000000   \n",
              "\n",
              "    comment_polarity_rank  \n",
              "82                   39.0  \n",
              "83                   22.0  \n",
              "84                   53.0  \n",
              "85                   86.5  \n",
              "86                   10.5  "
            ]
          },
          "execution_count": 41,
          "metadata": {},
          "output_type": "execute_result"
        }
      ],
      "source": [
        "comments[\"comment_subjectivity\"] = comments[\"SampleComments\"].apply(subjectivity)\n",
        "comments[\"comment_subjectivity_rank\"] = comments[\"comment_subjectivity\"].rank()\n",
        "comments[\"comment_polarity\"] = comments[\"SampleComments\"].apply(polarity)\n",
        "comments[\"comment_polarity_rank\"] = comments[\"comment_polarity\"].rank()\n",
        "comments.tail()"
      ]
    },
    {
      "cell_type": "code",
      "execution_count": 42,
      "metadata": {
        "colab": {
          "base_uri": "https://localhost:8080/",
          "height": 669
        },
        "id": "-V2MCA3Vq2uJ",
        "outputId": "e3cadeaa-15ed-4472-c352-7dc3014ae0bf"
      },
      "outputs": [
        {
          "data": {
            "text/html": [
              "<div>\n",
              "<style scoped>\n",
              "    .dataframe tbody tr th:only-of-type {\n",
              "        vertical-align: middle;\n",
              "    }\n",
              "\n",
              "    .dataframe tbody tr th {\n",
              "        vertical-align: top;\n",
              "    }\n",
              "\n",
              "    .dataframe thead th {\n",
              "        text-align: right;\n",
              "    }\n",
              "</style>\n",
              "<table border=\"1\" class=\"dataframe\">\n",
              "  <thead>\n",
              "    <tr style=\"text-align: right;\">\n",
              "      <th></th>\n",
              "      <th>IdeaID</th>\n",
              "      <th>Date</th>\n",
              "      <th>Title</th>\n",
              "      <th>Description</th>\n",
              "      <th>NumberVotings</th>\n",
              "      <th>NumberComments</th>\n",
              "      <th>Age</th>\n",
              "      <th>NumVotings_PerDay</th>\n",
              "      <th>Description_subjectivity</th>\n",
              "      <th>Description_subjectivity_rank</th>\n",
              "      <th>Description_polarity</th>\n",
              "      <th>Description_polarity_rank</th>\n",
              "    </tr>\n",
              "  </thead>\n",
              "  <tbody>\n",
              "    <tr>\n",
              "      <th>95</th>\n",
              "      <td>4AA8E2252C42615B</td>\n",
              "      <td>2019-12-27</td>\n",
              "      <td>エクスポート</td>\n",
              "      <td>PowerSlidesにエクスポートした時、\\n画像でなくグラフでエクスポートして欲しい。\\...</td>\n",
              "      <td>1.0</td>\n",
              "      <td>0</td>\n",
              "      <td>7</td>\n",
              "      <td>0.142857</td>\n",
              "      <td>0.000000</td>\n",
              "      <td>7.0</td>\n",
              "      <td>0.00</td>\n",
              "      <td>20.0</td>\n",
              "    </tr>\n",
              "    <tr>\n",
              "      <th>96</th>\n",
              "      <td>FADD84AD04F5E77E</td>\n",
              "      <td>2016-04-14</td>\n",
              "      <td>scheduled export of a report to pdf</td>\n",
              "      <td>It would be nice if there is an option to have...</td>\n",
              "      <td>5779.0</td>\n",
              "      <td>554</td>\n",
              "      <td>1359</td>\n",
              "      <td>4.252391</td>\n",
              "      <td>0.825000</td>\n",
              "      <td>97.0</td>\n",
              "      <td>0.45</td>\n",
              "      <td>96.0</td>\n",
              "    </tr>\n",
              "    <tr>\n",
              "      <th>97</th>\n",
              "      <td>4B90250700F8FB9D</td>\n",
              "      <td>2020-01-03</td>\n",
              "      <td>dates as legends not formatted correctly</td>\n",
              "      <td>I am trying to do a simple clustered column ch...</td>\n",
              "      <td>1.0</td>\n",
              "      <td>0</td>\n",
              "      <td>0</td>\n",
              "      <td>NaN</td>\n",
              "      <td>0.357143</td>\n",
              "      <td>31.0</td>\n",
              "      <td>0.00</td>\n",
              "      <td>20.0</td>\n",
              "    </tr>\n",
              "    <tr>\n",
              "      <th>98</th>\n",
              "      <td>D81BA1BF75A5D348</td>\n",
              "      <td>2019-03-05</td>\n",
              "      <td>Add an interface in Analytics BI Reports for b...</td>\n",
              "      <td>A current capability we use in Analytics BI Re...</td>\n",
              "      <td>98.0</td>\n",
              "      <td>1</td>\n",
              "      <td>304</td>\n",
              "      <td>0.322368</td>\n",
              "      <td>0.549643</td>\n",
              "      <td>77.0</td>\n",
              "      <td>0.07</td>\n",
              "      <td>45.0</td>\n",
              "    </tr>\n",
              "    <tr>\n",
              "      <th>99</th>\n",
              "      <td>4C2A6BC685232A86</td>\n",
              "      <td>2019-11-28</td>\n",
              "      <td>Export to PDF with Custom Font</td>\n",
              "      <td>Custom fonts can be embedded to reports in the...</td>\n",
              "      <td>12.0</td>\n",
              "      <td>1</td>\n",
              "      <td>36</td>\n",
              "      <td>0.333333</td>\n",
              "      <td>0.225000</td>\n",
              "      <td>18.0</td>\n",
              "      <td>0.25</td>\n",
              "      <td>78.0</td>\n",
              "    </tr>\n",
              "  </tbody>\n",
              "</table>\n",
              "</div>"
            ],
            "text/plain": [
              "              IdeaID       Date  \\\n",
              "95  4AA8E2252C42615B 2019-12-27   \n",
              "96  FADD84AD04F5E77E 2016-04-14   \n",
              "97  4B90250700F8FB9D 2020-01-03   \n",
              "98  D81BA1BF75A5D348 2019-03-05   \n",
              "99  4C2A6BC685232A86 2019-11-28   \n",
              "\n",
              "                                                Title  \\\n",
              "95                                             エクスポート   \n",
              "96                scheduled export of a report to pdf   \n",
              "97           dates as legends not formatted correctly   \n",
              "98  Add an interface in Analytics BI Reports for b...   \n",
              "99                     Export to PDF with Custom Font   \n",
              "\n",
              "                                          Description  NumberVotings  \\\n",
              "95  PowerSlidesにエクスポートした時、\\n画像でなくグラフでエクスポートして欲しい。\\...            1.0   \n",
              "96  It would be nice if there is an option to have...         5779.0   \n",
              "97  I am trying to do a simple clustered column ch...            1.0   \n",
              "98  A current capability we use in Analytics BI Re...           98.0   \n",
              "99  Custom fonts can be embedded to reports in the...           12.0   \n",
              "\n",
              "    NumberComments   Age  NumVotings_PerDay  Description_subjectivity  \\\n",
              "95               0     7           0.142857                  0.000000   \n",
              "96             554  1359           4.252391                  0.825000   \n",
              "97               0     0                NaN                  0.357143   \n",
              "98               1   304           0.322368                  0.549643   \n",
              "99               1    36           0.333333                  0.225000   \n",
              "\n",
              "    Description_subjectivity_rank  Description_polarity  \\\n",
              "95                            7.0                  0.00   \n",
              "96                           97.0                  0.45   \n",
              "97                           31.0                  0.00   \n",
              "98                           77.0                  0.07   \n",
              "99                           18.0                  0.25   \n",
              "\n",
              "    Description_polarity_rank  \n",
              "95                       20.0  \n",
              "96                       96.0  \n",
              "97                       20.0  \n",
              "98                       45.0  \n",
              "99                       78.0  "
            ]
          },
          "execution_count": 42,
          "metadata": {},
          "output_type": "execute_result"
        }
      ],
      "source": [
        "ideas[\"Description_subjectivity\"] = ideas[\"Description\"].apply(subjectivity)\n",
        "ideas[\"Description_subjectivity_rank\"] = ideas[\"Description_subjectivity\"].rank()\n",
        "ideas[\"Description_polarity\"] = ideas[\"Description\"].apply(polarity)\n",
        "ideas[\"Description_polarity_rank\"] = ideas[\"Description_polarity\"].rank()\n",
        "ideas.tail()"
      ]
    },
    {
      "cell_type": "code",
      "execution_count": 43,
      "metadata": {
        "colab": {
          "base_uri": "https://localhost:8080/"
        },
        "id": "R1zclX-Gevki",
        "outputId": "8fe54c2d-338f-4828-c394-722c22bf82c4"
      },
      "outputs": [
        {
          "name": "stdout",
          "output_type": "stream",
          "text": [
            "<class 'pandas.core.frame.DataFrame'>\n",
            "RangeIndex: 100 entries, 0 to 99\n",
            "Data columns (total 17 columns):\n",
            " #   Column                         Non-Null Count  Dtype         \n",
            "---  ------                         --------------  -----         \n",
            " 0   IdeaID                         100 non-null    object        \n",
            " 1   Date                           100 non-null    datetime64[ns]\n",
            " 2   Title                          100 non-null    object        \n",
            " 3   Description                    100 non-null    object        \n",
            " 4   NumberVotings                  100 non-null    float64       \n",
            " 5   NumberComments                 100 non-null    int64         \n",
            " 6   Age                            100 non-null    int64         \n",
            " 7   NumVotings_PerDay              99 non-null     float64       \n",
            " 8   Description_subjectivity       100 non-null    float64       \n",
            " 9   Description_subjectivity_rank  100 non-null    float64       \n",
            " 10  Description_polarity           100 non-null    float64       \n",
            " 11  Description_polarity_rank      100 non-null    float64       \n",
            " 12  SampleComments                 87 non-null     object        \n",
            " 13  comment_subjectivity           87 non-null     float64       \n",
            " 14  comment_subjectivity_rank      87 non-null     float64       \n",
            " 15  comment_polarity               87 non-null     float64       \n",
            " 16  comment_polarity_rank          87 non-null     float64       \n",
            "dtypes: datetime64[ns](1), float64(10), int64(2), object(4)\n",
            "memory usage: 13.4+ KB\n"
          ]
        }
      ],
      "source": [
        "ideas_comments =  pd.merge(ideas, comments,\n",
        "                  how=\"left\",\n",
        "                  left_on=[\"IdeaID\"],\n",
        "                  right_on=[\"IdeaID\"])\n",
        "\n",
        "ideas_comments.info()"
      ]
    },
    {
      "cell_type": "code",
      "execution_count": 44,
      "metadata": {
        "colab": {
          "base_uri": "https://localhost:8080/",
          "height": 1000
        },
        "id": "_-MLW0TofLpP",
        "outputId": "5f36fc27-f138-4c63-a592-de6d95997cab"
      },
      "outputs": [
        {
          "name": "stdout",
          "output_type": "stream",
          "text": [
            "<class 'pandas.core.frame.DataFrame'>\n",
            "RangeIndex: 100 entries, 0 to 99\n",
            "Data columns (total 18 columns):\n",
            " #   Column                         Non-Null Count  Dtype         \n",
            "---  ------                         --------------  -----         \n",
            " 0   IdeaID                         100 non-null    object        \n",
            " 1   Date                           100 non-null    datetime64[ns]\n",
            " 2   Title                          100 non-null    object        \n",
            " 3   Description                    100 non-null    object        \n",
            " 4   NumberVotings                  100 non-null    float64       \n",
            " 5   NumberComments                 100 non-null    int64         \n",
            " 6   Age                            100 non-null    int64         \n",
            " 7   NumVotings_PerDay              99 non-null     float64       \n",
            " 8   Description_subjectivity       100 non-null    float64       \n",
            " 9   Description_subjectivity_rank  100 non-null    float64       \n",
            " 10  Description_polarity           100 non-null    float64       \n",
            " 11  Description_polarity_rank      100 non-null    float64       \n",
            " 12  SampleComments                 87 non-null     object        \n",
            " 13  comment_subjectivity           87 non-null     float64       \n",
            " 14  comment_subjectivity_rank      87 non-null     float64       \n",
            " 15  comment_polarity               87 non-null     float64       \n",
            " 16  comment_polarity_rank          87 non-null     float64       \n",
            " 17  Selected                       10 non-null     object        \n",
            "dtypes: datetime64[ns](1), float64(10), int64(2), object(5)\n",
            "memory usage: 14.2+ KB\n"
          ]
        },
        {
          "data": {
            "text/html": [
              "<div>\n",
              "<style scoped>\n",
              "    .dataframe tbody tr th:only-of-type {\n",
              "        vertical-align: middle;\n",
              "    }\n",
              "\n",
              "    .dataframe tbody tr th {\n",
              "        vertical-align: top;\n",
              "    }\n",
              "\n",
              "    .dataframe thead th {\n",
              "        text-align: right;\n",
              "    }\n",
              "</style>\n",
              "<table border=\"1\" class=\"dataframe\">\n",
              "  <thead>\n",
              "    <tr style=\"text-align: right;\">\n",
              "      <th></th>\n",
              "      <th>IdeaID</th>\n",
              "      <th>Date</th>\n",
              "      <th>Title</th>\n",
              "      <th>Description</th>\n",
              "      <th>NumberVotings</th>\n",
              "      <th>NumberComments</th>\n",
              "      <th>Age</th>\n",
              "      <th>NumVotings_PerDay</th>\n",
              "      <th>Description_subjectivity</th>\n",
              "      <th>Description_subjectivity_rank</th>\n",
              "      <th>Description_polarity</th>\n",
              "      <th>Description_polarity_rank</th>\n",
              "      <th>SampleComments</th>\n",
              "      <th>comment_subjectivity</th>\n",
              "      <th>comment_subjectivity_rank</th>\n",
              "      <th>comment_polarity</th>\n",
              "      <th>comment_polarity_rank</th>\n",
              "      <th>Selected</th>\n",
              "    </tr>\n",
              "  </thead>\n",
              "  <tbody>\n",
              "    <tr>\n",
              "      <th>95</th>\n",
              "      <td>4AA8E2252C42615B</td>\n",
              "      <td>2019-12-27</td>\n",
              "      <td>エクスポート</td>\n",
              "      <td>PowerSlidesにエクスポートした時、\\n画像でなくグラフでエクスポートして欲しい。\\...</td>\n",
              "      <td>1.0</td>\n",
              "      <td>0</td>\n",
              "      <td>7</td>\n",
              "      <td>0.142857</td>\n",
              "      <td>0.000000</td>\n",
              "      <td>7.0</td>\n",
              "      <td>0.00</td>\n",
              "      <td>20.0</td>\n",
              "      <td>NaN</td>\n",
              "      <td>NaN</td>\n",
              "      <td>NaN</td>\n",
              "      <td>NaN</td>\n",
              "      <td>NaN</td>\n",
              "      <td>NaN</td>\n",
              "    </tr>\n",
              "    <tr>\n",
              "      <th>96</th>\n",
              "      <td>FADD84AD04F5E77E</td>\n",
              "      <td>2016-04-14</td>\n",
              "      <td>scheduled export of a report to pdf</td>\n",
              "      <td>It would be nice if there is an option to have...</td>\n",
              "      <td>5779.0</td>\n",
              "      <td>554</td>\n",
              "      <td>1359</td>\n",
              "      <td>4.252391</td>\n",
              "      <td>0.825000</td>\n",
              "      <td>97.0</td>\n",
              "      <td>0.45</td>\n",
              "      <td>96.0</td>\n",
              "      <td>Thursday, 26. Dezember 2019, 21:05 Uhr  ·  rep...</td>\n",
              "      <td>0.536746</td>\n",
              "      <td>62.0</td>\n",
              "      <td>0.192485</td>\n",
              "      <td>53.0</td>\n",
              "      <td>Yes</td>\n",
              "    </tr>\n",
              "    <tr>\n",
              "      <th>97</th>\n",
              "      <td>4B90250700F8FB9D</td>\n",
              "      <td>2020-01-03</td>\n",
              "      <td>dates as legends not formatted correctly</td>\n",
              "      <td>I am trying to do a simple clustered column ch...</td>\n",
              "      <td>1.0</td>\n",
              "      <td>0</td>\n",
              "      <td>0</td>\n",
              "      <td>NaN</td>\n",
              "      <td>0.357143</td>\n",
              "      <td>31.0</td>\n",
              "      <td>0.00</td>\n",
              "      <td>20.0</td>\n",
              "      <td>NaN</td>\n",
              "      <td>NaN</td>\n",
              "      <td>NaN</td>\n",
              "      <td>NaN</td>\n",
              "      <td>NaN</td>\n",
              "      <td>NaN</td>\n",
              "    </tr>\n",
              "    <tr>\n",
              "      <th>98</th>\n",
              "      <td>D81BA1BF75A5D348</td>\n",
              "      <td>2019-03-05</td>\n",
              "      <td>Add an interface in Analytics BI Reports for b...</td>\n",
              "      <td>A current capability we use in Analytics BI Re...</td>\n",
              "      <td>98.0</td>\n",
              "      <td>1</td>\n",
              "      <td>304</td>\n",
              "      <td>0.322368</td>\n",
              "      <td>0.549643</td>\n",
              "      <td>77.0</td>\n",
              "      <td>0.07</td>\n",
              "      <td>45.0</td>\n",
              "      <td>Thursday, 07. März 2019, 14:05 Uhr  ·  report ...</td>\n",
              "      <td>0.750000</td>\n",
              "      <td>83.0</td>\n",
              "      <td>0.800000</td>\n",
              "      <td>86.5</td>\n",
              "      <td>NaN</td>\n",
              "    </tr>\n",
              "    <tr>\n",
              "      <th>99</th>\n",
              "      <td>4C2A6BC685232A86</td>\n",
              "      <td>2019-11-28</td>\n",
              "      <td>Export to PDF with Custom Font</td>\n",
              "      <td>Custom fonts can be embedded to reports in the...</td>\n",
              "      <td>12.0</td>\n",
              "      <td>1</td>\n",
              "      <td>36</td>\n",
              "      <td>0.333333</td>\n",
              "      <td>0.225000</td>\n",
              "      <td>18.0</td>\n",
              "      <td>0.25</td>\n",
              "      <td>78.0</td>\n",
              "      <td>Wednesday, 04. Dezember 2019, 15:07 Uhr  ·  re...</td>\n",
              "      <td>0.000000</td>\n",
              "      <td>2.5</td>\n",
              "      <td>0.000000</td>\n",
              "      <td>10.5</td>\n",
              "      <td>NaN</td>\n",
              "    </tr>\n",
              "  </tbody>\n",
              "</table>\n",
              "</div>"
            ],
            "text/plain": [
              "              IdeaID       Date  \\\n",
              "95  4AA8E2252C42615B 2019-12-27   \n",
              "96  FADD84AD04F5E77E 2016-04-14   \n",
              "97  4B90250700F8FB9D 2020-01-03   \n",
              "98  D81BA1BF75A5D348 2019-03-05   \n",
              "99  4C2A6BC685232A86 2019-11-28   \n",
              "\n",
              "                                                Title  \\\n",
              "95                                             エクスポート   \n",
              "96                scheduled export of a report to pdf   \n",
              "97           dates as legends not formatted correctly   \n",
              "98  Add an interface in Analytics BI Reports for b...   \n",
              "99                     Export to PDF with Custom Font   \n",
              "\n",
              "                                          Description  NumberVotings  \\\n",
              "95  PowerSlidesにエクスポートした時、\\n画像でなくグラフでエクスポートして欲しい。\\...            1.0   \n",
              "96  It would be nice if there is an option to have...         5779.0   \n",
              "97  I am trying to do a simple clustered column ch...            1.0   \n",
              "98  A current capability we use in Analytics BI Re...           98.0   \n",
              "99  Custom fonts can be embedded to reports in the...           12.0   \n",
              "\n",
              "    NumberComments   Age  NumVotings_PerDay  Description_subjectivity  \\\n",
              "95               0     7           0.142857                  0.000000   \n",
              "96             554  1359           4.252391                  0.825000   \n",
              "97               0     0                NaN                  0.357143   \n",
              "98               1   304           0.322368                  0.549643   \n",
              "99               1    36           0.333333                  0.225000   \n",
              "\n",
              "    Description_subjectivity_rank  Description_polarity  \\\n",
              "95                            7.0                  0.00   \n",
              "96                           97.0                  0.45   \n",
              "97                           31.0                  0.00   \n",
              "98                           77.0                  0.07   \n",
              "99                           18.0                  0.25   \n",
              "\n",
              "    Description_polarity_rank  \\\n",
              "95                       20.0   \n",
              "96                       96.0   \n",
              "97                       20.0   \n",
              "98                       45.0   \n",
              "99                       78.0   \n",
              "\n",
              "                                       SampleComments  comment_subjectivity  \\\n",
              "95                                                NaN                   NaN   \n",
              "96  Thursday, 26. Dezember 2019, 21:05 Uhr  ·  rep...              0.536746   \n",
              "97                                                NaN                   NaN   \n",
              "98  Thursday, 07. März 2019, 14:05 Uhr  ·  report ...              0.750000   \n",
              "99  Wednesday, 04. Dezember 2019, 15:07 Uhr  ·  re...              0.000000   \n",
              "\n",
              "    comment_subjectivity_rank  comment_polarity  comment_polarity_rank  \\\n",
              "95                        NaN               NaN                    NaN   \n",
              "96                       62.0          0.192485                   53.0   \n",
              "97                        NaN               NaN                    NaN   \n",
              "98                       83.0          0.800000                   86.5   \n",
              "99                        2.5          0.000000                   10.5   \n",
              "\n",
              "   Selected  \n",
              "95      NaN  \n",
              "96      Yes  \n",
              "97      NaN  \n",
              "98      NaN  \n",
              "99      NaN  "
            ]
          },
          "execution_count": 44,
          "metadata": {},
          "output_type": "execute_result"
        }
      ],
      "source": [
        "ideas_comments_pm =  pd.merge(ideas_comments, pmfeedback,\n",
        "                  how=\"left\",\n",
        "                  left_on=[\"Title\"],\n",
        "                  right_on=[\"Title\"])\n",
        "\n",
        "ideas_comments_pm.info()\n",
        "\n",
        "ideas_comments_pm.tail()"
      ]
    },
    {
      "cell_type": "code",
      "execution_count": 45,
      "metadata": {
        "colab": {
          "base_uri": "https://localhost:8080/"
        },
        "id": "mES4V82Rfk6t",
        "outputId": "499ecb1e-6501-41eb-dcb0-d0a29c87d692"
      },
      "outputs": [
        {
          "name": "stdout",
          "output_type": "stream",
          "text": [
            "<class 'pandas.core.frame.DataFrame'>\n",
            "RangeIndex: 100 entries, 0 to 99\n",
            "Data columns (total 18 columns):\n",
            " #   Column                         Non-Null Count  Dtype         \n",
            "---  ------                         --------------  -----         \n",
            " 0   IdeaID                         100 non-null    object        \n",
            " 1   Date                           100 non-null    datetime64[ns]\n",
            " 2   Title                          100 non-null    object        \n",
            " 3   Description                    100 non-null    object        \n",
            " 4   NumberVotings                  100 non-null    float64       \n",
            " 5   NumberComments                 100 non-null    int64         \n",
            " 6   Age                            100 non-null    int64         \n",
            " 7   NumVotings_PerDay              99 non-null     float64       \n",
            " 8   Description_subjectivity       100 non-null    float64       \n",
            " 9   Description_subjectivity_rank  100 non-null    float64       \n",
            " 10  Description_polarity           100 non-null    float64       \n",
            " 11  Description_polarity_rank      100 non-null    float64       \n",
            " 12  SampleComments                 87 non-null     object        \n",
            " 13  comment_subjectivity           100 non-null    float64       \n",
            " 14  comment_subjectivity_rank      87 non-null     float64       \n",
            " 15  comment_polarity               100 non-null    float64       \n",
            " 16  comment_polarity_rank          87 non-null     float64       \n",
            " 17  Selected                       100 non-null    object        \n",
            "dtypes: datetime64[ns](1), float64(10), int64(2), object(5)\n",
            "memory usage: 14.2+ KB\n",
            "None\n",
            "<class 'pandas.core.frame.DataFrame'>\n",
            "Index: 87 entries, 0 to 99\n",
            "Data columns (total 18 columns):\n",
            " #   Column                         Non-Null Count  Dtype         \n",
            "---  ------                         --------------  -----         \n",
            " 0   IdeaID                         87 non-null     object        \n",
            " 1   Date                           87 non-null     datetime64[ns]\n",
            " 2   Title                          87 non-null     object        \n",
            " 3   Description                    87 non-null     object        \n",
            " 4   NumberVotings                  87 non-null     float64       \n",
            " 5   NumberComments                 87 non-null     int64         \n",
            " 6   Age                            87 non-null     int64         \n",
            " 7   NumVotings_PerDay              87 non-null     float64       \n",
            " 8   Description_subjectivity       87 non-null     float64       \n",
            " 9   Description_subjectivity_rank  87 non-null     float64       \n",
            " 10  Description_polarity           87 non-null     float64       \n",
            " 11  Description_polarity_rank      87 non-null     float64       \n",
            " 12  SampleComments                 87 non-null     object        \n",
            " 13  comment_subjectivity           87 non-null     float64       \n",
            " 14  comment_subjectivity_rank      87 non-null     float64       \n",
            " 15  comment_polarity               87 non-null     float64       \n",
            " 16  comment_polarity_rank          87 non-null     float64       \n",
            " 17  Selected                       87 non-null     object        \n",
            "dtypes: datetime64[ns](1), float64(10), int64(2), object(5)\n",
            "memory usage: 12.9+ KB\n",
            "None\n"
          ]
        }
      ],
      "source": [
        "ideas_comments_pmNO_NaN0 = ideas_comments_pm.fillna({\"Selected\":\"No\",\"comment_subjectivity\":0,\"comment_polarity\":0})\n",
        "#print(ideas_comments_pmNO_NaN0.tail())\n",
        "print(ideas_comments_pmNO_NaN0.info())\n",
        "ideas_comments_pmNO_NaNdropped = ideas_comments_pmNO_NaN0.dropna()\n",
        "print(ideas_comments_pmNO_NaNdropped.info())"
      ]
    },
    {
      "cell_type": "code",
      "execution_count": 46,
      "metadata": {
        "colab": {
          "base_uri": "https://localhost:8080/"
        },
        "id": "ulKwkXcPiOO2",
        "outputId": "f91b6955-3df8-49f4-d667-b4c23837ff1a"
      },
      "outputs": [
        {
          "name": "stdout",
          "output_type": "stream",
          "text": [
            "ideas_comments_pmNO_NaNo mean\n",
            "          comment_polarity  comment_polarity_rank  comment_subjectivity  \\\n",
            "Selected                                                                  \n",
            "No                0.160677               44.25974              0.393365   \n",
            "Yes               0.160662               42.00000              0.499339   \n",
            "\n",
            "          comment_subjectivity_rank  NumberComments  \n",
            "Selected                                             \n",
            "No                         43.25974             8.1  \n",
            "Yes                        49.70000           165.7  \n",
            "ideas_comments_pmNO_NaNdropped mean\n",
            "          comment_polarity  comment_polarity_rank  comment_subjectivity  \\\n",
            "Selected                                                                  \n",
            "No                0.187804               44.25974              0.459778   \n",
            "Yes               0.160662               42.00000              0.499339   \n",
            "\n",
            "          comment_subjectivity_rank  NumberComments  \n",
            "Selected                                             \n",
            "No                         43.25974        9.467532  \n",
            "Yes                        49.70000      165.700000  \n",
            "ideas_comments_pmNO_NaNo median\n",
            "          comment_polarity  comment_polarity_rank  comment_subjectivity  \\\n",
            "Selected                                                                  \n",
            "No                0.127272                   46.0              0.427942   \n",
            "Yes               0.142219                   40.0              0.494214   \n",
            "\n",
            "          comment_subjectivity_rank  NumberComments  \n",
            "Selected                                             \n",
            "No                             41.0             3.5  \n",
            "Yes                            46.5            93.5  \n",
            "ideas_comments_pmNO_NaNdropped median\n",
            "          comment_polarity  comment_polarity_rank  comment_subjectivity  \\\n",
            "Selected                                                                  \n",
            "No                0.160735                   46.0              0.472931   \n",
            "Yes               0.142219                   40.0              0.494214   \n",
            "\n",
            "          comment_subjectivity_rank  NumberComments  \n",
            "Selected                                             \n",
            "No                             41.0             5.0  \n",
            "Yes                            46.5            93.5  \n",
            "ideas_comments_pmNO_NaNdropped mean\n",
            "          comment_polarity  comment_subjectivity  Description_polarity  \\\n",
            "Selected                                                                 \n",
            "No                0.187804              0.459778              0.139063   \n",
            "Yes               0.160662              0.499339              0.186069   \n",
            "\n",
            "          Description_subjectivity  \n",
            "Selected                            \n",
            "No                        0.415911  \n",
            "Yes                       0.514378  \n"
          ]
        }
      ],
      "source": [
        "print(\"ideas_comments_pmNO_NaNo mean\")\n",
        "print(ideas_comments_pmNO_NaN0.groupby(\"Selected\")[[\"comment_polarity\",\"comment_polarity_rank\", \"comment_subjectivity\",\"comment_subjectivity_rank\",\"NumberComments\"]].mean())\n",
        "print(\"ideas_comments_pmNO_NaNdropped mean\")\n",
        "print(ideas_comments_pmNO_NaNdropped.groupby(\"Selected\")[[\"comment_polarity\",\"comment_polarity_rank\", \"comment_subjectivity\",\"comment_subjectivity_rank\",\"NumberComments\"]].mean())\n",
        "print(\"ideas_comments_pmNO_NaNo median\")\n",
        "print(ideas_comments_pmNO_NaN0.groupby(\"Selected\")[[\"comment_polarity\",\"comment_polarity_rank\", \"comment_subjectivity\",\"comment_subjectivity_rank\",\"NumberComments\"]].median())\n",
        "print(\"ideas_comments_pmNO_NaNdropped median\")\n",
        "print(ideas_comments_pmNO_NaNdropped.groupby(\"Selected\")[[\"comment_polarity\",\"comment_polarity_rank\", \"comment_subjectivity\",\"comment_subjectivity_rank\",\"NumberComments\"]].median())\n",
        "print(\"ideas_comments_pmNO_NaNdropped mean\")\n",
        "print(ideas_comments_pmNO_NaNdropped.groupby(\"Selected\")[[\"comment_polarity\", \"comment_subjectivity\",\"Description_polarity\", \"Description_subjectivity\" ]].mean())\n"
      ]
    }
  ],
  "metadata": {
    "colab": {
      "provenance": []
    },
    "kernelspec": {
      "display_name": "Python 3",
      "language": "python",
      "name": "python3"
    },
    "language_info": {
      "codemirror_mode": {
        "name": "ipython",
        "version": 3
      },
      "file_extension": ".py",
      "mimetype": "text/x-python",
      "name": "python",
      "nbconvert_exporter": "python",
      "pygments_lexer": "ipython3",
      "version": "3.10.6"
    }
  },
  "nbformat": 4,
  "nbformat_minor": 0
}
