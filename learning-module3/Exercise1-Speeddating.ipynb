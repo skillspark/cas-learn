{
 "cells": [
  {
   "cell_type": "markdown",
   "metadata": {
    "id": "PSZ-R3mm2ACH"
   },
   "source": [
    "# Speed dating Solution"
   ]
  },
  {
   "cell_type": "markdown",
   "metadata": {
    "id": "h3NzvCiC2ACL"
   },
   "source": [
    "Speed dating is a an approach to find new partners. In each speed dating event, the maximum number of participants per gender is limited to seven to ten persons. During the event, each female participant gets to know each male participant and vice versa. In so doing, the speed dating event is conducted in rounds which last about seven to eight minutes. In this short time frame, the singles have the opportunity to chat and to make an impression of each other. After each round, participants note on a piece of paper whether they want to \"re-date\" their counterpart. Then, chat partners are changed. This procedure is repeated until each \"male-female-couples\" have been formed (Source: Wikipedia 2022)\n",
    "\n",
    "Fisman et al. (2006) have conducted an extensive experiment in order to determine which attributes are important to the \"love at the first sight\" (or within the first five minutes). \n",
    " \n",
    "Let's have a look at a small glimpse of their data!"
   ]
  },
  {
   "cell_type": "markdown",
   "metadata": {
    "id": "8BSpq2Xt2ACM"
   },
   "source": [
    "## Data description\n",
    "\n",
    "- gender: Female=0, Male=1\n",
    "- match: 1=yes, 0=no; Did the participants indicate that they want to see each other again?\n",
    "- wave: Experimental wave; Fishman et al. made many speeddating sessions (i.e., the first 20 participants participate in wave 1, the second 20 in wave 2, etc.) which are indicating by the “wave number” \n",
    "\n",
    "Participants were asked to indicate the individual importance of the factors of the other sex: \n",
    "\n",
    "- attr1_1: attractive (attr1_1)\n",
    "- sinc1_1: sincere (sinc1_1)\n",
    "- intel1_1: intelligent (intel1_1)\n",
    "- fun1_1: fun (fun1_1)\n",
    "\n",
    "Participants could allocate a total of 100 points to those attributes. They could distribute more points to factors that are more important in a potential date, and fewer points to those attributes that are less important in a potential date.  Total points must equal 100.\n"
   ]
  },
  {
   "cell_type": "markdown",
   "metadata": {
    "id": "o3KoZ70f2ACN"
   },
   "source": [
    "## 1) Read in the data set «speeddating.csv» with pandas and name the data frame «speeddating». How many instances and features are in the dataframe?"
   ]
  },
  {
   "cell_type": "code",
   "execution_count": 1,
   "metadata": {
    "id": "KxJGSPCL2ACT"
   },
   "outputs": [
    {
     "name": "stdout",
     "output_type": "stream",
     "text": [
      "<class 'pandas.core.frame.DataFrame'>\n",
      "RangeIndex: 8289 entries, 0 to 8288\n",
      "Data columns (total 7 columns):\n",
      " #   Column    Non-Null Count  Dtype  \n",
      "---  ------    --------------  -----  \n",
      " 0   gender    8289 non-null   int64  \n",
      " 1   wave      8289 non-null   int64  \n",
      " 2   match     8289 non-null   int64  \n",
      " 3   attr1_1   8289 non-null   float64\n",
      " 4   sinc1_1   8289 non-null   float64\n",
      " 5   intel1_1  8289 non-null   float64\n",
      " 6   fun1_1    8289 non-null   float64\n",
      "dtypes: float64(4), int64(3)\n",
      "memory usage: 453.4 KB\n"
     ]
    }
   ],
   "source": [
    "import pandas as pd\n",
    "import matplotlib as plt\n",
    "path = \"https://raw.githubusercontent.com/casbdai/notebooks2023/main/Module3/00_Onboarding/01_Speeddating/speeddating.csv\"\n",
    "speeddating = pd.read_csv(path)\n",
    "speeddating.info()"
   ]
  },
  {
   "cell_type": "markdown",
   "metadata": {},
   "source": [
    "### Answer: there are 8'289 instances and 7 features in this dataframe\n"
   ]
  },
  {
   "cell_type": "markdown",
   "metadata": {
    "id": "A2FX0ZLv2ACX"
   },
   "source": [
    "## 2) Rename the features into «attractive», «sincere», «intelligent» and «fun»"
   ]
  },
  {
   "cell_type": "markdown",
   "metadata": {
    "id": "JxorNpNj2ACY"
   },
   "source": [
    "We can rename variables in a dataframe in many different ways. An easy approach is using python dictionaries. Python dictionaries are another data structure (that we have covered only very superficially in class). They consist of two parts a \"key\" and a \"value\" that are stored with in a pair of {}. Key and values are seperated by a colon; multiple key-value-pairs are separated by a comma. \n",
    "\n",
    "Examples:"
   ]
  },
  {
   "cell_type": "code",
   "execution_count": 2,
   "metadata": {
    "colab": {
     "base_uri": "https://localhost:8080/"
    },
    "executionInfo": {
     "elapsed": 223,
     "status": "ok",
     "timestamp": 1627363950822,
     "user": {
      "displayName": "Ivo Blohm",
      "photoUrl": "",
      "userId": "03588522102684867783"
     },
     "user_tz": -120
    },
    "id": "q58wPBOh2ACZ",
    "outputId": "3c39127c-8860-46df-f2b7-b2a029684780"
   },
   "outputs": [
    {
     "data": {
      "text/plain": [
       "{'key': 'value', 'key2': 'value2'}"
      ]
     },
     "execution_count": 2,
     "metadata": {},
     "output_type": "execute_result"
    }
   ],
   "source": [
    "dict = {\"key\":\"value\", \"key2\": \"value2\"}\n",
    "dict"
   ]
  },
  {
   "cell_type": "code",
   "execution_count": 3,
   "metadata": {
    "colab": {
     "base_uri": "https://localhost:8080/"
    },
    "executionInfo": {
     "elapsed": 222,
     "status": "ok",
     "timestamp": 1627363952684,
     "user": {
      "displayName": "Ivo Blohm",
      "photoUrl": "",
      "userId": "03588522102684867783"
     },
     "user_tz": -120
    },
    "id": "Mnp5UDD42ACe",
    "outputId": "3f17a341-872f-44b1-d726-8ef838f69d54"
   },
   "outputs": [
    {
     "data": {
      "text/plain": [
       "{'key': 2, 'key2': 34}"
      ]
     },
     "execution_count": 3,
     "metadata": {},
     "output_type": "execute_result"
    }
   ],
   "source": [
    "dict = {\"key\":2, \"key2\": 34}\n",
    "dict"
   ]
  },
  {
   "cell_type": "markdown",
   "metadata": {
    "id": "YkwDBPBR2ACh"
   },
   "source": [
    "For renaming variables, we can call the .rename() method on the dataframe. The keys are the old variable names, the values the new ones."
   ]
  },
  {
   "cell_type": "code",
   "execution_count": 4,
   "metadata": {
    "id": "SCV4QReg2ACi"
   },
   "outputs": [
    {
     "name": "stdout",
     "output_type": "stream",
     "text": [
      "<class 'pandas.core.frame.DataFrame'>\n",
      "RangeIndex: 8289 entries, 0 to 8288\n",
      "Data columns (total 7 columns):\n",
      " #   Column       Non-Null Count  Dtype  \n",
      "---  ------       --------------  -----  \n",
      " 0   gender       8289 non-null   int64  \n",
      " 1   wave         8289 non-null   int64  \n",
      " 2   match        8289 non-null   int64  \n",
      " 3   attractive   8289 non-null   float64\n",
      " 4   sincere      8289 non-null   float64\n",
      " 5   intelligent  8289 non-null   float64\n",
      " 6   fun          8289 non-null   float64\n",
      "dtypes: float64(4), int64(3)\n",
      "memory usage: 453.4 KB\n"
     ]
    }
   ],
   "source": [
    "speeddating = speeddating.rename(columns={\"attr1_1\":\"attractive\",\n",
    "                                          \"sinc1_1\":\"sincere\",\n",
    "                                          \"intel1_1\":\"intelligent\",\n",
    "                                          \"fun1_1\":\"fun\"})\n",
    "speeddating.info()"
   ]
  },
  {
   "cell_type": "markdown",
   "metadata": {
    "id": "ne12cpE32ACl"
   },
   "source": [
    "## 3) How many dates did match? What is the maximum of the feature «attractive»?"
   ]
  },
  {
   "cell_type": "code",
   "execution_count": 5,
   "metadata": {
    "id": "QixZGtwh2ACm"
   },
   "outputs": [
    {
     "name": "stdout",
     "output_type": "stream",
     "text": [
      "<class 'pandas.core.frame.DataFrame'>\n",
      "Int64Index: 1363 entries, 2 to 8282\n",
      "Data columns (total 7 columns):\n",
      " #   Column       Non-Null Count  Dtype  \n",
      "---  ------       --------------  -----  \n",
      " 0   gender       1363 non-null   int64  \n",
      " 1   wave         1363 non-null   int64  \n",
      " 2   match        1363 non-null   int64  \n",
      " 3   attractive   1363 non-null   float64\n",
      " 4   sincere      1363 non-null   float64\n",
      " 5   intelligent  1363 non-null   float64\n",
      " 6   fun          1363 non-null   float64\n",
      "dtypes: float64(4), int64(3)\n",
      "memory usage: 85.2 KB\n"
     ]
    }
   ],
   "source": [
    "speeddating.loc[speeddating[\"match\"]==1].info()"
   ]
  },
  {
   "cell_type": "markdown",
   "metadata": {
    "id": "xk6dYKdqc6hO"
   },
   "source": [
    "A total of 1363 men and women have matched!"
   ]
  },
  {
   "cell_type": "markdown",
   "metadata": {
    "id": "-n1u4P9F2ACq"
   },
   "source": [
    "## 4) Create three «subsets» and save the results as new datafames. The singe subsets shall contain the following «waves»:\n",
    "\n",
    "- Subset 1: data for waves 1 to 5\n",
    "- Subset 2: data for waves 6 to 9\n",
    "- Subset 3: data for waves 10 bis 21"
   ]
  },
  {
   "cell_type": "code",
   "execution_count": 6,
   "metadata": {
    "id": "yZaUnJF42ACr"
   },
   "outputs": [],
   "source": [
    "speeddating_1to5 = speeddating.loc[(speeddating[\"wave\"] >= 1) & (speeddating[\"wave\"] <= 5)]\n",
    "speeddating_6to9 = speeddating.loc[(speeddating[\"wave\"] >= 6) & (speeddating[\"wave\"] <= 9)]\n",
    "speeddating_10to21 = speeddating.loc[(speeddating[\"wave\"] >= 10) & (speeddating[\"wave\"] <= 21)]"
   ]
  },
  {
   "cell_type": "markdown",
   "metadata": {
    "id": "5DXyuMTG2ACv"
   },
   "source": [
    "## 5)\tCheck whether the subsetting was sucessful and have a low at the number of instances in the newly created dataframes"
   ]
  },
  {
   "cell_type": "code",
   "execution_count": 7,
   "metadata": {
    "id": "byf-S3pj2ACw"
   },
   "outputs": [
    {
     "data": {
      "text/plain": [
       "1"
      ]
     },
     "execution_count": 7,
     "metadata": {},
     "output_type": "execute_result"
    }
   ],
   "source": [
    "speeddating_1to5[\"wave\"].min()"
   ]
  },
  {
   "cell_type": "code",
   "execution_count": 8,
   "metadata": {
    "id": "S90ZSwaY2ACz"
   },
   "outputs": [
    {
     "data": {
      "text/plain": [
       "6"
      ]
     },
     "execution_count": 8,
     "metadata": {},
     "output_type": "execute_result"
    }
   ],
   "source": [
    "speeddating_6to9[\"wave\"].min()"
   ]
  },
  {
   "cell_type": "code",
   "execution_count": 9,
   "metadata": {
    "id": "JcBEMuMm2AC2"
   },
   "outputs": [
    {
     "data": {
      "text/plain": [
       "10"
      ]
     },
     "execution_count": 9,
     "metadata": {},
     "output_type": "execute_result"
    }
   ],
   "source": [
    "speeddating_10to21[\"wave\"].min()"
   ]
  },
  {
   "cell_type": "markdown",
   "metadata": {},
   "source": [
    "All three subsets contains the minimum value as the low-end of their respective ranges: 1, 6 and 10."
   ]
  },
  {
   "cell_type": "markdown",
   "metadata": {
    "id": "j9zlGokg2AC5"
   },
   "source": [
    "## 6)\tMerge the first and the third dataframe (i.e., the dataframes for wafe 1 to 5 and for waves 10 to 21)\n"
   ]
  },
  {
   "cell_type": "code",
   "execution_count": 10,
   "metadata": {
    "id": "dV18fPu12AC6"
   },
   "outputs": [
    {
     "name": "stdout",
     "output_type": "stream",
     "text": [
      "<class 'pandas.core.frame.DataFrame'>\n",
      "Int64Index: 6732 entries, 0 to 8288\n",
      "Data columns (total 7 columns):\n",
      " #   Column       Non-Null Count  Dtype  \n",
      "---  ------       --------------  -----  \n",
      " 0   gender       6732 non-null   int64  \n",
      " 1   wave         6732 non-null   int64  \n",
      " 2   match        6732 non-null   int64  \n",
      " 3   attractive   6732 non-null   float64\n",
      " 4   sincere      6732 non-null   float64\n",
      " 5   intelligent  6732 non-null   float64\n",
      " 6   fun          6732 non-null   float64\n",
      "dtypes: float64(4), int64(3)\n",
      "memory usage: 420.8 KB\n"
     ]
    }
   ],
   "source": [
    "merged_speeddating=pd.concat([speeddating_1to5, speeddating_10to21], axis=0)\n",
    "merged_speeddating.info()"
   ]
  },
  {
   "cell_type": "markdown",
   "metadata": {
    "id": "mNFinR342AC_"
   },
   "source": [
    "## 7) What are the most important attributes for men and women? "
   ]
  },
  {
   "cell_type": "markdown",
   "metadata": {
    "id": "FZdf8R_RdQTA"
   },
   "source": [
    "Use the .groupby() method to compare men and women!"
   ]
  },
  {
   "cell_type": "code",
   "execution_count": 11,
   "metadata": {
    "id": "PwPqHBj12ADA"
   },
   "outputs": [
    {
     "data": {
      "text/plain": [
       "gender\n",
       "0    18.305008\n",
       "1    16.514042\n",
       "Name: sincere, dtype: float64"
      ]
     },
     "execution_count": 11,
     "metadata": {},
     "output_type": "execute_result"
    }
   ],
   "source": [
    "speeddating.groupby(\"gender\")[\"sincere\"].mean()"
   ]
  },
  {
   "cell_type": "code",
   "execution_count": 12,
   "metadata": {
    "id": "_P5Tus-w2ADD"
   },
   "outputs": [
    {
     "data": {
      "text/plain": [
       "gender\n",
       "0    18.055224\n",
       "1    26.794220\n",
       "Name: attractive, dtype: float64"
      ]
     },
     "execution_count": 12,
     "metadata": {},
     "output_type": "execute_result"
    }
   ],
   "source": [
    "speeddating.groupby(\"gender\")[\"attractive\"].mean()"
   ]
  },
  {
   "cell_type": "code",
   "execution_count": 13,
   "metadata": {
    "id": "wrnaXA9f2ADG"
   },
   "outputs": [
    {
     "data": {
      "text/plain": [
       "gender\n",
       "0    21.002502\n",
       "1    19.560279\n",
       "Name: intelligent, dtype: float64"
      ]
     },
     "execution_count": 13,
     "metadata": {},
     "output_type": "execute_result"
    }
   ],
   "source": [
    "speeddating.groupby(\"gender\")[\"intelligent\"].mean()"
   ]
  },
  {
   "cell_type": "code",
   "execution_count": 14,
   "metadata": {
    "id": "6gnj0Vut2ADJ"
   },
   "outputs": [
    {
     "data": {
      "text/plain": [
       "gender\n",
       "0    17.147292\n",
       "1    17.763893\n",
       "Name: fun, dtype: float64"
      ]
     },
     "execution_count": 14,
     "metadata": {},
     "output_type": "execute_result"
    }
   ],
   "source": [
    "speeddating.groupby(\"gender\")[\"fun\"].mean()"
   ]
  },
  {
   "cell_type": "markdown",
   "metadata": {},
   "source": [
    "For women (indicated by 0), the most important attribute was \"intelligent\".\n",
    "For men (indicated 1), the most important attribute was \"attractive\""
   ]
  },
  {
   "cell_type": "markdown",
   "metadata": {
    "id": "7SyDpqij2ADO"
   },
   "source": [
    "## 8) Do patterns differ for matching pairs?"
   ]
  },
  {
   "cell_type": "markdown",
   "metadata": {
    "id": "1JhID3bmdau5"
   },
   "source": [
    "Select matching pairs first and then use the .groupby() method!"
   ]
  },
  {
   "cell_type": "code",
   "execution_count": 15,
   "metadata": {
    "id": "qtqPwUD42ADO"
   },
   "outputs": [
    {
     "data": {
      "text/plain": [
       "gender\n",
       "0    18.311912\n",
       "1    15.480571\n",
       "Name: sincere, dtype: float64"
      ]
     },
     "execution_count": 15,
     "metadata": {},
     "output_type": "execute_result"
    }
   ],
   "source": [
    "speeddating.loc[speeddating[\"match\"]==1].groupby(\"gender\")[\"sincere\"].mean()"
   ]
  },
  {
   "cell_type": "code",
   "execution_count": 16,
   "metadata": {
    "id": "MqShyS2C2ADS"
   },
   "outputs": [
    {
     "data": {
      "text/plain": [
       "gender\n",
       "0    17.765750\n",
       "1    27.921918\n",
       "Name: attractive, dtype: float64"
      ]
     },
     "execution_count": 16,
     "metadata": {},
     "output_type": "execute_result"
    }
   ],
   "source": [
    "speeddating.loc[speeddating[\"match\"]==1].groupby(\"gender\")[\"attractive\"].mean()"
   ]
  },
  {
   "cell_type": "code",
   "execution_count": 17,
   "metadata": {
    "id": "hGxRJpaQ2ADV"
   },
   "outputs": [
    {
     "data": {
      "text/plain": [
       "gender\n",
       "0    21.298015\n",
       "1    19.698199\n",
       "Name: intelligent, dtype: float64"
      ]
     },
     "execution_count": 17,
     "metadata": {},
     "output_type": "execute_result"
    }
   ],
   "source": [
    "speeddating.loc[speeddating[\"match\"]==1].groupby(\"gender\")[\"intelligent\"].mean()"
   ]
  },
  {
   "cell_type": "code",
   "execution_count": 18,
   "metadata": {
    "id": "bd0dZI122ADY"
   },
   "outputs": [
    {
     "data": {
      "text/plain": [
       "gender\n",
       "0    17.885235\n",
       "1    18.170878\n",
       "Name: fun, dtype: float64"
      ]
     },
     "execution_count": 18,
     "metadata": {},
     "output_type": "execute_result"
    }
   ],
   "source": [
    "speeddating.loc[speeddating[\"match\"]==1].groupby(\"gender\")[\"fun\"].mean()"
   ]
  },
  {
   "cell_type": "markdown",
   "metadata": {},
   "source": [
    "It appears that for matching pairs, the pattern of the most important attributes for men and women does not change. "
   ]
  },
  {
   "cell_type": "markdown",
   "metadata": {
    "id": "3cpxWzSY2ADc"
   },
   "source": [
    "## 9)\tWhat is the sum of all points given away from men and women? "
   ]
  },
  {
   "cell_type": "markdown",
   "metadata": {
    "id": "OE7otDhFdofK"
   },
   "source": [
    "Create a new variable \"total_points\" in which you sum up the points for the four traits (e.g, sincere, attractive, etc.)? What can you observe? Does this offer an alternative explanation for the results?"
   ]
  },
  {
   "cell_type": "code",
   "execution_count": 19,
   "metadata": {
    "id": "waCqjUh62ADd"
   },
   "outputs": [
    {
     "data": {
      "text/plain": [
       "gender\n",
       "0    307353.86\n",
       "1    335753.45\n",
       "Name: total_points, dtype: float64"
      ]
     },
     "execution_count": 19,
     "metadata": {},
     "output_type": "execute_result"
    }
   ],
   "source": [
    "speeddating[\"total_points\"] = speeddating[\"sincere\"] + speeddating[\"intelligent\"] + speeddating[\"fun\"]  + speeddating[\"attractive\"]\n",
    "speeddating.groupby(\"gender\")[\"total_points\"].sum()"
   ]
  },
  {
   "cell_type": "markdown",
   "metadata": {},
   "source": [
    "Overall, the total rating points given by men are about 10% more than by women. Therefore we should be careful when comparing ratings on the level of gender."
   ]
  },
  {
   "cell_type": "markdown",
   "metadata": {
    "id": "aMn3ijZq2ADq"
   },
   "source": [
    "## 10) Create a bar plot with which you compare gender differences in being \"attractive\" and \"intelligent\""
   ]
  },
  {
   "cell_type": "markdown",
   "metadata": {
    "id": "qtyx5mJzdts8"
   },
   "source": [
    "We did not cover that extensively in class but plotting is quite easy. Check the video tutorial from the pandas handson!"
   ]
  },
  {
   "cell_type": "code",
   "execution_count": 20,
   "metadata": {
    "colab": {
     "base_uri": "https://localhost:8080/",
     "height": 293
    },
    "executionInfo": {
     "elapsed": 561,
     "status": "ok",
     "timestamp": 1583229843389,
     "user": {
      "displayName": "Ivo Blohm",
      "photoUrl": "",
      "userId": "03588522102684867783"
     },
     "user_tz": -60
    },
    "id": "Ozq5AerI2ADr",
    "outputId": "784052d7-b5e1-4eec-892c-e869d6a37089"
   },
   "outputs": [
    {
     "data": {
      "text/plain": [
       "<Axes: xlabel='gender'>"
      ]
     },
     "execution_count": 20,
     "metadata": {},
     "output_type": "execute_result"
    },
    {
     "data": {
      "image/png": "[encoded data removed]",
      "text/plain": [
       "<Figure size 640x480 with 1 Axes>"
      ]
     },
     "metadata": {},
     "output_type": "display_data"
    }
   ],
   "source": [
    "speeddating.groupby(\"gender\")[\"attractive\"].mean().plot(kind=\"bar\", x=\"gender\",y=\"attractive\")"
   ]
  },
  {
   "cell_type": "code",
   "execution_count": 21,
   "metadata": {
    "colab": {
     "base_uri": "https://localhost:8080/",
     "height": 293
    },
    "executionInfo": {
     "elapsed": 521,
     "status": "ok",
     "timestamp": 1583229845740,
     "user": {
      "displayName": "Ivo Blohm",
      "photoUrl": "",
      "userId": "03588522102684867783"
     },
     "user_tz": -60
    },
    "id": "B2ot5b5m2ADv",
    "outputId": "f1236c32-1083-4706-c9fd-5ea9d567da03"
   },
   "outputs": [
    {
     "data": {
      "text/plain": [
       "<Axes: xlabel='gender'>"
      ]
     },
     "execution_count": 21,
     "metadata": {},
     "output_type": "execute_result"
    },
    {
     "data": {
      "image/png": "[encoded data removed]",
      "text/plain": [
       "<Figure size 640x480 with 1 Axes>"
      ]
     },
     "metadata": {},
     "output_type": "display_data"
    }
   ],
   "source": [
    "speeddating.groupby(\"gender\")[\"intelligent\"].mean().plot(kind=\"bar\", x=\"gender\",y=\"intelligent\")"
   ]
  },
  {
   "cell_type": "markdown",
   "metadata": {
    "id": "Um4w12mD2ADy"
   },
   "source": [
    "## 11) Create a scatterplot with you check correlation between being rated as \"intelligent\" and \"attractive\". How would you interpret results?"
   ]
  },
  {
   "cell_type": "markdown",
   "metadata": {
    "id": "ZDHbEG0UeBiH"
   },
   "source": [
    "change the plot type to \"scatter\" and enter the right variables"
   ]
  },
  {
   "cell_type": "code",
   "execution_count": 22,
   "metadata": {
    "id": "Z-qdD2xhhZ5Y"
   },
   "outputs": [
    {
     "data": {
      "text/plain": [
       "<Axes: xlabel='attractive', ylabel='intelligent'>"
      ]
     },
     "execution_count": 22,
     "metadata": {},
     "output_type": "execute_result"
    },
    {
     "data": {
      "image/png": "[encoded data removed]",
      "text/plain": [
       "<Figure size 640x480 with 1 Axes>"
      ]
     },
     "metadata": {},
     "output_type": "display_data"
    }
   ],
   "source": [
    "speeddating.plot(kind=\"scatter\", x=\"attractive\",y=\"intelligent\")"
   ]
  },
  {
   "cell_type": "markdown",
   "metadata": {},
   "source": [
    "My interpration of the above scatter plot is that there is a weak negative correlation between being attractive and being intelligent. So the more intelligent, the less attractive."
   ]
  },
  {
   "cell_type": "markdown",
   "metadata": {
    "id": "cHBMuAQv2AD2"
   },
   "source": [
    "## 12) Create a scatterplot with you check correlation between being rated as \"intelligent\" and \"fun\".  How would you interpret results?"
   ]
  },
  {
   "cell_type": "code",
   "execution_count": 23,
   "metadata": {
    "id": "u_BkfZPj2AD3"
   },
   "outputs": [
    {
     "data": {
      "text/plain": [
       "<Axes: xlabel='fun', ylabel='intelligent'>"
      ]
     },
     "execution_count": 23,
     "metadata": {},
     "output_type": "execute_result"
    },
    {
     "data": {
      "image/png": "[encoded data removed]",
      "text/plain": [
       "<Figure size 640x480 with 1 Axes>"
      ]
     },
     "metadata": {},
     "output_type": "display_data"
    }
   ],
   "source": [
    "speeddating.plot(kind=\"scatter\", x=\"fun\",y=\"intelligent\")"
   ]
  },
  {
   "cell_type": "markdown",
   "metadata": {},
   "source": [
    "Again, not a strong correlation between being fun and being intelligent, but more so than the previous comparison, and this time a positive one. So being intelligent infers also being fun. "
   ]
  }
 ],
 "metadata": {
  "colab": {
   "name": "Copy of Speeddating Solution.ipynb",
   "provenance": [],
   "toc_visible": true
  },
  "kernelspec": {
   "display_name": "Python 3 (ipykernel)",
   "language": "python",
   "name": "python3"
  },
  "language_info": {
   "codemirror_mode": {
    "name": "ipython",
    "version": 3
   },
   "file_extension": ".py",
   "mimetype": "text/x-python",
   "name": "python",
   "nbconvert_exporter": "python",
   "pygments_lexer": "ipython3",
   "version": "3.10.12"
  }
 },
 "nbformat": 4,
 "nbformat_minor": 1
}
