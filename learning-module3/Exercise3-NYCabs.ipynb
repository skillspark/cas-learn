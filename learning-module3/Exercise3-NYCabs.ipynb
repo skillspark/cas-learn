{
 "cells": [
  {
   "cell_type": "markdown",
   "metadata": {
    "id": "CisXRiqH34AW"
   },
   "source": [
    "# NYC Cabs\n",
    "\n",
    "New York. The city that never sleeps. New York is one of the world's busiest cities. Many tourists, business man, and new yorkers use cabs as central means of transportation. Although the yellow cabs are a central building block of the cities image and self-representation, many (digital) competitors entered the competive arena. Frequently, competitors such as UBER do not only offer a cheaper ride, but also offer a new mobility experience using apps and other digital companion services. \n",
    "\n",
    "Thus, the different NYC cab companies have teamed up and decided to build a new digital app, with which potential customers can order a cab and also get a prediction for the ride's price to be paid. \n",
    "\n",
    "Now, it is up to you to build such a prediction system for the NYC cab companies. In this initial part, you will start on the data engineering part and some exploratory data analysis. In a second part, after module 3, you will engage in the prediction part. For this assignment, we will use original historic data. Due to the size of the data set we will work with 0.2% of January's 2016 data as well as weather and holiday data for that time."
   ]
  },
  {
   "cell_type": "markdown",
   "metadata": {
    "id": "m9TQsJrs34Aa"
   },
   "source": [
    "# 1) Read in data\n",
    "\n",
    "Read in the three datasets with pandas."
   ]
  },
  {
   "cell_type": "code",
   "execution_count": 163,
   "metadata": {
    "id": "q6Sd9SrP2M67"
   },
   "outputs": [],
   "source": [
    "import pandas as pd\n",
    "\n",
    "# when online, use data from github\n",
    "weather=pd.read_csv(\"https://raw.githubusercontent.com/casbdai/notebooks2023/main/Module3/00_Onboarding/03_NYCabs/weather_assignment.csv\")\n",
    "holidays=pd.read_csv(\"https://raw.githubusercontent.com/casbdai/notebooks2023/main/Module3/00_Onboarding/03_NYCabs/usHolidays.csv\")\n",
    "rides=pd.read_csv(\"https://raw.githubusercontent.com/casbdai/notebooks2023/main/Module3/00_Onboarding/03_NYCabs/rides_jan2016_assignment.csv\")\n",
    "\n",
    "# to use local data\n",
    "# weather=pd.read_csv(\"data/weather_assignment.csv\")\n",
    "# holidays=pd.read_csv(\"data/usHolidays.csv\")\n",
    "# rides=pd.read_csv(\"data/rides_jan2016_assignment.csv\")"
   ]
  },
  {
   "cell_type": "markdown",
   "metadata": {
    "id": "PmVKOjnj34Ag"
   },
   "source": [
    "# 2) Prepare weather data\n",
    "\n",
    "### 2.1) Inspect data"
   ]
  },
  {
   "cell_type": "markdown",
   "metadata": {
    "id": "1WtSenUs34Ai"
   },
   "source": [
    "Inspect the weather date using the .head() and .info() methods. "
   ]
  },
  {
   "cell_type": "code",
   "execution_count": 164,
   "metadata": {
    "id": "kiRn6eSH34Aj"
   },
   "outputs": [
    {
     "data": {
      "text/html": [
       "<div>\n",
       "<style scoped>\n",
       "    .dataframe tbody tr th:only-of-type {\n",
       "        vertical-align: middle;\n",
       "    }\n",
       "\n",
       "    .dataframe tbody tr th {\n",
       "        vertical-align: top;\n",
       "    }\n",
       "\n",
       "    .dataframe thead th {\n",
       "        text-align: right;\n",
       "    }\n",
       "</style>\n",
       "<table border=\"1\" class=\"dataframe\">\n",
       "  <thead>\n",
       "    <tr style=\"text-align: right;\">\n",
       "      <th></th>\n",
       "      <th>temp</th>\n",
       "      <th>fog</th>\n",
       "      <th>rain</th>\n",
       "      <th>snow</th>\n",
       "      <th>conds</th>\n",
       "      <th>vis</th>\n",
       "      <th>date</th>\n",
       "    </tr>\n",
       "  </thead>\n",
       "  <tbody>\n",
       "    <tr>\n",
       "      <th>0</th>\n",
       "      <td>5.6</td>\n",
       "      <td>0</td>\n",
       "      <td>0</td>\n",
       "      <td>0</td>\n",
       "      <td>Overcast</td>\n",
       "      <td>16.1</td>\n",
       "      <td>01-01-16 0:51</td>\n",
       "    </tr>\n",
       "    <tr>\n",
       "      <th>1</th>\n",
       "      <td>5.0</td>\n",
       "      <td>0</td>\n",
       "      <td>0</td>\n",
       "      <td>0</td>\n",
       "      <td>Overcast</td>\n",
       "      <td>16.1</td>\n",
       "      <td>01-01-16 1:51</td>\n",
       "    </tr>\n",
       "    <tr>\n",
       "      <th>2</th>\n",
       "      <td>5.0</td>\n",
       "      <td>0</td>\n",
       "      <td>0</td>\n",
       "      <td>0</td>\n",
       "      <td>Overcast</td>\n",
       "      <td>16.1</td>\n",
       "      <td>01-01-16 2:51</td>\n",
       "    </tr>\n",
       "    <tr>\n",
       "      <th>3</th>\n",
       "      <td>5.0</td>\n",
       "      <td>0</td>\n",
       "      <td>0</td>\n",
       "      <td>0</td>\n",
       "      <td>Overcast</td>\n",
       "      <td>16.1</td>\n",
       "      <td>01-01-16 3:51</td>\n",
       "    </tr>\n",
       "    <tr>\n",
       "      <th>4</th>\n",
       "      <td>4.4</td>\n",
       "      <td>0</td>\n",
       "      <td>0</td>\n",
       "      <td>0</td>\n",
       "      <td>Overcast</td>\n",
       "      <td>16.1</td>\n",
       "      <td>01-01-16 4:51</td>\n",
       "    </tr>\n",
       "  </tbody>\n",
       "</table>\n",
       "</div>"
      ],
      "text/plain": [
       "   temp  fog  rain  snow     conds   vis           date\n",
       "0   5.6    0     0     0  Overcast  16.1  01-01-16 0:51\n",
       "1   5.0    0     0     0  Overcast  16.1  01-01-16 1:51\n",
       "2   5.0    0     0     0  Overcast  16.1  01-01-16 2:51\n",
       "3   5.0    0     0     0  Overcast  16.1  01-01-16 3:51\n",
       "4   4.4    0     0     0  Overcast  16.1  01-01-16 4:51"
      ]
     },
     "execution_count": 164,
     "metadata": {},
     "output_type": "execute_result"
    }
   ],
   "source": [
    "weather.head()"
   ]
  },
  {
   "cell_type": "code",
   "execution_count": 165,
   "metadata": {
    "id": "DZ4i7YSp34Ar"
   },
   "outputs": [
    {
     "name": "stdout",
     "output_type": "stream",
     "text": [
      "<class 'pandas.core.frame.DataFrame'>\n",
      "RangeIndex: 10444 entries, 0 to 10443\n",
      "Data columns (total 7 columns):\n",
      " #   Column  Non-Null Count  Dtype  \n",
      "---  ------  --------------  -----  \n",
      " 0   temp    10444 non-null  float64\n",
      " 1   fog     10444 non-null  int64  \n",
      " 2   rain    10444 non-null  int64  \n",
      " 3   snow    10444 non-null  int64  \n",
      " 4   conds   10444 non-null  object \n",
      " 5   vis     10204 non-null  float64\n",
      " 6   date    10444 non-null  object \n",
      "dtypes: float64(2), int64(3), object(2)\n",
      "memory usage: 571.3+ KB\n"
     ]
    }
   ],
   "source": [
    "weather.info()"
   ]
  },
  {
   "cell_type": "markdown",
   "metadata": {
    "id": "iPYs4Wee34Av"
   },
   "source": [
    "What can we see this that?\n",
    "\n",
    "1. Have a look at the different date formats ( .info() ). Most variables are measured as integer and floats (Can you remember the difference?). This is good - they reflect numeric measurements.\n",
    "2. The features \"conds\" (condition) and \"vis\" (visibility) have no nice names - we need to fix that\n",
    "3. The features \"conds\" and \"date\" are objects, that is, they are recognized as strings (text). This is ok for \"conds\". But we need to transform \"date\" from an object to a \"datetime\" - we need to tell pyhton that this is a measurement of time \n",
    "4. Have a look at the \"date\" feature: Weather is measured at hourly rate."
   ]
  },
  {
   "cell_type": "markdown",
   "metadata": {
    "id": "JQuRDmZm34Ax"
   },
   "source": [
    "###  2.2) Fix date object\n",
    "\n",
    "Pandas provides a very easy approach to transforming dates into \"datetime\" format - the correct format for date and tiems. We apply the .to_datetime() function to our variable. Remember that this is a function and not a method. Methods are directly called on a dataframe (e.g., weather.head() ). Functions have to be applied to a dataframe from pandas (e.g., pd.to_datetime() )"
   ]
  },
  {
   "cell_type": "code",
   "execution_count": 166,
   "metadata": {
    "id": "saTtPOJv34Ay"
   },
   "outputs": [],
   "source": [
    "weather[\"date\"] = pd.to_datetime(weather[\"date\"])"
   ]
  },
  {
   "cell_type": "code",
   "execution_count": 167,
   "metadata": {
    "colab": {
     "base_uri": "https://localhost:8080/",
     "height": 230
    },
    "executionInfo": {
     "elapsed": 584,
     "status": "ok",
     "timestamp": 1583264994128,
     "user": {
      "displayName": "Ivo Blohm",
      "photoUrl": "",
      "userId": "03588522102684867783"
     },
     "user_tz": -60
    },
    "id": "wF2U0buE34A2",
    "outputId": "26198d64-5e9a-4730-e99e-55593ddb3b51"
   },
   "outputs": [
    {
     "name": "stdout",
     "output_type": "stream",
     "text": [
      "<class 'pandas.core.frame.DataFrame'>\n",
      "RangeIndex: 10444 entries, 0 to 10443\n",
      "Data columns (total 7 columns):\n",
      " #   Column  Non-Null Count  Dtype         \n",
      "---  ------  --------------  -----         \n",
      " 0   temp    10444 non-null  float64       \n",
      " 1   fog     10444 non-null  int64         \n",
      " 2   rain    10444 non-null  int64         \n",
      " 3   snow    10444 non-null  int64         \n",
      " 4   conds   10444 non-null  object        \n",
      " 5   vis     10204 non-null  float64       \n",
      " 6   date    10444 non-null  datetime64[ns]\n",
      "dtypes: datetime64[ns](1), float64(2), int64(3), object(1)\n",
      "memory usage: 571.3+ KB\n"
     ]
    }
   ],
   "source": [
    "weather.info()"
   ]
  },
  {
   "cell_type": "code",
   "execution_count": 168,
   "metadata": {
    "colab": {
     "base_uri": "https://localhost:8080/",
     "height": 197
    },
    "executionInfo": {
     "elapsed": 523,
     "status": "ok",
     "timestamp": 1583264996033,
     "user": {
      "displayName": "Ivo Blohm",
      "photoUrl": "",
      "userId": "03588522102684867783"
     },
     "user_tz": -60
    },
    "id": "m4jGbXfy34A7",
    "outputId": "11f2f937-e3f4-4a16-80c9-8684031abb12"
   },
   "outputs": [
    {
     "data": {
      "text/html": [
       "<div>\n",
       "<style scoped>\n",
       "    .dataframe tbody tr th:only-of-type {\n",
       "        vertical-align: middle;\n",
       "    }\n",
       "\n",
       "    .dataframe tbody tr th {\n",
       "        vertical-align: top;\n",
       "    }\n",
       "\n",
       "    .dataframe thead th {\n",
       "        text-align: right;\n",
       "    }\n",
       "</style>\n",
       "<table border=\"1\" class=\"dataframe\">\n",
       "  <thead>\n",
       "    <tr style=\"text-align: right;\">\n",
       "      <th></th>\n",
       "      <th>temp</th>\n",
       "      <th>fog</th>\n",
       "      <th>rain</th>\n",
       "      <th>snow</th>\n",
       "      <th>conds</th>\n",
       "      <th>vis</th>\n",
       "      <th>date</th>\n",
       "    </tr>\n",
       "  </thead>\n",
       "  <tbody>\n",
       "    <tr>\n",
       "      <th>0</th>\n",
       "      <td>5.6</td>\n",
       "      <td>0</td>\n",
       "      <td>0</td>\n",
       "      <td>0</td>\n",
       "      <td>Overcast</td>\n",
       "      <td>16.1</td>\n",
       "      <td>2016-01-01 00:51:00</td>\n",
       "    </tr>\n",
       "    <tr>\n",
       "      <th>1</th>\n",
       "      <td>5.0</td>\n",
       "      <td>0</td>\n",
       "      <td>0</td>\n",
       "      <td>0</td>\n",
       "      <td>Overcast</td>\n",
       "      <td>16.1</td>\n",
       "      <td>2016-01-01 01:51:00</td>\n",
       "    </tr>\n",
       "    <tr>\n",
       "      <th>2</th>\n",
       "      <td>5.0</td>\n",
       "      <td>0</td>\n",
       "      <td>0</td>\n",
       "      <td>0</td>\n",
       "      <td>Overcast</td>\n",
       "      <td>16.1</td>\n",
       "      <td>2016-01-01 02:51:00</td>\n",
       "    </tr>\n",
       "    <tr>\n",
       "      <th>3</th>\n",
       "      <td>5.0</td>\n",
       "      <td>0</td>\n",
       "      <td>0</td>\n",
       "      <td>0</td>\n",
       "      <td>Overcast</td>\n",
       "      <td>16.1</td>\n",
       "      <td>2016-01-01 03:51:00</td>\n",
       "    </tr>\n",
       "    <tr>\n",
       "      <th>4</th>\n",
       "      <td>4.4</td>\n",
       "      <td>0</td>\n",
       "      <td>0</td>\n",
       "      <td>0</td>\n",
       "      <td>Overcast</td>\n",
       "      <td>16.1</td>\n",
       "      <td>2016-01-01 04:51:00</td>\n",
       "    </tr>\n",
       "  </tbody>\n",
       "</table>\n",
       "</div>"
      ],
      "text/plain": [
       "   temp  fog  rain  snow     conds   vis                date\n",
       "0   5.6    0     0     0  Overcast  16.1 2016-01-01 00:51:00\n",
       "1   5.0    0     0     0  Overcast  16.1 2016-01-01 01:51:00\n",
       "2   5.0    0     0     0  Overcast  16.1 2016-01-01 02:51:00\n",
       "3   5.0    0     0     0  Overcast  16.1 2016-01-01 03:51:00\n",
       "4   4.4    0     0     0  Overcast  16.1 2016-01-01 04:51:00"
      ]
     },
     "execution_count": 168,
     "metadata": {},
     "output_type": "execute_result"
    }
   ],
   "source": [
    "weather.head()"
   ]
  },
  {
   "attachments": {},
   "cell_type": "markdown",
   "metadata": {
    "id": "0pdjwU3234A-"
   },
   "source": [
    "We new \"date\" feature contains a date-part and time-part. We are only interested in the date-part and create a new feature \"DATE\" using the .dt.normalize() method"
   ]
  },
  {
   "cell_type": "code",
   "execution_count": 169,
   "metadata": {
    "colab": {
     "base_uri": "https://localhost:8080/",
     "height": 197
    },
    "executionInfo": {
     "elapsed": 573,
     "status": "ok",
     "timestamp": 1583264998125,
     "user": {
      "displayName": "Ivo Blohm",
      "photoUrl": "",
      "userId": "03588522102684867783"
     },
     "user_tz": -60
    },
    "id": "ez-aiI_J34A_",
    "outputId": "4ef1d2dc-7429-4066-8082-a1077f072a94"
   },
   "outputs": [
    {
     "data": {
      "text/html": [
       "<div>\n",
       "<style scoped>\n",
       "    .dataframe tbody tr th:only-of-type {\n",
       "        vertical-align: middle;\n",
       "    }\n",
       "\n",
       "    .dataframe tbody tr th {\n",
       "        vertical-align: top;\n",
       "    }\n",
       "\n",
       "    .dataframe thead th {\n",
       "        text-align: right;\n",
       "    }\n",
       "</style>\n",
       "<table border=\"1\" class=\"dataframe\">\n",
       "  <thead>\n",
       "    <tr style=\"text-align: right;\">\n",
       "      <th></th>\n",
       "      <th>temp</th>\n",
       "      <th>fog</th>\n",
       "      <th>rain</th>\n",
       "      <th>snow</th>\n",
       "      <th>conds</th>\n",
       "      <th>vis</th>\n",
       "      <th>date</th>\n",
       "      <th>DATE</th>\n",
       "    </tr>\n",
       "  </thead>\n",
       "  <tbody>\n",
       "    <tr>\n",
       "      <th>0</th>\n",
       "      <td>5.6</td>\n",
       "      <td>0</td>\n",
       "      <td>0</td>\n",
       "      <td>0</td>\n",
       "      <td>Overcast</td>\n",
       "      <td>16.1</td>\n",
       "      <td>2016-01-01 00:51:00</td>\n",
       "      <td>2016-01-01</td>\n",
       "    </tr>\n",
       "    <tr>\n",
       "      <th>1</th>\n",
       "      <td>5.0</td>\n",
       "      <td>0</td>\n",
       "      <td>0</td>\n",
       "      <td>0</td>\n",
       "      <td>Overcast</td>\n",
       "      <td>16.1</td>\n",
       "      <td>2016-01-01 01:51:00</td>\n",
       "      <td>2016-01-01</td>\n",
       "    </tr>\n",
       "    <tr>\n",
       "      <th>2</th>\n",
       "      <td>5.0</td>\n",
       "      <td>0</td>\n",
       "      <td>0</td>\n",
       "      <td>0</td>\n",
       "      <td>Overcast</td>\n",
       "      <td>16.1</td>\n",
       "      <td>2016-01-01 02:51:00</td>\n",
       "      <td>2016-01-01</td>\n",
       "    </tr>\n",
       "    <tr>\n",
       "      <th>3</th>\n",
       "      <td>5.0</td>\n",
       "      <td>0</td>\n",
       "      <td>0</td>\n",
       "      <td>0</td>\n",
       "      <td>Overcast</td>\n",
       "      <td>16.1</td>\n",
       "      <td>2016-01-01 03:51:00</td>\n",
       "      <td>2016-01-01</td>\n",
       "    </tr>\n",
       "    <tr>\n",
       "      <th>4</th>\n",
       "      <td>4.4</td>\n",
       "      <td>0</td>\n",
       "      <td>0</td>\n",
       "      <td>0</td>\n",
       "      <td>Overcast</td>\n",
       "      <td>16.1</td>\n",
       "      <td>2016-01-01 04:51:00</td>\n",
       "      <td>2016-01-01</td>\n",
       "    </tr>\n",
       "  </tbody>\n",
       "</table>\n",
       "</div>"
      ],
      "text/plain": [
       "   temp  fog  rain  snow     conds   vis                date       DATE\n",
       "0   5.6    0     0     0  Overcast  16.1 2016-01-01 00:51:00 2016-01-01\n",
       "1   5.0    0     0     0  Overcast  16.1 2016-01-01 01:51:00 2016-01-01\n",
       "2   5.0    0     0     0  Overcast  16.1 2016-01-01 02:51:00 2016-01-01\n",
       "3   5.0    0     0     0  Overcast  16.1 2016-01-01 03:51:00 2016-01-01\n",
       "4   4.4    0     0     0  Overcast  16.1 2016-01-01 04:51:00 2016-01-01"
      ]
     },
     "execution_count": 169,
     "metadata": {},
     "output_type": "execute_result"
    }
   ],
   "source": [
    "weather[\"DATE\"]=weather[\"date\"].dt.normalize()\n",
    "weather.head()"
   ]
  },
  {
   "cell_type": "markdown",
   "metadata": {
    "id": "C4xEsEn-34BC"
   },
   "source": [
    "### 2.3) Please rename the features \"vis\" and \"conds\" into \"visibility\" and \"conditions\""
   ]
  },
  {
   "cell_type": "code",
   "execution_count": 170,
   "metadata": {
    "id": "S2IMvGBP34BD"
   },
   "outputs": [
    {
     "name": "stdout",
     "output_type": "stream",
     "text": [
      "<class 'pandas.core.frame.DataFrame'>\n",
      "RangeIndex: 10444 entries, 0 to 10443\n",
      "Data columns (total 8 columns):\n",
      " #   Column      Non-Null Count  Dtype         \n",
      "---  ------      --------------  -----         \n",
      " 0   temp        10444 non-null  float64       \n",
      " 1   fog         10444 non-null  int64         \n",
      " 2   rain        10444 non-null  int64         \n",
      " 3   snow        10444 non-null  int64         \n",
      " 4   conditions  10444 non-null  object        \n",
      " 5   visibility  10204 non-null  float64       \n",
      " 6   date        10444 non-null  datetime64[ns]\n",
      " 7   DATE        10444 non-null  datetime64[ns]\n",
      "dtypes: datetime64[ns](2), float64(2), int64(3), object(1)\n",
      "memory usage: 652.9+ KB\n"
     ]
    }
   ],
   "source": [
    "weather = weather.rename(columns={\"vis\": \"visibility\", \"conds\": \"conditions\"})\n",
    "weather.info()"
   ]
  },
  {
   "cell_type": "markdown",
   "metadata": {
    "id": "KOaRlqf534BK"
   },
   "source": [
    "# 3) Prepare rides data"
   ]
  },
  {
   "cell_type": "markdown",
   "metadata": {
    "id": "gRPHMgzO34BL"
   },
   "source": [
    "### 3.1) Investigate the rides dataframe "
   ]
  },
  {
   "cell_type": "code",
   "execution_count": 171,
   "metadata": {
    "id": "83DAfaX834BM"
   },
   "outputs": [
    {
     "name": "stdout",
     "output_type": "stream",
     "text": [
      "<class 'pandas.core.frame.DataFrame'>\n",
      "RangeIndex: 5000 entries, 0 to 4999\n",
      "Data columns (total 16 columns):\n",
      " #   Column               Non-Null Count  Dtype  \n",
      "---  ------               --------------  -----  \n",
      " 0   VendorID             5000 non-null   object \n",
      " 1   pickup_datetime      5000 non-null   object \n",
      " 2   passenger_count      5000 non-null   int64  \n",
      " 3   trip_distance_miles  5000 non-null   float64\n",
      " 4   pickup_longitude     5000 non-null   float64\n",
      " 5   pickup_latitude      5000 non-null   float64\n",
      " 6   RatecodeID           5000 non-null   object \n",
      " 7   dropoff_longitude    5000 non-null   float64\n",
      " 8   dropoff_latitude     5000 non-null   float64\n",
      " 9   payment_type         5000 non-null   object \n",
      " 10  total_amount         5000 non-null   float64\n",
      " 11  pickup_hour          5000 non-null   int64  \n",
      " 12  pickup_timeOfDay     5000 non-null   object \n",
      " 13  trip_distance        5000 non-null   float64\n",
      " 14  trip_duration        5000 non-null   int64  \n",
      " 15  speed                5000 non-null   float64\n",
      "dtypes: float64(8), int64(3), object(5)\n",
      "memory usage: 625.1+ KB\n"
     ]
    }
   ],
   "source": [
    "rides.info()"
   ]
  },
  {
   "cell_type": "code",
   "execution_count": 172,
   "metadata": {
    "id": "Llb4EsTI34BP"
   },
   "outputs": [
    {
     "data": {
      "text/html": [
       "<div>\n",
       "<style scoped>\n",
       "    .dataframe tbody tr th:only-of-type {\n",
       "        vertical-align: middle;\n",
       "    }\n",
       "\n",
       "    .dataframe tbody tr th {\n",
       "        vertical-align: top;\n",
       "    }\n",
       "\n",
       "    .dataframe thead th {\n",
       "        text-align: right;\n",
       "    }\n",
       "</style>\n",
       "<table border=\"1\" class=\"dataframe\">\n",
       "  <thead>\n",
       "    <tr style=\"text-align: right;\">\n",
       "      <th></th>\n",
       "      <th>VendorID</th>\n",
       "      <th>pickup_datetime</th>\n",
       "      <th>passenger_count</th>\n",
       "      <th>trip_distance_miles</th>\n",
       "      <th>pickup_longitude</th>\n",
       "      <th>pickup_latitude</th>\n",
       "      <th>RatecodeID</th>\n",
       "      <th>dropoff_longitude</th>\n",
       "      <th>dropoff_latitude</th>\n",
       "      <th>payment_type</th>\n",
       "      <th>total_amount</th>\n",
       "      <th>pickup_hour</th>\n",
       "      <th>pickup_timeOfDay</th>\n",
       "      <th>trip_distance</th>\n",
       "      <th>trip_duration</th>\n",
       "      <th>speed</th>\n",
       "    </tr>\n",
       "  </thead>\n",
       "  <tbody>\n",
       "    <tr>\n",
       "      <th>0</th>\n",
       "      <td>VeriFone Inc.</td>\n",
       "      <td>2016-01-07T05:41:17Z</td>\n",
       "      <td>1</td>\n",
       "      <td>1.24</td>\n",
       "      <td>-73.954620</td>\n",
       "      <td>40.778168</td>\n",
       "      <td>Standard rate</td>\n",
       "      <td>-73.966461</td>\n",
       "      <td>40.789097</td>\n",
       "      <td>Credit card</td>\n",
       "      <td>11.30</td>\n",
       "      <td>7</td>\n",
       "      <td>morning</td>\n",
       "      <td>1.995582</td>\n",
       "      <td>768</td>\n",
       "      <td>5.812500</td>\n",
       "    </tr>\n",
       "    <tr>\n",
       "      <th>1</th>\n",
       "      <td>VeriFone Inc.</td>\n",
       "      <td>2016-01-07T11:51:22Z</td>\n",
       "      <td>1</td>\n",
       "      <td>0.56</td>\n",
       "      <td>-73.973160</td>\n",
       "      <td>40.762642</td>\n",
       "      <td>Standard rate</td>\n",
       "      <td>-73.982422</td>\n",
       "      <td>40.766708</td>\n",
       "      <td>Credit card</td>\n",
       "      <td>6.36</td>\n",
       "      <td>13</td>\n",
       "      <td>afternoon</td>\n",
       "      <td>0.901230</td>\n",
       "      <td>250</td>\n",
       "      <td>8.064000</td>\n",
       "    </tr>\n",
       "    <tr>\n",
       "      <th>2</th>\n",
       "      <td>Creative Mobile Technologies, LLC</td>\n",
       "      <td>2016-01-09T21:10:11Z</td>\n",
       "      <td>2</td>\n",
       "      <td>2.80</td>\n",
       "      <td>-73.991508</td>\n",
       "      <td>40.759918</td>\n",
       "      <td>Standard rate</td>\n",
       "      <td>-73.979385</td>\n",
       "      <td>40.732933</td>\n",
       "      <td>Credit card</td>\n",
       "      <td>15.95</td>\n",
       "      <td>23</td>\n",
       "      <td>evening</td>\n",
       "      <td>4.506152</td>\n",
       "      <td>876</td>\n",
       "      <td>11.506849</td>\n",
       "    </tr>\n",
       "    <tr>\n",
       "      <th>3</th>\n",
       "      <td>Creative Mobile Technologies, LLC</td>\n",
       "      <td>2016-01-05T19:28:46Z</td>\n",
       "      <td>1</td>\n",
       "      <td>1.50</td>\n",
       "      <td>-73.992607</td>\n",
       "      <td>40.745228</td>\n",
       "      <td>Standard rate</td>\n",
       "      <td>-73.976349</td>\n",
       "      <td>40.732452</td>\n",
       "      <td>Credit card</td>\n",
       "      <td>10.55</td>\n",
       "      <td>21</td>\n",
       "      <td>evening</td>\n",
       "      <td>2.414010</td>\n",
       "      <td>527</td>\n",
       "      <td>10.246679</td>\n",
       "    </tr>\n",
       "    <tr>\n",
       "      <th>4</th>\n",
       "      <td>VeriFone Inc.</td>\n",
       "      <td>2016-01-04T18:36:23Z</td>\n",
       "      <td>2</td>\n",
       "      <td>1.95</td>\n",
       "      <td>-73.977104</td>\n",
       "      <td>40.755554</td>\n",
       "      <td>Standard rate</td>\n",
       "      <td>-73.959152</td>\n",
       "      <td>40.777596</td>\n",
       "      <td>Cash</td>\n",
       "      <td>9.30</td>\n",
       "      <td>20</td>\n",
       "      <td>evening</td>\n",
       "      <td>3.138213</td>\n",
       "      <td>417</td>\n",
       "      <td>16.834532</td>\n",
       "    </tr>\n",
       "  </tbody>\n",
       "</table>\n",
       "</div>"
      ],
      "text/plain": [
       "                            VendorID       pickup_datetime  passenger_count  \\\n",
       "0                      VeriFone Inc.  2016-01-07T05:41:17Z                1   \n",
       "1                      VeriFone Inc.  2016-01-07T11:51:22Z                1   \n",
       "2  Creative Mobile Technologies, LLC  2016-01-09T21:10:11Z                2   \n",
       "3  Creative Mobile Technologies, LLC  2016-01-05T19:28:46Z                1   \n",
       "4                      VeriFone Inc.  2016-01-04T18:36:23Z                2   \n",
       "\n",
       "   trip_distance_miles  pickup_longitude  pickup_latitude     RatecodeID  \\\n",
       "0                 1.24        -73.954620        40.778168  Standard rate   \n",
       "1                 0.56        -73.973160        40.762642  Standard rate   \n",
       "2                 2.80        -73.991508        40.759918  Standard rate   \n",
       "3                 1.50        -73.992607        40.745228  Standard rate   \n",
       "4                 1.95        -73.977104        40.755554  Standard rate   \n",
       "\n",
       "   dropoff_longitude  dropoff_latitude payment_type  total_amount  \\\n",
       "0         -73.966461         40.789097  Credit card         11.30   \n",
       "1         -73.982422         40.766708  Credit card          6.36   \n",
       "2         -73.979385         40.732933  Credit card         15.95   \n",
       "3         -73.976349         40.732452  Credit card         10.55   \n",
       "4         -73.959152         40.777596         Cash          9.30   \n",
       "\n",
       "   pickup_hour pickup_timeOfDay  trip_distance  trip_duration      speed  \n",
       "0            7          morning       1.995582            768   5.812500  \n",
       "1           13        afternoon       0.901230            250   8.064000  \n",
       "2           23          evening       4.506152            876  11.506849  \n",
       "3           21          evening       2.414010            527  10.246679  \n",
       "4           20          evening       3.138213            417  16.834532  "
      ]
     },
     "execution_count": 172,
     "metadata": {},
     "output_type": "execute_result"
    }
   ],
   "source": [
    "rides.head()"
   ]
  },
  {
   "cell_type": "markdown",
   "metadata": {},
   "source": [
    "The datetime has a time zone indicated (see the Z trailing the date and time \"2016-01-04T18:36:23Z\"). Here we have UTC time. As the other data does not have timezones we can remove this information. Otherwise, we would have needed to align the timezones."
   ]
  },
  {
   "cell_type": "code",
   "execution_count": 173,
   "metadata": {},
   "outputs": [],
   "source": [
    "rides[\"pickup_datetime\"] = pd.to_datetime(rides[\"pickup_datetime\"]).dt.normalize().dt.tz_localize(None)"
   ]
  },
  {
   "cell_type": "markdown",
   "metadata": {
    "id": "-9bPETnd34BS"
   },
   "source": [
    "### 3.2) Fix the date object (again)\n",
    "\n",
    "Have a look at the feature \"pickup_datetime\" - yet another format for time. Let's transform that to pandas' standard datetime with pd.to_datetime()\n",
    "\n",
    "**Note:** format of `pickup_datetime` was set in the previous cell, otherwise the `dt` methods don't work."
   ]
  },
  {
   "cell_type": "code",
   "execution_count": 174,
   "metadata": {
    "id": "tVl1P6CV34BT"
   },
   "outputs": [],
   "source": [
    "# rides[____] = pd.____(____[____])"
   ]
  },
  {
   "cell_type": "markdown",
   "metadata": {
    "id": "_Dtr__Op-CSW"
   },
   "source": [
    "Extract the date part only"
   ]
  },
  {
   "cell_type": "code",
   "execution_count": 175,
   "metadata": {
    "id": "ZSxSkNo834BY"
   },
   "outputs": [
    {
     "data": {
      "text/plain": [
       "0      2016-01-07\n",
       "1      2016-01-07\n",
       "2      2016-01-09\n",
       "3      2016-01-05\n",
       "4      2016-01-04\n",
       "          ...    \n",
       "4995   2016-01-22\n",
       "4996   2016-01-14\n",
       "4997   2016-01-06\n",
       "4998   2016-01-02\n",
       "4999   2016-01-17\n",
       "Name: pickup_datetime, Length: 5000, dtype: datetime64[ns]"
      ]
     },
     "execution_count": 175,
     "metadata": {},
     "output_type": "execute_result"
    }
   ],
   "source": [
    "# rides[\"pickup_datetime\"] = rides[\"pickup_datetime\"].____.____\n",
    "rides[\"pickup_datetime\"]"
   ]
  },
  {
   "cell_type": "markdown",
   "metadata": {
    "id": "VMMR8ViE34Be"
   },
   "source": [
    "# 4) Prepare the holidays dataframe"
   ]
  },
  {
   "cell_type": "markdown",
   "metadata": {
    "id": "aD7J80nr34Bf"
   },
   "source": [
    "### 4.1) Inspect the holidays dataframe"
   ]
  },
  {
   "cell_type": "code",
   "execution_count": 176,
   "metadata": {
    "id": "FJ6dHOdv34Bg"
   },
   "outputs": [
    {
     "name": "stdout",
     "output_type": "stream",
     "text": [
      "<class 'pandas.core.frame.DataFrame'>\n",
      "RangeIndex: 90 entries, 0 to 89\n",
      "Data columns (total 3 columns):\n",
      " #   Column   Non-Null Count  Dtype \n",
      "---  ------   --------------  ----- \n",
      " 0   Index    90 non-null     int64 \n",
      " 1   Date     90 non-null     object\n",
      " 2   Holiday  90 non-null     object\n",
      "dtypes: int64(1), object(2)\n",
      "memory usage: 2.2+ KB\n"
     ]
    }
   ],
   "source": [
    "holidays.info()"
   ]
  },
  {
   "cell_type": "code",
   "execution_count": 177,
   "metadata": {
    "id": "nKVFFPqf34Bj"
   },
   "outputs": [
    {
     "data": {
      "text/html": [
       "<div>\n",
       "<style scoped>\n",
       "    .dataframe tbody tr th:only-of-type {\n",
       "        vertical-align: middle;\n",
       "    }\n",
       "\n",
       "    .dataframe tbody tr th {\n",
       "        vertical-align: top;\n",
       "    }\n",
       "\n",
       "    .dataframe thead th {\n",
       "        text-align: right;\n",
       "    }\n",
       "</style>\n",
       "<table border=\"1\" class=\"dataframe\">\n",
       "  <thead>\n",
       "    <tr style=\"text-align: right;\">\n",
       "      <th></th>\n",
       "      <th>Index</th>\n",
       "      <th>Date</th>\n",
       "      <th>Holiday</th>\n",
       "    </tr>\n",
       "  </thead>\n",
       "  <tbody>\n",
       "    <tr>\n",
       "      <th>0</th>\n",
       "      <td>1</td>\n",
       "      <td>02/01/2012</td>\n",
       "      <td>New Year Day</td>\n",
       "    </tr>\n",
       "    <tr>\n",
       "      <th>1</th>\n",
       "      <td>2</td>\n",
       "      <td>16/01/2012</td>\n",
       "      <td>Martin Luther King Jr. Day</td>\n",
       "    </tr>\n",
       "    <tr>\n",
       "      <th>2</th>\n",
       "      <td>3</td>\n",
       "      <td>20/02/2012</td>\n",
       "      <td>Presidents Day (Washingtons Birthday)</td>\n",
       "    </tr>\n",
       "    <tr>\n",
       "      <th>3</th>\n",
       "      <td>4</td>\n",
       "      <td>28/05/2012</td>\n",
       "      <td>Memorial Day</td>\n",
       "    </tr>\n",
       "    <tr>\n",
       "      <th>4</th>\n",
       "      <td>5</td>\n",
       "      <td>04/07/2012</td>\n",
       "      <td>Independence Day</td>\n",
       "    </tr>\n",
       "  </tbody>\n",
       "</table>\n",
       "</div>"
      ],
      "text/plain": [
       "   Index        Date                                Holiday\n",
       "0      1  02/01/2012                           New Year Day\n",
       "1      2  16/01/2012             Martin Luther King Jr. Day\n",
       "2      3  20/02/2012  Presidents Day (Washingtons Birthday)\n",
       "3      4  28/05/2012                           Memorial Day\n",
       "4      5  04/07/2012                       Independence Day"
      ]
     },
     "execution_count": 177,
     "metadata": {},
     "output_type": "execute_result"
    }
   ],
   "source": [
    "holidays.head()"
   ]
  },
  {
   "cell_type": "markdown",
   "metadata": {
    "id": "3QxOj3Ka34Bl"
   },
   "source": [
    "### 4.2) Remove the feature \"Index\". We don't need that. Remove that feature from the data frame"
   ]
  },
  {
   "cell_type": "code",
   "execution_count": 178,
   "metadata": {
    "id": "tkM6HHxE34Bm"
   },
   "outputs": [],
   "source": [
    "del(holidays[\"Index\"])"
   ]
  },
  {
   "cell_type": "markdown",
   "metadata": {
    "id": "F85gZX9t34Bt"
   },
   "source": [
    "### 4.3) And again, a different format for dates. Fix it!"
   ]
  },
  {
   "cell_type": "code",
   "execution_count": 179,
   "metadata": {},
   "outputs": [
    {
     "name": "stderr",
     "output_type": "stream",
     "text": [
      "/tmp/ipykernel_138712/4240092311.py:1: UserWarning: Parsing dates in DD/MM/YYYY format when dayfirst=False (the default) was specified. This may lead to inconsistently parsed dates! Specify a format to ensure consistent parsing.\n",
      "  holidays[\"Date\"]=pd.to_datetime(holidays[\"Date\"]).dt.normalize()\n"
     ]
    },
    {
     "data": {
      "text/html": [
       "<div>\n",
       "<style scoped>\n",
       "    .dataframe tbody tr th:only-of-type {\n",
       "        vertical-align: middle;\n",
       "    }\n",
       "\n",
       "    .dataframe tbody tr th {\n",
       "        vertical-align: top;\n",
       "    }\n",
       "\n",
       "    .dataframe thead th {\n",
       "        text-align: right;\n",
       "    }\n",
       "</style>\n",
       "<table border=\"1\" class=\"dataframe\">\n",
       "  <thead>\n",
       "    <tr style=\"text-align: right;\">\n",
       "      <th></th>\n",
       "      <th>Date</th>\n",
       "      <th>Holiday</th>\n",
       "    </tr>\n",
       "  </thead>\n",
       "  <tbody>\n",
       "    <tr>\n",
       "      <th>0</th>\n",
       "      <td>2012-02-01</td>\n",
       "      <td>New Year Day</td>\n",
       "    </tr>\n",
       "    <tr>\n",
       "      <th>1</th>\n",
       "      <td>2012-01-16</td>\n",
       "      <td>Martin Luther King Jr. Day</td>\n",
       "    </tr>\n",
       "    <tr>\n",
       "      <th>2</th>\n",
       "      <td>2012-02-20</td>\n",
       "      <td>Presidents Day (Washingtons Birthday)</td>\n",
       "    </tr>\n",
       "    <tr>\n",
       "      <th>3</th>\n",
       "      <td>2012-05-28</td>\n",
       "      <td>Memorial Day</td>\n",
       "    </tr>\n",
       "    <tr>\n",
       "      <th>4</th>\n",
       "      <td>2012-04-07</td>\n",
       "      <td>Independence Day</td>\n",
       "    </tr>\n",
       "  </tbody>\n",
       "</table>\n",
       "</div>"
      ],
      "text/plain": [
       "        Date                                Holiday\n",
       "0 2012-02-01                           New Year Day\n",
       "1 2012-01-16             Martin Luther King Jr. Day\n",
       "2 2012-02-20  Presidents Day (Washingtons Birthday)\n",
       "3 2012-05-28                           Memorial Day\n",
       "4 2012-04-07                       Independence Day"
      ]
     },
     "execution_count": 179,
     "metadata": {},
     "output_type": "execute_result"
    }
   ],
   "source": [
    "holidays[\"Date\"]=pd.to_datetime(holidays[\"Date\"]).dt.normalize()\n",
    "\n",
    "holidays.head()"
   ]
  },
  {
   "cell_type": "markdown",
   "metadata": {},
   "source": [
    "The command may generate a warning, because pandas fails to parse the format automatically. You can ignore it (not generally, but in this case)"
   ]
  },
  {
   "cell_type": "markdown",
   "metadata": {
    "id": "6Y3yfsle34Bz"
   },
   "source": [
    "# 5) Merge rides and holidays"
   ]
  },
  {
   "attachments": {},
   "cell_type": "markdown",
   "metadata": {
    "id": "ccskBfF834B0"
   },
   "source": [
    "Let's merge together the three data frames on the date variable. However, these dataframes can get messy real fast. Take a look at below merge."
   ]
  },
  {
   "cell_type": "code",
   "execution_count": 180,
   "metadata": {
    "colab": {
     "base_uri": "https://localhost:8080/",
     "height": 352
    },
    "executionInfo": {
     "elapsed": 567,
     "status": "error",
     "timestamp": 1583265025610,
     "user": {
      "displayName": "Ivo Blohm",
      "photoUrl": "",
      "userId": "03588522102684867783"
     },
     "user_tz": -60
    },
    "id": "ZZxqeXMw34B0",
    "outputId": "5644b52e-2a62-45aa-c14f-33b871083a1d"
   },
   "outputs": [
    {
     "data": {
      "text/html": [
       "<div>\n",
       "<style scoped>\n",
       "    .dataframe tbody tr th:only-of-type {\n",
       "        vertical-align: middle;\n",
       "    }\n",
       "\n",
       "    .dataframe tbody tr th {\n",
       "        vertical-align: top;\n",
       "    }\n",
       "\n",
       "    .dataframe thead th {\n",
       "        text-align: right;\n",
       "    }\n",
       "</style>\n",
       "<table border=\"1\" class=\"dataframe\">\n",
       "  <thead>\n",
       "    <tr style=\"text-align: right;\">\n",
       "      <th></th>\n",
       "      <th>VendorID</th>\n",
       "      <th>pickup_datetime</th>\n",
       "      <th>passenger_count</th>\n",
       "      <th>trip_distance_miles</th>\n",
       "      <th>pickup_longitude</th>\n",
       "      <th>pickup_latitude</th>\n",
       "      <th>RatecodeID</th>\n",
       "      <th>dropoff_longitude</th>\n",
       "      <th>dropoff_latitude</th>\n",
       "      <th>payment_type</th>\n",
       "      <th>total_amount</th>\n",
       "      <th>pickup_hour</th>\n",
       "      <th>pickup_timeOfDay</th>\n",
       "      <th>trip_distance</th>\n",
       "      <th>trip_duration</th>\n",
       "      <th>speed</th>\n",
       "      <th>Date</th>\n",
       "      <th>Holiday</th>\n",
       "    </tr>\n",
       "  </thead>\n",
       "  <tbody>\n",
       "    <tr>\n",
       "      <th>0</th>\n",
       "      <td>VeriFone Inc.</td>\n",
       "      <td>2016-01-18</td>\n",
       "      <td>1</td>\n",
       "      <td>19.33</td>\n",
       "      <td>-73.989098</td>\n",
       "      <td>40.776932</td>\n",
       "      <td>Newark</td>\n",
       "      <td>-74.178627</td>\n",
       "      <td>40.690201</td>\n",
       "      <td>Credit card</td>\n",
       "      <td>100.00</td>\n",
       "      <td>15</td>\n",
       "      <td>afternoon</td>\n",
       "      <td>31.108542</td>\n",
       "      <td>2156</td>\n",
       "      <td>32.276438</td>\n",
       "      <td>2016-01-18</td>\n",
       "      <td>Martin Luther King Jr. Day</td>\n",
       "    </tr>\n",
       "    <tr>\n",
       "      <th>1</th>\n",
       "      <td>Creative Mobile Technologies, LLC</td>\n",
       "      <td>2016-01-18</td>\n",
       "      <td>1</td>\n",
       "      <td>3.50</td>\n",
       "      <td>-73.991867</td>\n",
       "      <td>40.725887</td>\n",
       "      <td>Standard rate</td>\n",
       "      <td>-73.991783</td>\n",
       "      <td>40.764507</td>\n",
       "      <td>Credit card</td>\n",
       "      <td>17.15</td>\n",
       "      <td>3</td>\n",
       "      <td>night</td>\n",
       "      <td>5.632690</td>\n",
       "      <td>759</td>\n",
       "      <td>16.600791</td>\n",
       "      <td>2016-01-18</td>\n",
       "      <td>Martin Luther King Jr. Day</td>\n",
       "    </tr>\n",
       "    <tr>\n",
       "      <th>2</th>\n",
       "      <td>Creative Mobile Technologies, LLC</td>\n",
       "      <td>2016-01-18</td>\n",
       "      <td>1</td>\n",
       "      <td>5.20</td>\n",
       "      <td>-73.984650</td>\n",
       "      <td>40.748341</td>\n",
       "      <td>Standard rate</td>\n",
       "      <td>-73.953629</td>\n",
       "      <td>40.806885</td>\n",
       "      <td>Credit card</td>\n",
       "      <td>21.35</td>\n",
       "      <td>21</td>\n",
       "      <td>evening</td>\n",
       "      <td>8.368568</td>\n",
       "      <td>969</td>\n",
       "      <td>19.318885</td>\n",
       "      <td>2016-01-18</td>\n",
       "      <td>Martin Luther King Jr. Day</td>\n",
       "    </tr>\n",
       "    <tr>\n",
       "      <th>3</th>\n",
       "      <td>VeriFone Inc.</td>\n",
       "      <td>2016-01-18</td>\n",
       "      <td>2</td>\n",
       "      <td>1.08</td>\n",
       "      <td>-73.972603</td>\n",
       "      <td>40.753571</td>\n",
       "      <td>Standard rate</td>\n",
       "      <td>-73.961899</td>\n",
       "      <td>40.766972</td>\n",
       "      <td>Cash</td>\n",
       "      <td>6.80</td>\n",
       "      <td>14</td>\n",
       "      <td>afternoon</td>\n",
       "      <td>1.738087</td>\n",
       "      <td>303</td>\n",
       "      <td>12.831683</td>\n",
       "      <td>2016-01-18</td>\n",
       "      <td>Martin Luther King Jr. Day</td>\n",
       "    </tr>\n",
       "    <tr>\n",
       "      <th>4</th>\n",
       "      <td>Creative Mobile Technologies, LLC</td>\n",
       "      <td>2016-01-18</td>\n",
       "      <td>1</td>\n",
       "      <td>1.50</td>\n",
       "      <td>-73.977386</td>\n",
       "      <td>40.755417</td>\n",
       "      <td>Standard rate</td>\n",
       "      <td>-73.963631</td>\n",
       "      <td>40.774303</td>\n",
       "      <td>Cash</td>\n",
       "      <td>7.80</td>\n",
       "      <td>19</td>\n",
       "      <td>evening</td>\n",
       "      <td>2.414010</td>\n",
       "      <td>387</td>\n",
       "      <td>13.953488</td>\n",
       "      <td>2016-01-18</td>\n",
       "      <td>Martin Luther King Jr. Day</td>\n",
       "    </tr>\n",
       "    <tr>\n",
       "      <th>...</th>\n",
       "      <td>...</td>\n",
       "      <td>...</td>\n",
       "      <td>...</td>\n",
       "      <td>...</td>\n",
       "      <td>...</td>\n",
       "      <td>...</td>\n",
       "      <td>...</td>\n",
       "      <td>...</td>\n",
       "      <td>...</td>\n",
       "      <td>...</td>\n",
       "      <td>...</td>\n",
       "      <td>...</td>\n",
       "      <td>...</td>\n",
       "      <td>...</td>\n",
       "      <td>...</td>\n",
       "      <td>...</td>\n",
       "      <td>...</td>\n",
       "      <td>...</td>\n",
       "    </tr>\n",
       "    <tr>\n",
       "      <th>161</th>\n",
       "      <td>Creative Mobile Technologies, LLC</td>\n",
       "      <td>2016-01-18</td>\n",
       "      <td>1</td>\n",
       "      <td>0.90</td>\n",
       "      <td>-73.993439</td>\n",
       "      <td>40.733177</td>\n",
       "      <td>Standard rate</td>\n",
       "      <td>-73.992279</td>\n",
       "      <td>40.743637</td>\n",
       "      <td>Credit card</td>\n",
       "      <td>8.15</td>\n",
       "      <td>15</td>\n",
       "      <td>afternoon</td>\n",
       "      <td>1.448406</td>\n",
       "      <td>373</td>\n",
       "      <td>8.686327</td>\n",
       "      <td>2016-01-18</td>\n",
       "      <td>Martin Luther King Jr. Day</td>\n",
       "    </tr>\n",
       "    <tr>\n",
       "      <th>162</th>\n",
       "      <td>VeriFone Inc.</td>\n",
       "      <td>2016-01-01</td>\n",
       "      <td>1</td>\n",
       "      <td>1.08</td>\n",
       "      <td>-73.969757</td>\n",
       "      <td>40.763031</td>\n",
       "      <td>Standard rate</td>\n",
       "      <td>-73.984650</td>\n",
       "      <td>40.762878</td>\n",
       "      <td>Credit card</td>\n",
       "      <td>9.12</td>\n",
       "      <td>1</td>\n",
       "      <td>night</td>\n",
       "      <td>1.738087</td>\n",
       "      <td>361</td>\n",
       "      <td>10.770083</td>\n",
       "      <td>2016-01-01</td>\n",
       "      <td>New Year Day</td>\n",
       "    </tr>\n",
       "    <tr>\n",
       "      <th>163</th>\n",
       "      <td>Creative Mobile Technologies, LLC</td>\n",
       "      <td>2016-01-01</td>\n",
       "      <td>1</td>\n",
       "      <td>2.00</td>\n",
       "      <td>-73.990265</td>\n",
       "      <td>40.719105</td>\n",
       "      <td>Standard rate</td>\n",
       "      <td>-73.997566</td>\n",
       "      <td>40.720982</td>\n",
       "      <td>Credit card</td>\n",
       "      <td>20.15</td>\n",
       "      <td>1</td>\n",
       "      <td>night</td>\n",
       "      <td>3.218680</td>\n",
       "      <td>1414</td>\n",
       "      <td>5.091938</td>\n",
       "      <td>2016-01-01</td>\n",
       "      <td>New Year Day</td>\n",
       "    </tr>\n",
       "    <tr>\n",
       "      <th>164</th>\n",
       "      <td>VeriFone Inc.</td>\n",
       "      <td>2016-01-01</td>\n",
       "      <td>6</td>\n",
       "      <td>3.39</td>\n",
       "      <td>-74.001389</td>\n",
       "      <td>40.730984</td>\n",
       "      <td>Standard rate</td>\n",
       "      <td>-73.984207</td>\n",
       "      <td>40.759823</td>\n",
       "      <td>Credit card</td>\n",
       "      <td>14.30</td>\n",
       "      <td>1</td>\n",
       "      <td>night</td>\n",
       "      <td>5.455663</td>\n",
       "      <td>789</td>\n",
       "      <td>15.467681</td>\n",
       "      <td>2016-01-01</td>\n",
       "      <td>New Year Day</td>\n",
       "    </tr>\n",
       "    <tr>\n",
       "      <th>165</th>\n",
       "      <td>VeriFone Inc.</td>\n",
       "      <td>2016-01-01</td>\n",
       "      <td>1</td>\n",
       "      <td>4.85</td>\n",
       "      <td>-73.939339</td>\n",
       "      <td>40.848400</td>\n",
       "      <td>Standard rate</td>\n",
       "      <td>-73.890343</td>\n",
       "      <td>40.822430</td>\n",
       "      <td>Credit card</td>\n",
       "      <td>16.80</td>\n",
       "      <td>1</td>\n",
       "      <td>night</td>\n",
       "      <td>7.805299</td>\n",
       "      <td>626</td>\n",
       "      <td>27.891374</td>\n",
       "      <td>2016-01-01</td>\n",
       "      <td>New Year Day</td>\n",
       "    </tr>\n",
       "  </tbody>\n",
       "</table>\n",
       "<p>166 rows × 18 columns</p>\n",
       "</div>"
      ],
      "text/plain": [
       "                              VendorID pickup_datetime  passenger_count  \\\n",
       "0                        VeriFone Inc.      2016-01-18                1   \n",
       "1    Creative Mobile Technologies, LLC      2016-01-18                1   \n",
       "2    Creative Mobile Technologies, LLC      2016-01-18                1   \n",
       "3                        VeriFone Inc.      2016-01-18                2   \n",
       "4    Creative Mobile Technologies, LLC      2016-01-18                1   \n",
       "..                                 ...             ...              ...   \n",
       "161  Creative Mobile Technologies, LLC      2016-01-18                1   \n",
       "162                      VeriFone Inc.      2016-01-01                1   \n",
       "163  Creative Mobile Technologies, LLC      2016-01-01                1   \n",
       "164                      VeriFone Inc.      2016-01-01                6   \n",
       "165                      VeriFone Inc.      2016-01-01                1   \n",
       "\n",
       "     trip_distance_miles  pickup_longitude  pickup_latitude     RatecodeID  \\\n",
       "0                  19.33        -73.989098        40.776932         Newark   \n",
       "1                   3.50        -73.991867        40.725887  Standard rate   \n",
       "2                   5.20        -73.984650        40.748341  Standard rate   \n",
       "3                   1.08        -73.972603        40.753571  Standard rate   \n",
       "4                   1.50        -73.977386        40.755417  Standard rate   \n",
       "..                   ...               ...              ...            ...   \n",
       "161                 0.90        -73.993439        40.733177  Standard rate   \n",
       "162                 1.08        -73.969757        40.763031  Standard rate   \n",
       "163                 2.00        -73.990265        40.719105  Standard rate   \n",
       "164                 3.39        -74.001389        40.730984  Standard rate   \n",
       "165                 4.85        -73.939339        40.848400  Standard rate   \n",
       "\n",
       "     dropoff_longitude  dropoff_latitude payment_type  total_amount  \\\n",
       "0           -74.178627         40.690201  Credit card        100.00   \n",
       "1           -73.991783         40.764507  Credit card         17.15   \n",
       "2           -73.953629         40.806885  Credit card         21.35   \n",
       "3           -73.961899         40.766972         Cash          6.80   \n",
       "4           -73.963631         40.774303         Cash          7.80   \n",
       "..                 ...               ...          ...           ...   \n",
       "161         -73.992279         40.743637  Credit card          8.15   \n",
       "162         -73.984650         40.762878  Credit card          9.12   \n",
       "163         -73.997566         40.720982  Credit card         20.15   \n",
       "164         -73.984207         40.759823  Credit card         14.30   \n",
       "165         -73.890343         40.822430  Credit card         16.80   \n",
       "\n",
       "     pickup_hour pickup_timeOfDay  trip_distance  trip_duration      speed  \\\n",
       "0             15        afternoon      31.108542           2156  32.276438   \n",
       "1              3            night       5.632690            759  16.600791   \n",
       "2             21          evening       8.368568            969  19.318885   \n",
       "3             14        afternoon       1.738087            303  12.831683   \n",
       "4             19          evening       2.414010            387  13.953488   \n",
       "..           ...              ...            ...            ...        ...   \n",
       "161           15        afternoon       1.448406            373   8.686327   \n",
       "162            1            night       1.738087            361  10.770083   \n",
       "163            1            night       3.218680           1414   5.091938   \n",
       "164            1            night       5.455663            789  15.467681   \n",
       "165            1            night       7.805299            626  27.891374   \n",
       "\n",
       "          Date                     Holiday  \n",
       "0   2016-01-18  Martin Luther King Jr. Day  \n",
       "1   2016-01-18  Martin Luther King Jr. Day  \n",
       "2   2016-01-18  Martin Luther King Jr. Day  \n",
       "3   2016-01-18  Martin Luther King Jr. Day  \n",
       "4   2016-01-18  Martin Luther King Jr. Day  \n",
       "..         ...                         ...  \n",
       "161 2016-01-18  Martin Luther King Jr. Day  \n",
       "162 2016-01-01                New Year Day  \n",
       "163 2016-01-01                New Year Day  \n",
       "164 2016-01-01                New Year Day  \n",
       "165 2016-01-01                New Year Day  \n",
       "\n",
       "[166 rows x 18 columns]"
      ]
     },
     "execution_count": 180,
     "metadata": {},
     "output_type": "execute_result"
    }
   ],
   "source": [
    "pd.merge(rides, \n",
    "         holidays, \n",
    "         how=\"inner\", \n",
    "         left_on=\"pickup_datetime\", \n",
    "         right_on=\"Date\")"
   ]
  },
  {
   "attachments": {},
   "cell_type": "markdown",
   "metadata": {
    "id": "nhiphxv634B3"
   },
   "source": [
    "If we work with date features usually the dates are used as index values. In pandas that is, the row names (0 to 4 on the left side in the following table) "
   ]
  },
  {
   "cell_type": "code",
   "execution_count": 181,
   "metadata": {
    "colab": {
     "base_uri": "https://localhost:8080/",
     "height": 367
    },
    "executionInfo": {
     "elapsed": 511,
     "status": "ok",
     "timestamp": 1583265029643,
     "user": {
      "displayName": "Ivo Blohm",
      "photoUrl": "",
      "userId": "03588522102684867783"
     },
     "user_tz": -60
    },
    "id": "-imTRHAZ34B4",
    "outputId": "9824c537-fb33-4914-dbce-e9ff4776c19a"
   },
   "outputs": [
    {
     "data": {
      "text/html": [
       "<div>\n",
       "<style scoped>\n",
       "    .dataframe tbody tr th:only-of-type {\n",
       "        vertical-align: middle;\n",
       "    }\n",
       "\n",
       "    .dataframe tbody tr th {\n",
       "        vertical-align: top;\n",
       "    }\n",
       "\n",
       "    .dataframe thead th {\n",
       "        text-align: right;\n",
       "    }\n",
       "</style>\n",
       "<table border=\"1\" class=\"dataframe\">\n",
       "  <thead>\n",
       "    <tr style=\"text-align: right;\">\n",
       "      <th></th>\n",
       "      <th>VendorID</th>\n",
       "      <th>pickup_datetime</th>\n",
       "      <th>passenger_count</th>\n",
       "      <th>trip_distance_miles</th>\n",
       "      <th>pickup_longitude</th>\n",
       "      <th>pickup_latitude</th>\n",
       "      <th>RatecodeID</th>\n",
       "      <th>dropoff_longitude</th>\n",
       "      <th>dropoff_latitude</th>\n",
       "      <th>payment_type</th>\n",
       "      <th>total_amount</th>\n",
       "      <th>pickup_hour</th>\n",
       "      <th>pickup_timeOfDay</th>\n",
       "      <th>trip_distance</th>\n",
       "      <th>trip_duration</th>\n",
       "      <th>speed</th>\n",
       "    </tr>\n",
       "  </thead>\n",
       "  <tbody>\n",
       "    <tr>\n",
       "      <th>0</th>\n",
       "      <td>VeriFone Inc.</td>\n",
       "      <td>2016-01-07</td>\n",
       "      <td>1</td>\n",
       "      <td>1.24</td>\n",
       "      <td>-73.954620</td>\n",
       "      <td>40.778168</td>\n",
       "      <td>Standard rate</td>\n",
       "      <td>-73.966461</td>\n",
       "      <td>40.789097</td>\n",
       "      <td>Credit card</td>\n",
       "      <td>11.30</td>\n",
       "      <td>7</td>\n",
       "      <td>morning</td>\n",
       "      <td>1.995582</td>\n",
       "      <td>768</td>\n",
       "      <td>5.812500</td>\n",
       "    </tr>\n",
       "    <tr>\n",
       "      <th>1</th>\n",
       "      <td>VeriFone Inc.</td>\n",
       "      <td>2016-01-07</td>\n",
       "      <td>1</td>\n",
       "      <td>0.56</td>\n",
       "      <td>-73.973160</td>\n",
       "      <td>40.762642</td>\n",
       "      <td>Standard rate</td>\n",
       "      <td>-73.982422</td>\n",
       "      <td>40.766708</td>\n",
       "      <td>Credit card</td>\n",
       "      <td>6.36</td>\n",
       "      <td>13</td>\n",
       "      <td>afternoon</td>\n",
       "      <td>0.901230</td>\n",
       "      <td>250</td>\n",
       "      <td>8.064000</td>\n",
       "    </tr>\n",
       "    <tr>\n",
       "      <th>2</th>\n",
       "      <td>Creative Mobile Technologies, LLC</td>\n",
       "      <td>2016-01-09</td>\n",
       "      <td>2</td>\n",
       "      <td>2.80</td>\n",
       "      <td>-73.991508</td>\n",
       "      <td>40.759918</td>\n",
       "      <td>Standard rate</td>\n",
       "      <td>-73.979385</td>\n",
       "      <td>40.732933</td>\n",
       "      <td>Credit card</td>\n",
       "      <td>15.95</td>\n",
       "      <td>23</td>\n",
       "      <td>evening</td>\n",
       "      <td>4.506152</td>\n",
       "      <td>876</td>\n",
       "      <td>11.506849</td>\n",
       "    </tr>\n",
       "    <tr>\n",
       "      <th>3</th>\n",
       "      <td>Creative Mobile Technologies, LLC</td>\n",
       "      <td>2016-01-05</td>\n",
       "      <td>1</td>\n",
       "      <td>1.50</td>\n",
       "      <td>-73.992607</td>\n",
       "      <td>40.745228</td>\n",
       "      <td>Standard rate</td>\n",
       "      <td>-73.976349</td>\n",
       "      <td>40.732452</td>\n",
       "      <td>Credit card</td>\n",
       "      <td>10.55</td>\n",
       "      <td>21</td>\n",
       "      <td>evening</td>\n",
       "      <td>2.414010</td>\n",
       "      <td>527</td>\n",
       "      <td>10.246679</td>\n",
       "    </tr>\n",
       "    <tr>\n",
       "      <th>4</th>\n",
       "      <td>VeriFone Inc.</td>\n",
       "      <td>2016-01-04</td>\n",
       "      <td>2</td>\n",
       "      <td>1.95</td>\n",
       "      <td>-73.977104</td>\n",
       "      <td>40.755554</td>\n",
       "      <td>Standard rate</td>\n",
       "      <td>-73.959152</td>\n",
       "      <td>40.777596</td>\n",
       "      <td>Cash</td>\n",
       "      <td>9.30</td>\n",
       "      <td>20</td>\n",
       "      <td>evening</td>\n",
       "      <td>3.138213</td>\n",
       "      <td>417</td>\n",
       "      <td>16.834532</td>\n",
       "    </tr>\n",
       "  </tbody>\n",
       "</table>\n",
       "</div>"
      ],
      "text/plain": [
       "                            VendorID pickup_datetime  passenger_count  \\\n",
       "0                      VeriFone Inc.      2016-01-07                1   \n",
       "1                      VeriFone Inc.      2016-01-07                1   \n",
       "2  Creative Mobile Technologies, LLC      2016-01-09                2   \n",
       "3  Creative Mobile Technologies, LLC      2016-01-05                1   \n",
       "4                      VeriFone Inc.      2016-01-04                2   \n",
       "\n",
       "   trip_distance_miles  pickup_longitude  pickup_latitude     RatecodeID  \\\n",
       "0                 1.24        -73.954620        40.778168  Standard rate   \n",
       "1                 0.56        -73.973160        40.762642  Standard rate   \n",
       "2                 2.80        -73.991508        40.759918  Standard rate   \n",
       "3                 1.50        -73.992607        40.745228  Standard rate   \n",
       "4                 1.95        -73.977104        40.755554  Standard rate   \n",
       "\n",
       "   dropoff_longitude  dropoff_latitude payment_type  total_amount  \\\n",
       "0         -73.966461         40.789097  Credit card         11.30   \n",
       "1         -73.982422         40.766708  Credit card          6.36   \n",
       "2         -73.979385         40.732933  Credit card         15.95   \n",
       "3         -73.976349         40.732452  Credit card         10.55   \n",
       "4         -73.959152         40.777596         Cash          9.30   \n",
       "\n",
       "   pickup_hour pickup_timeOfDay  trip_distance  trip_duration      speed  \n",
       "0            7          morning       1.995582            768   5.812500  \n",
       "1           13        afternoon       0.901230            250   8.064000  \n",
       "2           23          evening       4.506152            876  11.506849  \n",
       "3           21          evening       2.414010            527  10.246679  \n",
       "4           20          evening       3.138213            417  16.834532  "
      ]
     },
     "execution_count": 181,
     "metadata": {},
     "output_type": "execute_result"
    }
   ],
   "source": [
    "rides.head()"
   ]
  },
  {
   "cell_type": "markdown",
   "metadata": {
    "id": "CbpAJJRI34B9"
   },
   "source": [
    "We have to rename the index / row names. We can do that with the .set_index() method of pandas. In the following example, we rename the index from a number, e.g., 0 to 4, to the pickup_datetime."
   ]
  },
  {
   "cell_type": "code",
   "execution_count": 182,
   "metadata": {
    "colab": {
     "base_uri": "https://localhost:8080/",
     "height": 397
    },
    "executionInfo": {
     "elapsed": 518,
     "status": "ok",
     "timestamp": 1583265032226,
     "user": {
      "displayName": "Ivo Blohm",
      "photoUrl": "",
      "userId": "03588522102684867783"
     },
     "user_tz": -60
    },
    "id": "QBLIlhhG34B-",
    "outputId": "c61f1680-71a8-4e47-a560-71a13a5e4129"
   },
   "outputs": [
    {
     "data": {
      "text/html": [
       "<div>\n",
       "<style scoped>\n",
       "    .dataframe tbody tr th:only-of-type {\n",
       "        vertical-align: middle;\n",
       "    }\n",
       "\n",
       "    .dataframe tbody tr th {\n",
       "        vertical-align: top;\n",
       "    }\n",
       "\n",
       "    .dataframe thead th {\n",
       "        text-align: right;\n",
       "    }\n",
       "</style>\n",
       "<table border=\"1\" class=\"dataframe\">\n",
       "  <thead>\n",
       "    <tr style=\"text-align: right;\">\n",
       "      <th></th>\n",
       "      <th>VendorID</th>\n",
       "      <th>pickup_datetime</th>\n",
       "      <th>passenger_count</th>\n",
       "      <th>trip_distance_miles</th>\n",
       "      <th>pickup_longitude</th>\n",
       "      <th>pickup_latitude</th>\n",
       "      <th>RatecodeID</th>\n",
       "      <th>dropoff_longitude</th>\n",
       "      <th>dropoff_latitude</th>\n",
       "      <th>payment_type</th>\n",
       "      <th>total_amount</th>\n",
       "      <th>pickup_hour</th>\n",
       "      <th>pickup_timeOfDay</th>\n",
       "      <th>trip_distance</th>\n",
       "      <th>trip_duration</th>\n",
       "      <th>speed</th>\n",
       "    </tr>\n",
       "    <tr>\n",
       "      <th>pickup_datetime</th>\n",
       "      <th></th>\n",
       "      <th></th>\n",
       "      <th></th>\n",
       "      <th></th>\n",
       "      <th></th>\n",
       "      <th></th>\n",
       "      <th></th>\n",
       "      <th></th>\n",
       "      <th></th>\n",
       "      <th></th>\n",
       "      <th></th>\n",
       "      <th></th>\n",
       "      <th></th>\n",
       "      <th></th>\n",
       "      <th></th>\n",
       "      <th></th>\n",
       "    </tr>\n",
       "  </thead>\n",
       "  <tbody>\n",
       "    <tr>\n",
       "      <th>2016-01-07</th>\n",
       "      <td>VeriFone Inc.</td>\n",
       "      <td>2016-01-07</td>\n",
       "      <td>1</td>\n",
       "      <td>1.24</td>\n",
       "      <td>-73.954620</td>\n",
       "      <td>40.778168</td>\n",
       "      <td>Standard rate</td>\n",
       "      <td>-73.966461</td>\n",
       "      <td>40.789097</td>\n",
       "      <td>Credit card</td>\n",
       "      <td>11.30</td>\n",
       "      <td>7</td>\n",
       "      <td>morning</td>\n",
       "      <td>1.995582</td>\n",
       "      <td>768</td>\n",
       "      <td>5.812500</td>\n",
       "    </tr>\n",
       "    <tr>\n",
       "      <th>2016-01-07</th>\n",
       "      <td>VeriFone Inc.</td>\n",
       "      <td>2016-01-07</td>\n",
       "      <td>1</td>\n",
       "      <td>0.56</td>\n",
       "      <td>-73.973160</td>\n",
       "      <td>40.762642</td>\n",
       "      <td>Standard rate</td>\n",
       "      <td>-73.982422</td>\n",
       "      <td>40.766708</td>\n",
       "      <td>Credit card</td>\n",
       "      <td>6.36</td>\n",
       "      <td>13</td>\n",
       "      <td>afternoon</td>\n",
       "      <td>0.901230</td>\n",
       "      <td>250</td>\n",
       "      <td>8.064000</td>\n",
       "    </tr>\n",
       "    <tr>\n",
       "      <th>2016-01-09</th>\n",
       "      <td>Creative Mobile Technologies, LLC</td>\n",
       "      <td>2016-01-09</td>\n",
       "      <td>2</td>\n",
       "      <td>2.80</td>\n",
       "      <td>-73.991508</td>\n",
       "      <td>40.759918</td>\n",
       "      <td>Standard rate</td>\n",
       "      <td>-73.979385</td>\n",
       "      <td>40.732933</td>\n",
       "      <td>Credit card</td>\n",
       "      <td>15.95</td>\n",
       "      <td>23</td>\n",
       "      <td>evening</td>\n",
       "      <td>4.506152</td>\n",
       "      <td>876</td>\n",
       "      <td>11.506849</td>\n",
       "    </tr>\n",
       "    <tr>\n",
       "      <th>2016-01-05</th>\n",
       "      <td>Creative Mobile Technologies, LLC</td>\n",
       "      <td>2016-01-05</td>\n",
       "      <td>1</td>\n",
       "      <td>1.50</td>\n",
       "      <td>-73.992607</td>\n",
       "      <td>40.745228</td>\n",
       "      <td>Standard rate</td>\n",
       "      <td>-73.976349</td>\n",
       "      <td>40.732452</td>\n",
       "      <td>Credit card</td>\n",
       "      <td>10.55</td>\n",
       "      <td>21</td>\n",
       "      <td>evening</td>\n",
       "      <td>2.414010</td>\n",
       "      <td>527</td>\n",
       "      <td>10.246679</td>\n",
       "    </tr>\n",
       "    <tr>\n",
       "      <th>2016-01-04</th>\n",
       "      <td>VeriFone Inc.</td>\n",
       "      <td>2016-01-04</td>\n",
       "      <td>2</td>\n",
       "      <td>1.95</td>\n",
       "      <td>-73.977104</td>\n",
       "      <td>40.755554</td>\n",
       "      <td>Standard rate</td>\n",
       "      <td>-73.959152</td>\n",
       "      <td>40.777596</td>\n",
       "      <td>Cash</td>\n",
       "      <td>9.30</td>\n",
       "      <td>20</td>\n",
       "      <td>evening</td>\n",
       "      <td>3.138213</td>\n",
       "      <td>417</td>\n",
       "      <td>16.834532</td>\n",
       "    </tr>\n",
       "  </tbody>\n",
       "</table>\n",
       "</div>"
      ],
      "text/plain": [
       "                                          VendorID pickup_datetime  \\\n",
       "pickup_datetime                                                      \n",
       "2016-01-07                           VeriFone Inc.      2016-01-07   \n",
       "2016-01-07                           VeriFone Inc.      2016-01-07   \n",
       "2016-01-09       Creative Mobile Technologies, LLC      2016-01-09   \n",
       "2016-01-05       Creative Mobile Technologies, LLC      2016-01-05   \n",
       "2016-01-04                           VeriFone Inc.      2016-01-04   \n",
       "\n",
       "                 passenger_count  trip_distance_miles  pickup_longitude  \\\n",
       "pickup_datetime                                                           \n",
       "2016-01-07                     1                 1.24        -73.954620   \n",
       "2016-01-07                     1                 0.56        -73.973160   \n",
       "2016-01-09                     2                 2.80        -73.991508   \n",
       "2016-01-05                     1                 1.50        -73.992607   \n",
       "2016-01-04                     2                 1.95        -73.977104   \n",
       "\n",
       "                 pickup_latitude     RatecodeID  dropoff_longitude  \\\n",
       "pickup_datetime                                                      \n",
       "2016-01-07             40.778168  Standard rate         -73.966461   \n",
       "2016-01-07             40.762642  Standard rate         -73.982422   \n",
       "2016-01-09             40.759918  Standard rate         -73.979385   \n",
       "2016-01-05             40.745228  Standard rate         -73.976349   \n",
       "2016-01-04             40.755554  Standard rate         -73.959152   \n",
       "\n",
       "                 dropoff_latitude payment_type  total_amount  pickup_hour  \\\n",
       "pickup_datetime                                                             \n",
       "2016-01-07              40.789097  Credit card         11.30            7   \n",
       "2016-01-07              40.766708  Credit card          6.36           13   \n",
       "2016-01-09              40.732933  Credit card         15.95           23   \n",
       "2016-01-05              40.732452  Credit card         10.55           21   \n",
       "2016-01-04              40.777596         Cash          9.30           20   \n",
       "\n",
       "                pickup_timeOfDay  trip_distance  trip_duration      speed  \n",
       "pickup_datetime                                                            \n",
       "2016-01-07               morning       1.995582            768   5.812500  \n",
       "2016-01-07             afternoon       0.901230            250   8.064000  \n",
       "2016-01-09               evening       4.506152            876  11.506849  \n",
       "2016-01-05               evening       2.414010            527  10.246679  \n",
       "2016-01-04               evening       3.138213            417  16.834532  "
      ]
     },
     "execution_count": 182,
     "metadata": {},
     "output_type": "execute_result"
    }
   ],
   "source": [
    "rides.set_index(rides[\"pickup_datetime\"], inplace=True)\n",
    "rides.head()"
   ]
  },
  {
   "cell_type": "markdown",
   "metadata": {
    "id": "cLDiWHR234CE"
   },
   "source": [
    "Lets repeat that for the holidays dataframe."
   ]
  },
  {
   "cell_type": "code",
   "execution_count": 183,
   "metadata": {
    "colab": {
     "base_uri": "https://localhost:8080/",
     "height": 227
    },
    "executionInfo": {
     "elapsed": 517,
     "status": "ok",
     "timestamp": 1583265036502,
     "user": {
      "displayName": "Ivo Blohm",
      "photoUrl": "",
      "userId": "03588522102684867783"
     },
     "user_tz": -60
    },
    "id": "Qzkf1HW234CE",
    "outputId": "19cf7faf-3b7f-495e-ee00-aae8cf4ea1a2"
   },
   "outputs": [
    {
     "data": {
      "text/html": [
       "<div>\n",
       "<style scoped>\n",
       "    .dataframe tbody tr th:only-of-type {\n",
       "        vertical-align: middle;\n",
       "    }\n",
       "\n",
       "    .dataframe tbody tr th {\n",
       "        vertical-align: top;\n",
       "    }\n",
       "\n",
       "    .dataframe thead th {\n",
       "        text-align: right;\n",
       "    }\n",
       "</style>\n",
       "<table border=\"1\" class=\"dataframe\">\n",
       "  <thead>\n",
       "    <tr style=\"text-align: right;\">\n",
       "      <th></th>\n",
       "      <th>Date</th>\n",
       "      <th>Holiday</th>\n",
       "    </tr>\n",
       "    <tr>\n",
       "      <th>Date</th>\n",
       "      <th></th>\n",
       "      <th></th>\n",
       "    </tr>\n",
       "  </thead>\n",
       "  <tbody>\n",
       "    <tr>\n",
       "      <th>2012-02-01</th>\n",
       "      <td>2012-02-01</td>\n",
       "      <td>New Year Day</td>\n",
       "    </tr>\n",
       "    <tr>\n",
       "      <th>2012-01-16</th>\n",
       "      <td>2012-01-16</td>\n",
       "      <td>Martin Luther King Jr. Day</td>\n",
       "    </tr>\n",
       "    <tr>\n",
       "      <th>2012-02-20</th>\n",
       "      <td>2012-02-20</td>\n",
       "      <td>Presidents Day (Washingtons Birthday)</td>\n",
       "    </tr>\n",
       "    <tr>\n",
       "      <th>2012-05-28</th>\n",
       "      <td>2012-05-28</td>\n",
       "      <td>Memorial Day</td>\n",
       "    </tr>\n",
       "    <tr>\n",
       "      <th>2012-04-07</th>\n",
       "      <td>2012-04-07</td>\n",
       "      <td>Independence Day</td>\n",
       "    </tr>\n",
       "  </tbody>\n",
       "</table>\n",
       "</div>"
      ],
      "text/plain": [
       "                 Date                                Holiday\n",
       "Date                                                        \n",
       "2012-02-01 2012-02-01                           New Year Day\n",
       "2012-01-16 2012-01-16             Martin Luther King Jr. Day\n",
       "2012-02-20 2012-02-20  Presidents Day (Washingtons Birthday)\n",
       "2012-05-28 2012-05-28                           Memorial Day\n",
       "2012-04-07 2012-04-07                       Independence Day"
      ]
     },
     "execution_count": 183,
     "metadata": {},
     "output_type": "execute_result"
    }
   ],
   "source": [
    "holidays.set_index(holidays[\"Date\"], inplace=True)\n",
    "holidays.head()"
   ]
  },
  {
   "attachments": {},
   "cell_type": "markdown",
   "metadata": {
    "id": "jNIo2Sti34CH"
   },
   "source": [
    "Now, we can use the index to merge instead of specifying the column name. Also, we need a left join because we want to add the holidays to the single rides. That is, we want to know whether a given ride was undertaken on holiday or on a regular day."
   ]
  },
  {
   "cell_type": "code",
   "execution_count": 184,
   "metadata": {
    "id": "hAzqggMW34CI"
   },
   "outputs": [],
   "source": [
    "rides_merged = pd.merge(rides, \n",
    "                         holidays, \n",
    "                         how=\"left\", \n",
    "                         left_index=True, \n",
    "                         right_index=True)"
   ]
  },
  {
   "cell_type": "markdown",
   "metadata": {
    "id": "snRRjh-Y-j52"
   },
   "source": [
    "Let's check weather merge was successful"
   ]
  },
  {
   "cell_type": "code",
   "execution_count": 185,
   "metadata": {
    "id": "-BkLWzgU34CM"
   },
   "outputs": [
    {
     "data": {
      "text/html": [
       "<div>\n",
       "<style scoped>\n",
       "    .dataframe tbody tr th:only-of-type {\n",
       "        vertical-align: middle;\n",
       "    }\n",
       "\n",
       "    .dataframe tbody tr th {\n",
       "        vertical-align: top;\n",
       "    }\n",
       "\n",
       "    .dataframe thead th {\n",
       "        text-align: right;\n",
       "    }\n",
       "</style>\n",
       "<table border=\"1\" class=\"dataframe\">\n",
       "  <thead>\n",
       "    <tr style=\"text-align: right;\">\n",
       "      <th></th>\n",
       "      <th>VendorID</th>\n",
       "      <th>pickup_datetime</th>\n",
       "      <th>passenger_count</th>\n",
       "      <th>trip_distance_miles</th>\n",
       "      <th>pickup_longitude</th>\n",
       "      <th>pickup_latitude</th>\n",
       "      <th>RatecodeID</th>\n",
       "      <th>dropoff_longitude</th>\n",
       "      <th>dropoff_latitude</th>\n",
       "      <th>payment_type</th>\n",
       "      <th>total_amount</th>\n",
       "      <th>pickup_hour</th>\n",
       "      <th>pickup_timeOfDay</th>\n",
       "      <th>trip_distance</th>\n",
       "      <th>trip_duration</th>\n",
       "      <th>speed</th>\n",
       "      <th>Date</th>\n",
       "      <th>Holiday</th>\n",
       "    </tr>\n",
       "  </thead>\n",
       "  <tbody>\n",
       "    <tr>\n",
       "      <th>2016-01-01</th>\n",
       "      <td>VeriFone Inc.</td>\n",
       "      <td>2016-01-01</td>\n",
       "      <td>1</td>\n",
       "      <td>1.08</td>\n",
       "      <td>-73.969757</td>\n",
       "      <td>40.763031</td>\n",
       "      <td>Standard rate</td>\n",
       "      <td>-73.984650</td>\n",
       "      <td>40.762878</td>\n",
       "      <td>Credit card</td>\n",
       "      <td>9.12</td>\n",
       "      <td>1</td>\n",
       "      <td>night</td>\n",
       "      <td>1.738087</td>\n",
       "      <td>361</td>\n",
       "      <td>10.770083</td>\n",
       "      <td>2016-01-01</td>\n",
       "      <td>New Year Day</td>\n",
       "    </tr>\n",
       "    <tr>\n",
       "      <th>2016-01-01</th>\n",
       "      <td>Creative Mobile Technologies, LLC</td>\n",
       "      <td>2016-01-01</td>\n",
       "      <td>1</td>\n",
       "      <td>2.00</td>\n",
       "      <td>-73.990265</td>\n",
       "      <td>40.719105</td>\n",
       "      <td>Standard rate</td>\n",
       "      <td>-73.997566</td>\n",
       "      <td>40.720982</td>\n",
       "      <td>Credit card</td>\n",
       "      <td>20.15</td>\n",
       "      <td>1</td>\n",
       "      <td>night</td>\n",
       "      <td>3.218680</td>\n",
       "      <td>1414</td>\n",
       "      <td>5.091938</td>\n",
       "      <td>2016-01-01</td>\n",
       "      <td>New Year Day</td>\n",
       "    </tr>\n",
       "    <tr>\n",
       "      <th>2016-01-01</th>\n",
       "      <td>VeriFone Inc.</td>\n",
       "      <td>2016-01-01</td>\n",
       "      <td>6</td>\n",
       "      <td>3.39</td>\n",
       "      <td>-74.001389</td>\n",
       "      <td>40.730984</td>\n",
       "      <td>Standard rate</td>\n",
       "      <td>-73.984207</td>\n",
       "      <td>40.759823</td>\n",
       "      <td>Credit card</td>\n",
       "      <td>14.30</td>\n",
       "      <td>1</td>\n",
       "      <td>night</td>\n",
       "      <td>5.455663</td>\n",
       "      <td>789</td>\n",
       "      <td>15.467681</td>\n",
       "      <td>2016-01-01</td>\n",
       "      <td>New Year Day</td>\n",
       "    </tr>\n",
       "    <tr>\n",
       "      <th>2016-01-01</th>\n",
       "      <td>VeriFone Inc.</td>\n",
       "      <td>2016-01-01</td>\n",
       "      <td>1</td>\n",
       "      <td>4.85</td>\n",
       "      <td>-73.939339</td>\n",
       "      <td>40.848400</td>\n",
       "      <td>Standard rate</td>\n",
       "      <td>-73.890343</td>\n",
       "      <td>40.822430</td>\n",
       "      <td>Credit card</td>\n",
       "      <td>16.80</td>\n",
       "      <td>1</td>\n",
       "      <td>night</td>\n",
       "      <td>7.805299</td>\n",
       "      <td>626</td>\n",
       "      <td>27.891374</td>\n",
       "      <td>2016-01-01</td>\n",
       "      <td>New Year Day</td>\n",
       "    </tr>\n",
       "    <tr>\n",
       "      <th>2016-01-02</th>\n",
       "      <td>VeriFone Inc.</td>\n",
       "      <td>2016-01-02</td>\n",
       "      <td>5</td>\n",
       "      <td>3.13</td>\n",
       "      <td>-74.013733</td>\n",
       "      <td>40.704681</td>\n",
       "      <td>Standard rate</td>\n",
       "      <td>-74.005646</td>\n",
       "      <td>40.740986</td>\n",
       "      <td>Credit card</td>\n",
       "      <td>15.36</td>\n",
       "      <td>18</td>\n",
       "      <td>afternoon</td>\n",
       "      <td>5.037234</td>\n",
       "      <td>711</td>\n",
       "      <td>15.848101</td>\n",
       "      <td>NaT</td>\n",
       "      <td>NaN</td>\n",
       "    </tr>\n",
       "  </tbody>\n",
       "</table>\n",
       "</div>"
      ],
      "text/plain": [
       "                                     VendorID pickup_datetime  \\\n",
       "2016-01-01                      VeriFone Inc.      2016-01-01   \n",
       "2016-01-01  Creative Mobile Technologies, LLC      2016-01-01   \n",
       "2016-01-01                      VeriFone Inc.      2016-01-01   \n",
       "2016-01-01                      VeriFone Inc.      2016-01-01   \n",
       "2016-01-02                      VeriFone Inc.      2016-01-02   \n",
       "\n",
       "            passenger_count  trip_distance_miles  pickup_longitude  \\\n",
       "2016-01-01                1                 1.08        -73.969757   \n",
       "2016-01-01                1                 2.00        -73.990265   \n",
       "2016-01-01                6                 3.39        -74.001389   \n",
       "2016-01-01                1                 4.85        -73.939339   \n",
       "2016-01-02                5                 3.13        -74.013733   \n",
       "\n",
       "            pickup_latitude     RatecodeID  dropoff_longitude  \\\n",
       "2016-01-01        40.763031  Standard rate         -73.984650   \n",
       "2016-01-01        40.719105  Standard rate         -73.997566   \n",
       "2016-01-01        40.730984  Standard rate         -73.984207   \n",
       "2016-01-01        40.848400  Standard rate         -73.890343   \n",
       "2016-01-02        40.704681  Standard rate         -74.005646   \n",
       "\n",
       "            dropoff_latitude payment_type  total_amount  pickup_hour  \\\n",
       "2016-01-01         40.762878  Credit card          9.12            1   \n",
       "2016-01-01         40.720982  Credit card         20.15            1   \n",
       "2016-01-01         40.759823  Credit card         14.30            1   \n",
       "2016-01-01         40.822430  Credit card         16.80            1   \n",
       "2016-01-02         40.740986  Credit card         15.36           18   \n",
       "\n",
       "           pickup_timeOfDay  trip_distance  trip_duration      speed  \\\n",
       "2016-01-01            night       1.738087            361  10.770083   \n",
       "2016-01-01            night       3.218680           1414   5.091938   \n",
       "2016-01-01            night       5.455663            789  15.467681   \n",
       "2016-01-01            night       7.805299            626  27.891374   \n",
       "2016-01-02        afternoon       5.037234            711  15.848101   \n",
       "\n",
       "                 Date       Holiday  \n",
       "2016-01-01 2016-01-01  New Year Day  \n",
       "2016-01-01 2016-01-01  New Year Day  \n",
       "2016-01-01 2016-01-01  New Year Day  \n",
       "2016-01-01 2016-01-01  New Year Day  \n",
       "2016-01-02        NaT           NaN  "
      ]
     },
     "execution_count": 185,
     "metadata": {},
     "output_type": "execute_result"
    }
   ],
   "source": [
    "rides_merged.head()"
   ]
  },
  {
   "cell_type": "markdown",
   "metadata": {
    "id": "exHWs32534CQ"
   },
   "source": [
    "In the dataframe \"rides_merged\", we can now delete the two date features \"pickup_datetime\" and \"date\". The data is redundant and the have the date information already in the newly created index. "
   ]
  },
  {
   "cell_type": "markdown",
   "metadata": {
    "id": "djyIqhSn6rWa"
   },
   "source": [
    "### 5.1) Remove old date variables \"pickup_datetime\" and \"Date\". They are not needed anymore. The new index resembles the date information."
   ]
  },
  {
   "cell_type": "code",
   "execution_count": 186,
   "metadata": {
    "id": "O9J74gZa34CR"
   },
   "outputs": [
    {
     "name": "stdout",
     "output_type": "stream",
     "text": [
      "<class 'pandas.core.frame.DataFrame'>\n",
      "DatetimeIndex: 5000 entries, 2016-01-01 to 2016-01-31\n",
      "Data columns (total 17 columns):\n",
      " #   Column               Non-Null Count  Dtype         \n",
      "---  ------               --------------  -----         \n",
      " 0   VendorID             5000 non-null   object        \n",
      " 1   passenger_count      5000 non-null   int64         \n",
      " 2   trip_distance_miles  5000 non-null   float64       \n",
      " 3   pickup_longitude     5000 non-null   float64       \n",
      " 4   pickup_latitude      5000 non-null   float64       \n",
      " 5   RatecodeID           5000 non-null   object        \n",
      " 6   dropoff_longitude    5000 non-null   float64       \n",
      " 7   dropoff_latitude     5000 non-null   float64       \n",
      " 8   payment_type         5000 non-null   object        \n",
      " 9   total_amount         5000 non-null   float64       \n",
      " 10  pickup_hour          5000 non-null   int64         \n",
      " 11  pickup_timeOfDay     5000 non-null   object        \n",
      " 12  trip_distance        5000 non-null   float64       \n",
      " 13  trip_duration        5000 non-null   int64         \n",
      " 14  speed                5000 non-null   float64       \n",
      " 15  Date                 166 non-null    datetime64[ns]\n",
      " 16  Holiday              166 non-null    object        \n",
      "dtypes: datetime64[ns](1), float64(8), int64(3), object(5)\n",
      "memory usage: 703.1+ KB\n"
     ]
    }
   ],
   "source": [
    "del(rides_merged[\"pickup_datetime\"])\n",
    "rides_merged.info()"
   ]
  },
  {
   "cell_type": "markdown",
   "metadata": {
    "id": "AgGhNTZs34CU"
   },
   "source": [
    "The feature \"Holiday\" has a lot of missing values. Let's have a look at the 10 first instances"
   ]
  },
  {
   "cell_type": "markdown",
   "metadata": {
    "id": "-2L02vKN6__H"
   },
   "source": [
    "### 5.2) Impute missing values in the \"Holiday\" variable"
   ]
  },
  {
   "cell_type": "code",
   "execution_count": 187,
   "metadata": {
    "colab": {
     "base_uri": "https://localhost:8080/",
     "height": 212
    },
    "executionInfo": {
     "elapsed": 609,
     "status": "ok",
     "timestamp": 1583265085871,
     "user": {
      "displayName": "Ivo Blohm",
      "photoUrl": "",
      "userId": "03588522102684867783"
     },
     "user_tz": -60
    },
    "id": "PtLx9ikJ34CW",
    "outputId": "4e9c8f2c-5bc0-4765-a11a-dcf4f6baf4f3"
   },
   "outputs": [
    {
     "data": {
      "text/plain": [
       "2016-01-01    New Year Day\n",
       "2016-01-01    New Year Day\n",
       "2016-01-01    New Year Day\n",
       "2016-01-01    New Year Day\n",
       "2016-01-02             NaN\n",
       "2016-01-02             NaN\n",
       "2016-01-02             NaN\n",
       "2016-01-02             NaN\n",
       "2016-01-02             NaN\n",
       "2016-01-02             NaN\n",
       "Name: Holiday, dtype: object"
      ]
     },
     "execution_count": 187,
     "metadata": {},
     "output_type": "execute_result"
    }
   ],
   "source": [
    "rides_merged[\"Holiday\"].head(10)"
   ]
  },
  {
   "cell_type": "markdown",
   "metadata": {
    "id": "NtNcsAKa34CY"
   },
   "source": [
    "Let's fill the missing values with the expression \"Regular Day\""
   ]
  },
  {
   "cell_type": "code",
   "execution_count": 188,
   "metadata": {
    "id": "e6JgfXdH34CZ"
   },
   "outputs": [
    {
     "data": {
      "text/plain": [
       "2016-01-01    New Year Day\n",
       "2016-01-01    New Year Day\n",
       "2016-01-01    New Year Day\n",
       "2016-01-01    New Year Day\n",
       "2016-01-02     Regular Day\n",
       "2016-01-02     Regular Day\n",
       "2016-01-02     Regular Day\n",
       "2016-01-02     Regular Day\n",
       "2016-01-02     Regular Day\n",
       "2016-01-02     Regular Day\n",
       "Name: Holiday, dtype: object"
      ]
     },
     "execution_count": 188,
     "metadata": {},
     "output_type": "execute_result"
    }
   ],
   "source": [
    "rides_merged[\"Holiday\"]=rides_merged[\"Holiday\"].fillna(value=\"Regular Day\")\n",
    "rides_merged[\"Holiday\"].head(10)"
   ]
  },
  {
   "cell_type": "markdown",
   "metadata": {
    "id": "Ljzy7a1V34Cd"
   },
   "source": [
    "# 6) Merge rides_merged and weather data "
   ]
  },
  {
   "cell_type": "markdown",
   "metadata": {
    "id": "IDY1EtFx7gQZ"
   },
   "source": [
    "### 6.1) Aggregate weather data from hourly to daily level\n",
    "\n",
    "Let's reinspect the weather data frame"
   ]
  },
  {
   "cell_type": "code",
   "execution_count": 189,
   "metadata": {
    "id": "z5hfX47q34Ce"
   },
   "outputs": [
    {
     "data": {
      "text/html": [
       "<div>\n",
       "<style scoped>\n",
       "    .dataframe tbody tr th:only-of-type {\n",
       "        vertical-align: middle;\n",
       "    }\n",
       "\n",
       "    .dataframe tbody tr th {\n",
       "        vertical-align: top;\n",
       "    }\n",
       "\n",
       "    .dataframe thead th {\n",
       "        text-align: right;\n",
       "    }\n",
       "</style>\n",
       "<table border=\"1\" class=\"dataframe\">\n",
       "  <thead>\n",
       "    <tr style=\"text-align: right;\">\n",
       "      <th></th>\n",
       "      <th>temp</th>\n",
       "      <th>fog</th>\n",
       "      <th>rain</th>\n",
       "      <th>snow</th>\n",
       "      <th>conditions</th>\n",
       "      <th>visibility</th>\n",
       "      <th>date</th>\n",
       "      <th>DATE</th>\n",
       "    </tr>\n",
       "  </thead>\n",
       "  <tbody>\n",
       "    <tr>\n",
       "      <th>0</th>\n",
       "      <td>5.6</td>\n",
       "      <td>0</td>\n",
       "      <td>0</td>\n",
       "      <td>0</td>\n",
       "      <td>Overcast</td>\n",
       "      <td>16.1</td>\n",
       "      <td>2016-01-01 00:51:00</td>\n",
       "      <td>2016-01-01</td>\n",
       "    </tr>\n",
       "    <tr>\n",
       "      <th>1</th>\n",
       "      <td>5.0</td>\n",
       "      <td>0</td>\n",
       "      <td>0</td>\n",
       "      <td>0</td>\n",
       "      <td>Overcast</td>\n",
       "      <td>16.1</td>\n",
       "      <td>2016-01-01 01:51:00</td>\n",
       "      <td>2016-01-01</td>\n",
       "    </tr>\n",
       "    <tr>\n",
       "      <th>2</th>\n",
       "      <td>5.0</td>\n",
       "      <td>0</td>\n",
       "      <td>0</td>\n",
       "      <td>0</td>\n",
       "      <td>Overcast</td>\n",
       "      <td>16.1</td>\n",
       "      <td>2016-01-01 02:51:00</td>\n",
       "      <td>2016-01-01</td>\n",
       "    </tr>\n",
       "    <tr>\n",
       "      <th>3</th>\n",
       "      <td>5.0</td>\n",
       "      <td>0</td>\n",
       "      <td>0</td>\n",
       "      <td>0</td>\n",
       "      <td>Overcast</td>\n",
       "      <td>16.1</td>\n",
       "      <td>2016-01-01 03:51:00</td>\n",
       "      <td>2016-01-01</td>\n",
       "    </tr>\n",
       "    <tr>\n",
       "      <th>4</th>\n",
       "      <td>4.4</td>\n",
       "      <td>0</td>\n",
       "      <td>0</td>\n",
       "      <td>0</td>\n",
       "      <td>Overcast</td>\n",
       "      <td>16.1</td>\n",
       "      <td>2016-01-01 04:51:00</td>\n",
       "      <td>2016-01-01</td>\n",
       "    </tr>\n",
       "  </tbody>\n",
       "</table>\n",
       "</div>"
      ],
      "text/plain": [
       "   temp  fog  rain  snow conditions  visibility                date       DATE\n",
       "0   5.6    0     0     0   Overcast        16.1 2016-01-01 00:51:00 2016-01-01\n",
       "1   5.0    0     0     0   Overcast        16.1 2016-01-01 01:51:00 2016-01-01\n",
       "2   5.0    0     0     0   Overcast        16.1 2016-01-01 02:51:00 2016-01-01\n",
       "3   5.0    0     0     0   Overcast        16.1 2016-01-01 03:51:00 2016-01-01\n",
       "4   4.4    0     0     0   Overcast        16.1 2016-01-01 04:51:00 2016-01-01"
      ]
     },
     "execution_count": 189,
     "metadata": {},
     "output_type": "execute_result"
    }
   ],
   "source": [
    "weather.head()"
   ]
  },
  {
   "cell_type": "markdown",
   "metadata": {
    "id": "EEcIlKgA34Ch"
   },
   "source": [
    "Ok. Weather data is measured on a hourly level. In order to facilate things, we aggregate the weather data on the daily level, that is, the take the average for each calender day. "
   ]
  },
  {
   "cell_type": "code",
   "execution_count": 190,
   "metadata": {
    "id": "raYsAO1H34Ci"
   },
   "outputs": [
    {
     "name": "stderr",
     "output_type": "stream",
     "text": [
      "/tmp/ipykernel_138712/433307765.py:1: FutureWarning: The default value of numeric_only in DataFrameGroupBy.mean is deprecated. In a future version, numeric_only will default to False. Either specify numeric_only or select only columns which should be valid for the function.\n",
      "  weather_daily = weather.groupby(\"DATE\").mean()\n"
     ]
    },
    {
     "data": {
      "text/html": [
       "<div>\n",
       "<style scoped>\n",
       "    .dataframe tbody tr th:only-of-type {\n",
       "        vertical-align: middle;\n",
       "    }\n",
       "\n",
       "    .dataframe tbody tr th {\n",
       "        vertical-align: top;\n",
       "    }\n",
       "\n",
       "    .dataframe thead th {\n",
       "        text-align: right;\n",
       "    }\n",
       "</style>\n",
       "<table border=\"1\" class=\"dataframe\">\n",
       "  <thead>\n",
       "    <tr style=\"text-align: right;\">\n",
       "      <th></th>\n",
       "      <th>temp</th>\n",
       "      <th>fog</th>\n",
       "      <th>rain</th>\n",
       "      <th>snow</th>\n",
       "      <th>visibility</th>\n",
       "    </tr>\n",
       "    <tr>\n",
       "      <th>DATE</th>\n",
       "      <th></th>\n",
       "      <th></th>\n",
       "      <th></th>\n",
       "      <th></th>\n",
       "      <th></th>\n",
       "    </tr>\n",
       "  </thead>\n",
       "  <tbody>\n",
       "    <tr>\n",
       "      <th>2016-01-01</th>\n",
       "      <td>3.766667</td>\n",
       "      <td>0.0</td>\n",
       "      <td>0.0</td>\n",
       "      <td>0.0</td>\n",
       "      <td>16.1</td>\n",
       "    </tr>\n",
       "    <tr>\n",
       "      <th>2016-01-02</th>\n",
       "      <td>2.087500</td>\n",
       "      <td>0.0</td>\n",
       "      <td>0.0</td>\n",
       "      <td>0.0</td>\n",
       "      <td>16.1</td>\n",
       "    </tr>\n",
       "    <tr>\n",
       "      <th>2016-01-03</th>\n",
       "      <td>3.775000</td>\n",
       "      <td>0.0</td>\n",
       "      <td>0.0</td>\n",
       "      <td>0.0</td>\n",
       "      <td>16.1</td>\n",
       "    </tr>\n",
       "    <tr>\n",
       "      <th>2016-01-04</th>\n",
       "      <td>-2.445455</td>\n",
       "      <td>0.0</td>\n",
       "      <td>0.0</td>\n",
       "      <td>0.0</td>\n",
       "      <td>16.1</td>\n",
       "    </tr>\n",
       "    <tr>\n",
       "      <th>2016-01-05</th>\n",
       "      <td>-5.886364</td>\n",
       "      <td>0.0</td>\n",
       "      <td>0.0</td>\n",
       "      <td>0.0</td>\n",
       "      <td>16.1</td>\n",
       "    </tr>\n",
       "  </tbody>\n",
       "</table>\n",
       "</div>"
      ],
      "text/plain": [
       "                temp  fog  rain  snow  visibility\n",
       "DATE                                             \n",
       "2016-01-01  3.766667  0.0   0.0   0.0        16.1\n",
       "2016-01-02  2.087500  0.0   0.0   0.0        16.1\n",
       "2016-01-03  3.775000  0.0   0.0   0.0        16.1\n",
       "2016-01-04 -2.445455  0.0   0.0   0.0        16.1\n",
       "2016-01-05 -5.886364  0.0   0.0   0.0        16.1"
      ]
     },
     "execution_count": 190,
     "metadata": {},
     "output_type": "execute_result"
    }
   ],
   "source": [
    "weather_daily = weather.groupby(\"DATE\").mean()\n",
    "weather_daily.head()"
   ]
  },
  {
   "attachments": {},
   "cell_type": "markdown",
   "metadata": {
    "id": "_0Ftei4c34Cp"
   },
   "source": [
    "Now, we have daily averages. Note that the features \"date\" and \"conditions\" have been removed (because the mean cannot be applied to these variables). Also, the index values have already been set to the \"DATE\" values that we have been using for grouping! "
   ]
  },
  {
   "cell_type": "markdown",
   "metadata": {
    "id": "UWtJ0VEq34Cp"
   },
   "source": [
    "### 6.2) Let's merge the aggregated dataframe \"weather_daily\" to \"rides_merged\". Please use the correct merge (inner, left, etc.) and explore whether the merge was successful."
   ]
  },
  {
   "cell_type": "code",
   "execution_count": 191,
   "metadata": {
    "id": "PL_Vi1L834Cq"
   },
   "outputs": [
    {
     "name": "stdout",
     "output_type": "stream",
     "text": [
      "<class 'pandas.core.frame.DataFrame'>\n",
      "DatetimeIndex: 5000 entries, 2016-01-01 to 2016-01-31\n",
      "Data columns (total 21 columns):\n",
      " #   Column               Non-Null Count  Dtype  \n",
      "---  ------               --------------  -----  \n",
      " 0   VendorID             5000 non-null   object \n",
      " 1   passenger_count      5000 non-null   int64  \n",
      " 2   trip_distance_miles  5000 non-null   float64\n",
      " 3   pickup_longitude     5000 non-null   float64\n",
      " 4   pickup_latitude      5000 non-null   float64\n",
      " 5   RatecodeID           5000 non-null   object \n",
      " 6   dropoff_longitude    5000 non-null   float64\n",
      " 7   dropoff_latitude     5000 non-null   float64\n",
      " 8   payment_type         5000 non-null   object \n",
      " 9   total_amount         5000 non-null   float64\n",
      " 10  pickup_hour          5000 non-null   int64  \n",
      " 11  pickup_timeOfDay     5000 non-null   object \n",
      " 12  trip_distance        5000 non-null   float64\n",
      " 13  trip_duration        5000 non-null   int64  \n",
      " 14  speed                5000 non-null   float64\n",
      " 15  Holiday              5000 non-null   object \n",
      " 16  temp                 5000 non-null   float64\n",
      " 17  fog                  5000 non-null   float64\n",
      " 18  rain                 5000 non-null   float64\n",
      " 19  snow                 5000 non-null   float64\n",
      " 20  visibility           5000 non-null   float64\n",
      "dtypes: float64(13), int64(3), object(5)\n",
      "memory usage: 859.4+ KB\n"
     ]
    }
   ],
   "source": [
    "rides_merged = pd.merge(rides_merged,\n",
    "                        weather_daily,\n",
    "                        how='left',\n",
    "                        left_index = True,\n",
    "                        right_index = True)\n",
    "# drop the \"Date\" feature left over from the merge of \"weather_daily\", as its redundant\n",
    "del(rides_merged[\"Date\"])\n",
    "\n",
    "rides_merged.info()\n"
   ]
  },
  {
   "cell_type": "markdown",
   "metadata": {
    "id": "UFyy8hGG34Cv"
   },
   "source": [
    "### Woohoo! We are done. Everything is merged together!"
   ]
  },
  {
   "cell_type": "markdown",
   "metadata": {
    "id": "vMwrSK_934Cw"
   },
   "source": [
    "# 7) Exploratory data analysis"
   ]
  },
  {
   "cell_type": "markdown",
   "metadata": {
    "id": "1cFz2FH-34Cx"
   },
   "source": [
    "### 7.1) Get all all taxi rides with a price of more than 100 USD!"
   ]
  },
  {
   "cell_type": "code",
   "execution_count": 192,
   "metadata": {
    "colab": {
     "base_uri": "https://localhost:8080/",
     "height": 447
    },
    "executionInfo": {
     "elapsed": 534,
     "status": "ok",
     "timestamp": 1583265116596,
     "user": {
      "displayName": "Ivo Blohm",
      "photoUrl": "",
      "userId": "03588522102684867783"
     },
     "user_tz": -60
    },
    "id": "-n51cpJC34Cx",
    "outputId": "415b7c6b-8756-4e64-a057-55098cda4929"
   },
   "outputs": [
    {
     "data": {
      "text/html": [
       "<div>\n",
       "<style scoped>\n",
       "    .dataframe tbody tr th:only-of-type {\n",
       "        vertical-align: middle;\n",
       "    }\n",
       "\n",
       "    .dataframe tbody tr th {\n",
       "        vertical-align: top;\n",
       "    }\n",
       "\n",
       "    .dataframe thead th {\n",
       "        text-align: right;\n",
       "    }\n",
       "</style>\n",
       "<table border=\"1\" class=\"dataframe\">\n",
       "  <thead>\n",
       "    <tr style=\"text-align: right;\">\n",
       "      <th></th>\n",
       "      <th>VendorID</th>\n",
       "      <th>passenger_count</th>\n",
       "      <th>trip_distance_miles</th>\n",
       "      <th>pickup_longitude</th>\n",
       "      <th>pickup_latitude</th>\n",
       "      <th>RatecodeID</th>\n",
       "      <th>dropoff_longitude</th>\n",
       "      <th>dropoff_latitude</th>\n",
       "      <th>payment_type</th>\n",
       "      <th>total_amount</th>\n",
       "      <th>...</th>\n",
       "      <th>pickup_timeOfDay</th>\n",
       "      <th>trip_distance</th>\n",
       "      <th>trip_duration</th>\n",
       "      <th>speed</th>\n",
       "      <th>Holiday</th>\n",
       "      <th>temp</th>\n",
       "      <th>fog</th>\n",
       "      <th>rain</th>\n",
       "      <th>snow</th>\n",
       "      <th>visibility</th>\n",
       "    </tr>\n",
       "  </thead>\n",
       "  <tbody>\n",
       "    <tr>\n",
       "      <th>2016-01-07</th>\n",
       "      <td>Creative Mobile Technologies, LLC</td>\n",
       "      <td>1</td>\n",
       "      <td>17.40</td>\n",
       "      <td>-73.982422</td>\n",
       "      <td>40.755676</td>\n",
       "      <td>Newark</td>\n",
       "      <td>-74.177223</td>\n",
       "      <td>40.695187</td>\n",
       "      <td>Credit card</td>\n",
       "      <td>102.35</td>\n",
       "      <td>...</td>\n",
       "      <td>morning</td>\n",
       "      <td>28.002516</td>\n",
       "      <td>2107</td>\n",
       "      <td>29.729473</td>\n",
       "      <td>Regular Day</td>\n",
       "      <td>4.417857</td>\n",
       "      <td>0.0</td>\n",
       "      <td>0.0</td>\n",
       "      <td>0.000000</td>\n",
       "      <td>16.100000</td>\n",
       "    </tr>\n",
       "    <tr>\n",
       "      <th>2016-01-13</th>\n",
       "      <td>Creative Mobile Technologies, LLC</td>\n",
       "      <td>2</td>\n",
       "      <td>19.40</td>\n",
       "      <td>-73.873230</td>\n",
       "      <td>40.774151</td>\n",
       "      <td>Nassau or Westchester</td>\n",
       "      <td>-73.587708</td>\n",
       "      <td>40.723930</td>\n",
       "      <td>Credit card</td>\n",
       "      <td>102.95</td>\n",
       "      <td>...</td>\n",
       "      <td>morning</td>\n",
       "      <td>31.221196</td>\n",
       "      <td>3825</td>\n",
       "      <td>18.258824</td>\n",
       "      <td>Regular Day</td>\n",
       "      <td>-3.925000</td>\n",
       "      <td>0.0</td>\n",
       "      <td>0.0</td>\n",
       "      <td>0.000000</td>\n",
       "      <td>16.100000</td>\n",
       "    </tr>\n",
       "    <tr>\n",
       "      <th>2016-01-15</th>\n",
       "      <td>Creative Mobile Technologies, LLC</td>\n",
       "      <td>1</td>\n",
       "      <td>23.80</td>\n",
       "      <td>-73.975983</td>\n",
       "      <td>40.746605</td>\n",
       "      <td>Negotiated fare</td>\n",
       "      <td>-73.711754</td>\n",
       "      <td>40.683640</td>\n",
       "      <td>Credit card</td>\n",
       "      <td>130.30</td>\n",
       "      <td>...</td>\n",
       "      <td>evening</td>\n",
       "      <td>38.302292</td>\n",
       "      <td>2599</td>\n",
       "      <td>32.966526</td>\n",
       "      <td>Regular Day</td>\n",
       "      <td>6.254167</td>\n",
       "      <td>0.0</td>\n",
       "      <td>0.0</td>\n",
       "      <td>0.000000</td>\n",
       "      <td>15.166667</td>\n",
       "    </tr>\n",
       "    <tr>\n",
       "      <th>2016-01-22</th>\n",
       "      <td>VeriFone Inc.</td>\n",
       "      <td>1</td>\n",
       "      <td>20.50</td>\n",
       "      <td>-73.789604</td>\n",
       "      <td>40.643406</td>\n",
       "      <td>Negotiated fare</td>\n",
       "      <td>-73.804626</td>\n",
       "      <td>40.899063</td>\n",
       "      <td>Credit card</td>\n",
       "      <td>122.21</td>\n",
       "      <td>...</td>\n",
       "      <td>afternoon</td>\n",
       "      <td>32.991470</td>\n",
       "      <td>3789</td>\n",
       "      <td>19.477435</td>\n",
       "      <td>Regular Day</td>\n",
       "      <td>-3.403704</td>\n",
       "      <td>0.0</td>\n",
       "      <td>0.0</td>\n",
       "      <td>0.185185</td>\n",
       "      <td>13.785185</td>\n",
       "    </tr>\n",
       "    <tr>\n",
       "      <th>2016-01-26</th>\n",
       "      <td>VeriFone Inc.</td>\n",
       "      <td>6</td>\n",
       "      <td>21.70</td>\n",
       "      <td>-73.959908</td>\n",
       "      <td>40.808239</td>\n",
       "      <td>Newark</td>\n",
       "      <td>-74.177277</td>\n",
       "      <td>40.695156</td>\n",
       "      <td>Credit card</td>\n",
       "      <td>100.40</td>\n",
       "      <td>...</td>\n",
       "      <td>night</td>\n",
       "      <td>34.922678</td>\n",
       "      <td>2122</td>\n",
       "      <td>36.814326</td>\n",
       "      <td>Regular Day</td>\n",
       "      <td>6.358333</td>\n",
       "      <td>0.0</td>\n",
       "      <td>0.0</td>\n",
       "      <td>0.000000</td>\n",
       "      <td>15.833333</td>\n",
       "    </tr>\n",
       "    <tr>\n",
       "      <th>2016-01-28</th>\n",
       "      <td>VeriFone Inc.</td>\n",
       "      <td>1</td>\n",
       "      <td>32.55</td>\n",
       "      <td>-73.868149</td>\n",
       "      <td>40.771038</td>\n",
       "      <td>Negotiated fare</td>\n",
       "      <td>-73.534920</td>\n",
       "      <td>41.051884</td>\n",
       "      <td>Credit card</td>\n",
       "      <td>140.30</td>\n",
       "      <td>...</td>\n",
       "      <td>afternoon</td>\n",
       "      <td>52.384017</td>\n",
       "      <td>2452</td>\n",
       "      <td>47.789560</td>\n",
       "      <td>Regular Day</td>\n",
       "      <td>3.120833</td>\n",
       "      <td>0.0</td>\n",
       "      <td>0.0</td>\n",
       "      <td>0.000000</td>\n",
       "      <td>16.100000</td>\n",
       "    </tr>\n",
       "  </tbody>\n",
       "</table>\n",
       "<p>6 rows × 21 columns</p>\n",
       "</div>"
      ],
      "text/plain": [
       "                                     VendorID  passenger_count  \\\n",
       "2016-01-07  Creative Mobile Technologies, LLC                1   \n",
       "2016-01-13  Creative Mobile Technologies, LLC                2   \n",
       "2016-01-15  Creative Mobile Technologies, LLC                1   \n",
       "2016-01-22                      VeriFone Inc.                1   \n",
       "2016-01-26                      VeriFone Inc.                6   \n",
       "2016-01-28                      VeriFone Inc.                1   \n",
       "\n",
       "            trip_distance_miles  pickup_longitude  pickup_latitude  \\\n",
       "2016-01-07                17.40        -73.982422        40.755676   \n",
       "2016-01-13                19.40        -73.873230        40.774151   \n",
       "2016-01-15                23.80        -73.975983        40.746605   \n",
       "2016-01-22                20.50        -73.789604        40.643406   \n",
       "2016-01-26                21.70        -73.959908        40.808239   \n",
       "2016-01-28                32.55        -73.868149        40.771038   \n",
       "\n",
       "                       RatecodeID  dropoff_longitude  dropoff_latitude  \\\n",
       "2016-01-07                 Newark         -74.177223         40.695187   \n",
       "2016-01-13  Nassau or Westchester         -73.587708         40.723930   \n",
       "2016-01-15        Negotiated fare         -73.711754         40.683640   \n",
       "2016-01-22        Negotiated fare         -73.804626         40.899063   \n",
       "2016-01-26                 Newark         -74.177277         40.695156   \n",
       "2016-01-28        Negotiated fare         -73.534920         41.051884   \n",
       "\n",
       "           payment_type  total_amount  ...  pickup_timeOfDay trip_distance  \\\n",
       "2016-01-07  Credit card        102.35  ...           morning     28.002516   \n",
       "2016-01-13  Credit card        102.95  ...           morning     31.221196   \n",
       "2016-01-15  Credit card        130.30  ...           evening     38.302292   \n",
       "2016-01-22  Credit card        122.21  ...         afternoon     32.991470   \n",
       "2016-01-26  Credit card        100.40  ...             night     34.922678   \n",
       "2016-01-28  Credit card        140.30  ...         afternoon     52.384017   \n",
       "\n",
       "            trip_duration      speed      Holiday      temp  fog  rain  \\\n",
       "2016-01-07           2107  29.729473  Regular Day  4.417857  0.0   0.0   \n",
       "2016-01-13           3825  18.258824  Regular Day -3.925000  0.0   0.0   \n",
       "2016-01-15           2599  32.966526  Regular Day  6.254167  0.0   0.0   \n",
       "2016-01-22           3789  19.477435  Regular Day -3.403704  0.0   0.0   \n",
       "2016-01-26           2122  36.814326  Regular Day  6.358333  0.0   0.0   \n",
       "2016-01-28           2452  47.789560  Regular Day  3.120833  0.0   0.0   \n",
       "\n",
       "                snow  visibility  \n",
       "2016-01-07  0.000000   16.100000  \n",
       "2016-01-13  0.000000   16.100000  \n",
       "2016-01-15  0.000000   15.166667  \n",
       "2016-01-22  0.185185   13.785185  \n",
       "2016-01-26  0.000000   15.833333  \n",
       "2016-01-28  0.000000   16.100000  \n",
       "\n",
       "[6 rows x 21 columns]"
      ]
     },
     "execution_count": 192,
     "metadata": {},
     "output_type": "execute_result"
    }
   ],
   "source": [
    "rides_merged.loc[rides_merged[\"total_amount\"]> 100]"
   ]
  },
  {
   "cell_type": "markdown",
   "metadata": {
    "id": "3B_Riif034C0"
   },
   "source": [
    "### 7.2) Get all instances with an average speed of smaller than 2 miles per hour and snow fall bigger than 0 mm!"
   ]
  },
  {
   "cell_type": "code",
   "execution_count": 193,
   "metadata": {
    "colab": {
     "base_uri": "https://localhost:8080/",
     "height": 207
    },
    "executionInfo": {
     "elapsed": 558,
     "status": "ok",
     "timestamp": 1583265122020,
     "user": {
      "displayName": "Ivo Blohm",
      "photoUrl": "",
      "userId": "03588522102684867783"
     },
     "user_tz": -60
    },
    "id": "tt4ai-pn34C1",
    "outputId": "3bfea3c0-62ed-4bc9-9ddf-f27c584241d2"
   },
   "outputs": [
    {
     "data": {
      "text/html": [
       "<div>\n",
       "<style scoped>\n",
       "    .dataframe tbody tr th:only-of-type {\n",
       "        vertical-align: middle;\n",
       "    }\n",
       "\n",
       "    .dataframe tbody tr th {\n",
       "        vertical-align: top;\n",
       "    }\n",
       "\n",
       "    .dataframe thead th {\n",
       "        text-align: right;\n",
       "    }\n",
       "</style>\n",
       "<table border=\"1\" class=\"dataframe\">\n",
       "  <thead>\n",
       "    <tr style=\"text-align: right;\">\n",
       "      <th></th>\n",
       "      <th>VendorID</th>\n",
       "      <th>passenger_count</th>\n",
       "      <th>trip_distance_miles</th>\n",
       "      <th>pickup_longitude</th>\n",
       "      <th>pickup_latitude</th>\n",
       "      <th>RatecodeID</th>\n",
       "      <th>dropoff_longitude</th>\n",
       "      <th>dropoff_latitude</th>\n",
       "      <th>payment_type</th>\n",
       "      <th>total_amount</th>\n",
       "      <th>...</th>\n",
       "      <th>pickup_timeOfDay</th>\n",
       "      <th>trip_distance</th>\n",
       "      <th>trip_duration</th>\n",
       "      <th>speed</th>\n",
       "      <th>Holiday</th>\n",
       "      <th>temp</th>\n",
       "      <th>fog</th>\n",
       "      <th>rain</th>\n",
       "      <th>snow</th>\n",
       "      <th>visibility</th>\n",
       "    </tr>\n",
       "  </thead>\n",
       "  <tbody>\n",
       "    <tr>\n",
       "      <th>2016-01-22</th>\n",
       "      <td>VeriFone Inc.</td>\n",
       "      <td>1</td>\n",
       "      <td>0.06</td>\n",
       "      <td>-73.985603</td>\n",
       "      <td>40.759689</td>\n",
       "      <td>Standard rate</td>\n",
       "      <td>-73.987106</td>\n",
       "      <td>40.760429</td>\n",
       "      <td>Cash</td>\n",
       "      <td>4.8</td>\n",
       "      <td>...</td>\n",
       "      <td>evening</td>\n",
       "      <td>0.09656</td>\n",
       "      <td>124</td>\n",
       "      <td>1.741935</td>\n",
       "      <td>Regular Day</td>\n",
       "      <td>-3.403704</td>\n",
       "      <td>0.0</td>\n",
       "      <td>0.0</td>\n",
       "      <td>0.185185</td>\n",
       "      <td>13.785185</td>\n",
       "    </tr>\n",
       "  </tbody>\n",
       "</table>\n",
       "<p>1 rows × 21 columns</p>\n",
       "</div>"
      ],
      "text/plain": [
       "                 VendorID  passenger_count  trip_distance_miles  \\\n",
       "2016-01-22  VeriFone Inc.                1                 0.06   \n",
       "\n",
       "            pickup_longitude  pickup_latitude     RatecodeID  \\\n",
       "2016-01-22        -73.985603        40.759689  Standard rate   \n",
       "\n",
       "            dropoff_longitude  dropoff_latitude payment_type  total_amount  \\\n",
       "2016-01-22         -73.987106         40.760429         Cash           4.8   \n",
       "\n",
       "            ...  pickup_timeOfDay trip_distance  trip_duration     speed  \\\n",
       "2016-01-22  ...           evening       0.09656            124  1.741935   \n",
       "\n",
       "                Holiday      temp  fog  rain      snow  visibility  \n",
       "2016-01-22  Regular Day -3.403704  0.0   0.0  0.185185   13.785185  \n",
       "\n",
       "[1 rows x 21 columns]"
      ]
     },
     "execution_count": 193,
     "metadata": {},
     "output_type": "execute_result"
    }
   ],
   "source": [
    "rides_merged.loc[(rides_merged[\"speed\"]<2.0) & (rides_merged[\"snow\"]>0.0)]"
   ]
  },
  {
   "cell_type": "markdown",
   "metadata": {},
   "source": [
    "Of the 10'000+ taxi trips, only 1 had an average speed smaller then 2 miles per hour when there was more than 0mm snow. Therefore, it seems that the NYC taxis are well equipped to weather the snow storms."
   ]
  },
  {
   "cell_type": "markdown",
   "metadata": {
    "id": "zUTkD0q08dp3"
   },
   "source": [
    "### 7.3) Get the total trip_destance of the different vendors (use \"VendorID\")"
   ]
  },
  {
   "cell_type": "code",
   "execution_count": 194,
   "metadata": {
    "colab": {
     "base_uri": "https://localhost:8080/",
     "height": 87
    },
    "executionInfo": {
     "elapsed": 496,
     "status": "ok",
     "timestamp": 1583265124507,
     "user": {
      "displayName": "Ivo Blohm",
      "photoUrl": "",
      "userId": "03588522102684867783"
     },
     "user_tz": -60
    },
    "id": "BJOqicUl34C8",
    "outputId": "6f3b263b-3302-46f2-cbb6-1032fbe1d589"
   },
   "outputs": [
    {
     "data": {
      "text/plain": [
       "VendorID\n",
       "Creative Mobile Technologies, LLC    10895.714602\n",
       "VeriFone Inc.                        12422.173592\n",
       "Name: trip_distance, dtype: float64"
      ]
     },
     "execution_count": 194,
     "metadata": {},
     "output_type": "execute_result"
    }
   ],
   "source": [
    "rides_merged.groupby(\"VendorID\")[\"trip_distance\"].sum()"
   ]
  },
  {
   "cell_type": "markdown",
   "metadata": {
    "id": "HFkK0Z_034DB"
   },
   "source": [
    "### 7.4) Check the correlation between \"trip_duration\" and \"snow\". Draw a scatterplot and a check the correlation."
   ]
  },
  {
   "cell_type": "code",
   "execution_count": 195,
   "metadata": {
    "id": "Z6zUCj3G34DC"
   },
   "outputs": [
    {
     "data": {
      "text/plain": [
       "<Axes: xlabel='snow', ylabel='trip_duration'>"
      ]
     },
     "execution_count": 195,
     "metadata": {},
     "output_type": "execute_result"
    },
    {
     "data": {
      "image/png": "[encoded data removed]",
      "text/plain": [
       "<Figure size 640x480 with 1 Axes>"
      ]
     },
     "metadata": {},
     "output_type": "display_data"
    }
   ],
   "source": [
    "rides_merged.plot(kind=\"scatter\", x=\"snow\", y=\"trip_duration\")"
   ]
  },
  {
   "cell_type": "markdown",
   "metadata": {},
   "source": [
    "It appears there is no correlation between the appearance of snow on a particular day and the trip duration."
   ]
  }
 ],
 "metadata": {
  "colab": {
   "name": "NYCabs.ipynb",
   "provenance": []
  },
  "kernelspec": {
   "display_name": "Python 3 (ipykernel)",
   "language": "python",
   "name": "python3"
  },
  "language_info": {
   "codemirror_mode": {
    "name": "ipython",
    "version": 3
   },
   "file_extension": ".py",
   "mimetype": "text/x-python",
   "name": "python",
   "nbconvert_exporter": "python",
   "pygments_lexer": "ipython3",
   "version": "3.10.12"
  }
 },
 "nbformat": 4,
 "nbformat_minor": 1
}
