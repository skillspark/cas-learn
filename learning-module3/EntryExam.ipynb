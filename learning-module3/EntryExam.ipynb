{
 "cells": [
  {
   "cell_type": "markdown",
   "metadata": {
    "id": "em90tC8wwI_A"
   },
   "source": [
    "## 1) Import the pandas library"
   ]
  },
  {
   "cell_type": "code",
   "execution_count": 27,
   "metadata": {
    "id": "AETs6WRov52w"
   },
   "outputs": [],
   "source": [
    "import pandas as pd"
   ]
  },
  {
   "cell_type": "markdown",
   "metadata": {
    "id": "1d1ohOWewYyY"
   },
   "source": [
    "## 2) Read in the file \"netflix_titles.csv\" and call the corresponding data frame netflix\n",
    "\n",
    "---\n",
    "\n"
   ]
  },
  {
   "cell_type": "code",
   "execution_count": 28,
   "metadata": {},
   "outputs": [],
   "source": [
    "path = \"https://raw.githubusercontent.com/casbdai/notebooks2023/main/Module3/00_Onboarding/04_EntryExam/netflix_titles.csv\"\n",
    "\n",
    "netflix = pd.read_csv(path)\n",
    "# what's the purpose of the below line, if the next code cell has .head() and .info()? Commented it out for now.\n",
    "# netflix._____"
   ]
  },
  {
   "cell_type": "markdown",
   "metadata": {
    "id": "iQKGy5yJxFcC"
   },
   "source": [
    "## 3) Use the .head() and the .info() methods to explore the structure of the dataset\n",
    "\n",
    "Answer the following questions:\n",
    "- How many features has the netflix dataframe?\n",
    "- How many instance has the dataframe?\n",
    "- What are the datatypes of the dataframe? What do the different data types means?\n",
    "- Which variables have missing values?\n"
   ]
  },
  {
   "cell_type": "code",
   "execution_count": 29,
   "metadata": {
    "id": "i41IbQ4VxMsn"
   },
   "outputs": [
    {
     "data": {
      "text/html": [
       "<div>\n",
       "<style scoped>\n",
       "    .dataframe tbody tr th:only-of-type {\n",
       "        vertical-align: middle;\n",
       "    }\n",
       "\n",
       "    .dataframe tbody tr th {\n",
       "        vertical-align: top;\n",
       "    }\n",
       "\n",
       "    .dataframe thead th {\n",
       "        text-align: right;\n",
       "    }\n",
       "</style>\n",
       "<table border=\"1\" class=\"dataframe\">\n",
       "  <thead>\n",
       "    <tr style=\"text-align: right;\">\n",
       "      <th></th>\n",
       "      <th>show_id</th>\n",
       "      <th>type</th>\n",
       "      <th>title</th>\n",
       "      <th>director</th>\n",
       "      <th>cast</th>\n",
       "      <th>country</th>\n",
       "      <th>date_added</th>\n",
       "      <th>release_year</th>\n",
       "      <th>rating</th>\n",
       "      <th>duration</th>\n",
       "      <th>listed_in</th>\n",
       "      <th>description</th>\n",
       "    </tr>\n",
       "  </thead>\n",
       "  <tbody>\n",
       "    <tr>\n",
       "      <th>0</th>\n",
       "      <td>81145628</td>\n",
       "      <td>Movie</td>\n",
       "      <td>Norm of the North: King Sized Adventure</td>\n",
       "      <td>Richard Finn, Tim Maltby</td>\n",
       "      <td>Alan Marriott, Andrew Toth, Brian Dobson, Cole...</td>\n",
       "      <td>United States, India, South Korea, China</td>\n",
       "      <td>September 9, 2019</td>\n",
       "      <td>2019</td>\n",
       "      <td>TV-PG</td>\n",
       "      <td>90 min</td>\n",
       "      <td>Children &amp; Family Movies, Comedies</td>\n",
       "      <td>Before planning an awesome wedding for his gra...</td>\n",
       "    </tr>\n",
       "    <tr>\n",
       "      <th>1</th>\n",
       "      <td>80117401</td>\n",
       "      <td>Movie</td>\n",
       "      <td>Jandino: Whatever it Takes</td>\n",
       "      <td>NaN</td>\n",
       "      <td>Jandino Asporaat</td>\n",
       "      <td>United Kingdom</td>\n",
       "      <td>September 9, 2016</td>\n",
       "      <td>2016</td>\n",
       "      <td>TV-MA</td>\n",
       "      <td>94 min</td>\n",
       "      <td>Stand-Up Comedy</td>\n",
       "      <td>Jandino Asporaat riffs on the challenges of ra...</td>\n",
       "    </tr>\n",
       "    <tr>\n",
       "      <th>2</th>\n",
       "      <td>70234439</td>\n",
       "      <td>TV Show</td>\n",
       "      <td>Transformers Prime</td>\n",
       "      <td>NaN</td>\n",
       "      <td>Peter Cullen, Sumalee Montano, Frank Welker, J...</td>\n",
       "      <td>United States</td>\n",
       "      <td>September 8, 2018</td>\n",
       "      <td>2013</td>\n",
       "      <td>TV-Y7-FV</td>\n",
       "      <td>1 Season</td>\n",
       "      <td>Kids' TV</td>\n",
       "      <td>With the help of three human allies, the Autob...</td>\n",
       "    </tr>\n",
       "    <tr>\n",
       "      <th>3</th>\n",
       "      <td>80058654</td>\n",
       "      <td>TV Show</td>\n",
       "      <td>Transformers: Robots in Disguise</td>\n",
       "      <td>NaN</td>\n",
       "      <td>Will Friedle, Darren Criss, Constance Zimmer, ...</td>\n",
       "      <td>United States</td>\n",
       "      <td>September 8, 2018</td>\n",
       "      <td>2016</td>\n",
       "      <td>TV-Y7</td>\n",
       "      <td>1 Season</td>\n",
       "      <td>Kids' TV</td>\n",
       "      <td>When a prison ship crash unleashes hundreds of...</td>\n",
       "    </tr>\n",
       "    <tr>\n",
       "      <th>4</th>\n",
       "      <td>80125979</td>\n",
       "      <td>Movie</td>\n",
       "      <td>#realityhigh</td>\n",
       "      <td>Fernando Lebrija</td>\n",
       "      <td>Nesta Cooper, Kate Walsh, John Michael Higgins...</td>\n",
       "      <td>United States</td>\n",
       "      <td>September 8, 2017</td>\n",
       "      <td>2017</td>\n",
       "      <td>TV-14</td>\n",
       "      <td>99 min</td>\n",
       "      <td>Comedies</td>\n",
       "      <td>When nerdy high schooler Dani finally attracts...</td>\n",
       "    </tr>\n",
       "  </tbody>\n",
       "</table>\n",
       "</div>"
      ],
      "text/plain": [
       "    show_id     type                                    title  \\\n",
       "0  81145628    Movie  Norm of the North: King Sized Adventure   \n",
       "1  80117401    Movie               Jandino: Whatever it Takes   \n",
       "2  70234439  TV Show                       Transformers Prime   \n",
       "3  80058654  TV Show         Transformers: Robots in Disguise   \n",
       "4  80125979    Movie                             #realityhigh   \n",
       "\n",
       "                   director  \\\n",
       "0  Richard Finn, Tim Maltby   \n",
       "1                       NaN   \n",
       "2                       NaN   \n",
       "3                       NaN   \n",
       "4          Fernando Lebrija   \n",
       "\n",
       "                                                cast  \\\n",
       "0  Alan Marriott, Andrew Toth, Brian Dobson, Cole...   \n",
       "1                                   Jandino Asporaat   \n",
       "2  Peter Cullen, Sumalee Montano, Frank Welker, J...   \n",
       "3  Will Friedle, Darren Criss, Constance Zimmer, ...   \n",
       "4  Nesta Cooper, Kate Walsh, John Michael Higgins...   \n",
       "\n",
       "                                    country         date_added  release_year  \\\n",
       "0  United States, India, South Korea, China  September 9, 2019          2019   \n",
       "1                            United Kingdom  September 9, 2016          2016   \n",
       "2                             United States  September 8, 2018          2013   \n",
       "3                             United States  September 8, 2018          2016   \n",
       "4                             United States  September 8, 2017          2017   \n",
       "\n",
       "     rating  duration                           listed_in  \\\n",
       "0     TV-PG    90 min  Children & Family Movies, Comedies   \n",
       "1     TV-MA    94 min                     Stand-Up Comedy   \n",
       "2  TV-Y7-FV  1 Season                            Kids' TV   \n",
       "3     TV-Y7  1 Season                            Kids' TV   \n",
       "4     TV-14    99 min                            Comedies   \n",
       "\n",
       "                                         description  \n",
       "0  Before planning an awesome wedding for his gra...  \n",
       "1  Jandino Asporaat riffs on the challenges of ra...  \n",
       "2  With the help of three human allies, the Autob...  \n",
       "3  When a prison ship crash unleashes hundreds of...  \n",
       "4  When nerdy high schooler Dani finally attracts...  "
      ]
     },
     "execution_count": 29,
     "metadata": {},
     "output_type": "execute_result"
    }
   ],
   "source": [
    "netflix.head()"
   ]
  },
  {
   "cell_type": "code",
   "execution_count": 30,
   "metadata": {
    "colab": {
     "base_uri": "https://localhost:8080/"
    },
    "executionInfo": {
     "elapsed": 213,
     "status": "ok",
     "timestamp": 1627389130558,
     "user": {
      "displayName": "Ivo Blohm",
      "photoUrl": "",
      "userId": "03588522102684867783"
     },
     "user_tz": -120
    },
    "id": "EOcEp1frxT7X",
    "outputId": "612a137a-d92b-46b8-d72b-b97f49704b5f"
   },
   "outputs": [
    {
     "name": "stdout",
     "output_type": "stream",
     "text": [
      "<class 'pandas.core.frame.DataFrame'>\n",
      "RangeIndex: 6234 entries, 0 to 6233\n",
      "Data columns (total 12 columns):\n",
      " #   Column        Non-Null Count  Dtype \n",
      "---  ------        --------------  ----- \n",
      " 0   show_id       6234 non-null   int64 \n",
      " 1   type          6234 non-null   object\n",
      " 2   title         6234 non-null   object\n",
      " 3   director      4265 non-null   object\n",
      " 4   cast          5664 non-null   object\n",
      " 5   country       5758 non-null   object\n",
      " 6   date_added    6223 non-null   object\n",
      " 7   release_year  6234 non-null   int64 \n",
      " 8   rating        6224 non-null   object\n",
      " 9   duration      6234 non-null   object\n",
      " 10  listed_in     6234 non-null   object\n",
      " 11  description   6234 non-null   object\n",
      "dtypes: int64(2), object(10)\n",
      "memory usage: 584.6+ KB\n"
     ]
    }
   ],
   "source": [
    "netflix.info()"
   ]
  },
  {
   "cell_type": "markdown",
   "metadata": {
    "id": "06pUtZOA7cY1"
   },
   "source": [
    "- 12 features\n",
    "- 6234 instances\n",
    "- the datatypes are: int64 and object\n",
    "- the following variables have missing values: `director`, `cast`,`country`, `date_added` and `rating` "
   ]
  },
  {
   "cell_type": "markdown",
   "metadata": {
    "id": "2-wjLgNT47tS"
   },
   "source": [
    "## 4) What is the minimum, maximum and mean of the feature \"release_year\" ?"
   ]
  },
  {
   "cell_type": "code",
   "execution_count": 31,
   "metadata": {
    "id": "VKExgeD_5GZS"
   },
   "outputs": [
    {
     "name": "stdout",
     "output_type": "stream",
     "text": [
      "Min: 1925\n"
     ]
    }
   ],
   "source": [
    "print(\"Min: \" + str(netflix[\"release_year\"].min()))"
   ]
  },
  {
   "cell_type": "code",
   "execution_count": 32,
   "metadata": {
    "id": "0bO6ufKy5LMz"
   },
   "outputs": [
    {
     "name": "stdout",
     "output_type": "stream",
     "text": [
      "Max: 2020\n"
     ]
    }
   ],
   "source": [
    "print(\"Max: \" + str(netflix[\"release_year\"].max()))"
   ]
  },
  {
   "cell_type": "code",
   "execution_count": 33,
   "metadata": {
    "id": "O5CgW5MX5PIj"
   },
   "outputs": [
    {
     "name": "stdout",
     "output_type": "stream",
     "text": [
      "Mean: 2013.3593198588387\n"
     ]
    }
   ],
   "source": [
    "print(\"Mean: \" + str(netflix[\"release_year\"].mean()))"
   ]
  },
  {
   "cell_type": "markdown",
   "metadata": {
    "id": "PVivpZiJ5gV5"
   },
   "source": [
    "## 5) Select all netflix shows that have been released in 2020? How many are these?"
   ]
  },
  {
   "cell_type": "code",
   "execution_count": 34,
   "metadata": {
    "id": "CiDp23yy5WSf"
   },
   "outputs": [
    {
     "name": "stdout",
     "output_type": "stream",
     "text": [
      "<class 'pandas.core.frame.DataFrame'>\n",
      "Int64Index: 25 entries, 1315 to 3573\n",
      "Data columns (total 12 columns):\n",
      " #   Column        Non-Null Count  Dtype \n",
      "---  ------        --------------  ----- \n",
      " 0   show_id       25 non-null     int64 \n",
      " 1   type          25 non-null     object\n",
      " 2   title         25 non-null     object\n",
      " 3   director      8 non-null      object\n",
      " 4   cast          23 non-null     object\n",
      " 5   country       18 non-null     object\n",
      " 6   date_added    25 non-null     object\n",
      " 7   release_year  25 non-null     int64 \n",
      " 8   rating        25 non-null     object\n",
      " 9   duration      25 non-null     object\n",
      " 10  listed_in     25 non-null     object\n",
      " 11  description   25 non-null     object\n",
      "dtypes: int64(2), object(10)\n",
      "memory usage: 2.5+ KB\n"
     ]
    }
   ],
   "source": [
    "netflix[netflix[\"release_year\"]==2020].info()"
   ]
  },
  {
   "cell_type": "markdown",
   "metadata": {},
   "source": [
    "There are 25 shows released in 2020."
   ]
  },
  {
   "cell_type": "markdown",
   "metadata": {
    "id": "S5vr8n9lz1SX"
   },
   "source": [
    "## 6) Create two new dataframes calles \"netflix_years\" and \"netflix_titles\". These datasets shall only contain the features \"show_id\" and \"release_year\" or \"title\""
   ]
  },
  {
   "cell_type": "code",
   "execution_count": 35,
   "metadata": {
    "id": "YBJQR2mjy8zj"
   },
   "outputs": [],
   "source": [
    "netflix_titles = netflix[[\"show_id\",\"title\"]]\n",
    "netflix_years = netflix[\"release_year\"]"
   ]
  },
  {
   "cell_type": "markdown",
   "metadata": {
    "id": "Ww99aE5K0pL4"
   },
   "source": [
    "## 7) Merge the two dataframes together using pd.concat() and pd.merge(). What is the difference between these two approaches?"
   ]
  },
  {
   "cell_type": "code",
   "execution_count": 36,
   "metadata": {
    "id": "Ho90jUU_1RV-"
   },
   "outputs": [
    {
     "data": {
      "text/html": [
       "<div>\n",
       "<style scoped>\n",
       "    .dataframe tbody tr th:only-of-type {\n",
       "        vertical-align: middle;\n",
       "    }\n",
       "\n",
       "    .dataframe tbody tr th {\n",
       "        vertical-align: top;\n",
       "    }\n",
       "\n",
       "    .dataframe thead th {\n",
       "        text-align: right;\n",
       "    }\n",
       "</style>\n",
       "<table border=\"1\" class=\"dataframe\">\n",
       "  <thead>\n",
       "    <tr style=\"text-align: right;\">\n",
       "      <th></th>\n",
       "      <th>show_id</th>\n",
       "      <th>title</th>\n",
       "      <th>release_year</th>\n",
       "    </tr>\n",
       "  </thead>\n",
       "  <tbody>\n",
       "    <tr>\n",
       "      <th>0</th>\n",
       "      <td>81145628</td>\n",
       "      <td>Norm of the North: King Sized Adventure</td>\n",
       "      <td>2019</td>\n",
       "    </tr>\n",
       "    <tr>\n",
       "      <th>1</th>\n",
       "      <td>80117401</td>\n",
       "      <td>Jandino: Whatever it Takes</td>\n",
       "      <td>2016</td>\n",
       "    </tr>\n",
       "    <tr>\n",
       "      <th>2</th>\n",
       "      <td>70234439</td>\n",
       "      <td>Transformers Prime</td>\n",
       "      <td>2013</td>\n",
       "    </tr>\n",
       "    <tr>\n",
       "      <th>3</th>\n",
       "      <td>80058654</td>\n",
       "      <td>Transformers: Robots in Disguise</td>\n",
       "      <td>2016</td>\n",
       "    </tr>\n",
       "    <tr>\n",
       "      <th>4</th>\n",
       "      <td>80125979</td>\n",
       "      <td>#realityhigh</td>\n",
       "      <td>2017</td>\n",
       "    </tr>\n",
       "    <tr>\n",
       "      <th>...</th>\n",
       "      <td>...</td>\n",
       "      <td>...</td>\n",
       "      <td>...</td>\n",
       "    </tr>\n",
       "    <tr>\n",
       "      <th>6229</th>\n",
       "      <td>80000063</td>\n",
       "      <td>Red vs. Blue</td>\n",
       "      <td>2015</td>\n",
       "    </tr>\n",
       "    <tr>\n",
       "      <th>6230</th>\n",
       "      <td>70286564</td>\n",
       "      <td>Maron</td>\n",
       "      <td>2016</td>\n",
       "    </tr>\n",
       "    <tr>\n",
       "      <th>6231</th>\n",
       "      <td>80116008</td>\n",
       "      <td>Little Baby Bum: Nursery Rhyme Friends</td>\n",
       "      <td>2016</td>\n",
       "    </tr>\n",
       "    <tr>\n",
       "      <th>6232</th>\n",
       "      <td>70281022</td>\n",
       "      <td>A Young Doctor's Notebook and Other Stories</td>\n",
       "      <td>2013</td>\n",
       "    </tr>\n",
       "    <tr>\n",
       "      <th>6233</th>\n",
       "      <td>70153404</td>\n",
       "      <td>Friends</td>\n",
       "      <td>2003</td>\n",
       "    </tr>\n",
       "  </tbody>\n",
       "</table>\n",
       "<p>6234 rows × 3 columns</p>\n",
       "</div>"
      ],
      "text/plain": [
       "       show_id                                        title  release_year\n",
       "0     81145628      Norm of the North: King Sized Adventure          2019\n",
       "1     80117401                   Jandino: Whatever it Takes          2016\n",
       "2     70234439                           Transformers Prime          2013\n",
       "3     80058654             Transformers: Robots in Disguise          2016\n",
       "4     80125979                                 #realityhigh          2017\n",
       "...        ...                                          ...           ...\n",
       "6229  80000063                                 Red vs. Blue          2015\n",
       "6230  70286564                                        Maron          2016\n",
       "6231  80116008       Little Baby Bum: Nursery Rhyme Friends          2016\n",
       "6232  70281022  A Young Doctor's Notebook and Other Stories          2013\n",
       "6233  70153404                                      Friends          2003\n",
       "\n",
       "[6234 rows x 3 columns]"
      ]
     },
     "execution_count": 36,
     "metadata": {},
     "output_type": "execute_result"
    }
   ],
   "source": [
    "netflix_concat = pd.concat([netflix_titles, netflix_years], axis=1)\n",
    "netflix_concat"
   ]
  },
  {
   "cell_type": "code",
   "execution_count": 37,
   "metadata": {
    "id": "HMN7wH4m1vT8"
   },
   "outputs": [
    {
     "data": {
      "text/html": [
       "<div>\n",
       "<style scoped>\n",
       "    .dataframe tbody tr th:only-of-type {\n",
       "        vertical-align: middle;\n",
       "    }\n",
       "\n",
       "    .dataframe tbody tr th {\n",
       "        vertical-align: top;\n",
       "    }\n",
       "\n",
       "    .dataframe thead th {\n",
       "        text-align: right;\n",
       "    }\n",
       "</style>\n",
       "<table border=\"1\" class=\"dataframe\">\n",
       "  <thead>\n",
       "    <tr style=\"text-align: right;\">\n",
       "      <th></th>\n",
       "      <th>key_0</th>\n",
       "      <th>show_id</th>\n",
       "      <th>title</th>\n",
       "      <th>release_year</th>\n",
       "    </tr>\n",
       "  </thead>\n",
       "  <tbody>\n",
       "    <tr>\n",
       "      <th>0</th>\n",
       "      <td>81145628</td>\n",
       "      <td>81145628</td>\n",
       "      <td>Norm of the North: King Sized Adventure</td>\n",
       "      <td>2019</td>\n",
       "    </tr>\n",
       "    <tr>\n",
       "      <th>1</th>\n",
       "      <td>80117401</td>\n",
       "      <td>80117401</td>\n",
       "      <td>Jandino: Whatever it Takes</td>\n",
       "      <td>2016</td>\n",
       "    </tr>\n",
       "    <tr>\n",
       "      <th>2</th>\n",
       "      <td>70234439</td>\n",
       "      <td>70234439</td>\n",
       "      <td>Transformers Prime</td>\n",
       "      <td>2013</td>\n",
       "    </tr>\n",
       "    <tr>\n",
       "      <th>3</th>\n",
       "      <td>80058654</td>\n",
       "      <td>80058654</td>\n",
       "      <td>Transformers: Robots in Disguise</td>\n",
       "      <td>2016</td>\n",
       "    </tr>\n",
       "    <tr>\n",
       "      <th>4</th>\n",
       "      <td>80125979</td>\n",
       "      <td>80125979</td>\n",
       "      <td>#realityhigh</td>\n",
       "      <td>2017</td>\n",
       "    </tr>\n",
       "    <tr>\n",
       "      <th>...</th>\n",
       "      <td>...</td>\n",
       "      <td>...</td>\n",
       "      <td>...</td>\n",
       "      <td>...</td>\n",
       "    </tr>\n",
       "    <tr>\n",
       "      <th>6229</th>\n",
       "      <td>80000063</td>\n",
       "      <td>80000063</td>\n",
       "      <td>Red vs. Blue</td>\n",
       "      <td>2015</td>\n",
       "    </tr>\n",
       "    <tr>\n",
       "      <th>6230</th>\n",
       "      <td>70286564</td>\n",
       "      <td>70286564</td>\n",
       "      <td>Maron</td>\n",
       "      <td>2016</td>\n",
       "    </tr>\n",
       "    <tr>\n",
       "      <th>6231</th>\n",
       "      <td>80116008</td>\n",
       "      <td>80116008</td>\n",
       "      <td>Little Baby Bum: Nursery Rhyme Friends</td>\n",
       "      <td>2016</td>\n",
       "    </tr>\n",
       "    <tr>\n",
       "      <th>6232</th>\n",
       "      <td>70281022</td>\n",
       "      <td>70281022</td>\n",
       "      <td>A Young Doctor's Notebook and Other Stories</td>\n",
       "      <td>2013</td>\n",
       "    </tr>\n",
       "    <tr>\n",
       "      <th>6233</th>\n",
       "      <td>70153404</td>\n",
       "      <td>70153404</td>\n",
       "      <td>Friends</td>\n",
       "      <td>2003</td>\n",
       "    </tr>\n",
       "  </tbody>\n",
       "</table>\n",
       "<p>6234 rows × 4 columns</p>\n",
       "</div>"
      ],
      "text/plain": [
       "         key_0   show_id                                        title  \\\n",
       "0     81145628  81145628      Norm of the North: King Sized Adventure   \n",
       "1     80117401  80117401                   Jandino: Whatever it Takes   \n",
       "2     70234439  70234439                           Transformers Prime   \n",
       "3     80058654  80058654             Transformers: Robots in Disguise   \n",
       "4     80125979  80125979                                 #realityhigh   \n",
       "...        ...       ...                                          ...   \n",
       "6229  80000063  80000063                                 Red vs. Blue   \n",
       "6230  70286564  70286564                                        Maron   \n",
       "6231  80116008  80116008       Little Baby Bum: Nursery Rhyme Friends   \n",
       "6232  70281022  70281022  A Young Doctor's Notebook and Other Stories   \n",
       "6233  70153404  70153404                                      Friends   \n",
       "\n",
       "      release_year  \n",
       "0             2019  \n",
       "1             2016  \n",
       "2             2013  \n",
       "3             2016  \n",
       "4             2017  \n",
       "...            ...  \n",
       "6229          2015  \n",
       "6230          2016  \n",
       "6231          2016  \n",
       "6232          2013  \n",
       "6233          2003  \n",
       "\n",
       "[6234 rows x 4 columns]"
      ]
     },
     "execution_count": 37,
     "metadata": {},
     "output_type": "execute_result"
    }
   ],
   "source": [
    "netflix_merge = pd.merge(netflix_titles, netflix_years, on=netflix_titles[\"show_id\"])\n",
    "netflix_merge"
   ]
  },
  {
   "cell_type": "markdown",
   "metadata": {},
   "source": [
    "pd.concat() copies the datasets together. If axis = 0 the datasets are copied row-wise together. If axis = 1 it is column-wise.\n",
    "\n",
    "pd.merge() merges together dataframes on a key (=show_id). Thus, it mantains the connection between the same instances (even after sorting etc.). pd.concat does not mantain the logic between instances. If one data frame is sorted ascending and the other one descending, the connection between the instances is destroyed."
   ]
  },
  {
   "cell_type": "markdown",
   "metadata": {
    "id": "fk4pvbIO54v1"
   },
   "source": [
    "## 8) Write the \"netflix_merge\" dataframe to your google drive / local harddisk as csv file"
   ]
  },
  {
   "cell_type": "markdown",
   "metadata": {},
   "source": [
    "### Google Collab (Save file to Google Drive)\n",
    "\n",
    "*Note: I'm not using Colab so I didn't complete this part* \n",
    "\n",
    "**Connect to google collab with jupyter notebook to google drive**"
   ]
  },
  {
   "cell_type": "code",
   "execution_count": 38,
   "metadata": {},
   "outputs": [],
   "source": [
    "# from google.colab import drive\n",
    "# drive.mount('/content/drive')"
   ]
  },
  {
   "cell_type": "markdown",
   "metadata": {},
   "source": [
    "**We need to adapt the path to which we want to save the file to your folder structure in your google drive**\n",
    "\n",
    "remember:\n",
    "- *drive/MyDrive* is the standard prefix to start-\n",
    "- *YOURFOLDER1/YOURFOLDER2/* resembles your folder structure that you created in google drive (you need to create the folders first)\n",
    "- the path always has to end with */* because we are adding the file name in a second step"
   ]
  },
  {
   "cell_type": "code",
   "execution_count": 39,
   "metadata": {},
   "outputs": [],
   "source": [
    "# path = \"drive/My Drive/YOURFOLDER1/YOURFOLDER2/\" #please adapt\n",
    "\n",
    "# # This is how the path looks at my google drive:\n",
    "# # path = \"drive/MyDrive/Colab Notebooks/CAS BDAI/PrepTasks Module 3/EntryExam\""
   ]
  },
  {
   "cell_type": "markdown",
   "metadata": {},
   "source": [
    "now we can save the file with pandas using the .to_csv() method"
   ]
  },
  {
   "cell_type": "code",
   "execution_count": 40,
   "metadata": {
    "id": "oqImFZxs6FGk"
   },
   "outputs": [],
   "source": [
    "# netflix_merge.to_csv(path + \"netflix_merge.csv\")"
   ]
  },
  {
   "cell_type": "markdown",
   "metadata": {},
   "source": [
    "### Anaconda (Save file to your local hard disk)\n",
    "\n",
    "*Note: I'm using VS Code, but shouldn't make any difference*\n",
    "\n"
   ]
  },
  {
   "cell_type": "markdown",
   "metadata": {},
   "source": [
    "**We need to adapt the path to which we want to save the file to your folder structure on your local hard disk**\n",
    "\n",
    "remember:\n",
    "- please change the path to the folder in which you want to save the file below such that it matches the folder structure that you created on your hard disk (you need to create the folders first)\n",
    "- the path always has to end with */* because we are adding the file name in a second step"
   ]
  },
  {
   "cell_type": "code",
   "execution_count": 41,
   "metadata": {},
   "outputs": [],
   "source": [
    "path = \"/home/jean/Documents/dev/cas-learn/learning-module3/data/\" #please adapt\n"
   ]
  },
  {
   "cell_type": "markdown",
   "metadata": {},
   "source": [
    "now we can save the file with pandas using the .to_csv() method"
   ]
  },
  {
   "cell_type": "code",
   "execution_count": 42,
   "metadata": {},
   "outputs": [],
   "source": [
    "netflix_merge.to_csv(path + \"netflix_merge.csv\")"
   ]
  }
 ],
 "metadata": {
  "colab": {
   "collapsed_sections": [],
   "name": "EntryExam.ipynb",
   "provenance": [],
   "toc_visible": true
  },
  "kernelspec": {
   "display_name": "Python 3 (ipykernel)",
   "language": "python",
   "name": "python3"
  },
  "language_info": {
   "codemirror_mode": {
    "name": "ipython",
    "version": 3
   },
   "file_extension": ".py",
   "mimetype": "text/x-python",
   "name": "python",
   "nbconvert_exporter": "python",
   "pygments_lexer": "ipython3",
   "version": "3.10.12"
  }
 },
 "nbformat": 4,
 "nbformat_minor": 1
}
